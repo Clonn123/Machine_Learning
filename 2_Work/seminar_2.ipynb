{
 "cells": [
  {
   "cell_type": "code",
   "execution_count": 146,
   "metadata": {},
   "outputs": [],
   "source": [
    "import pandas as pd\n",
    "import numpy as np\n",
    "from sklearn.feature_selection import VarianceThreshold\n",
    "import seaborn as sb\n",
    "import matplotlib.pyplot as plt\n",
    "import plotly.express as px\n",
    "from sklearn.svm import SVC\n",
    "from sklearn.model_selection import train_test_split\n",
    "from sklearn.metrics import accuracy_score\n",
    "from sklearn.preprocessing import OneHotEncoder"
   ]
  },
  {
   "cell_type": "code",
   "execution_count": 147,
   "metadata": {},
   "outputs": [
    {
     "data": {
      "text/html": [
       "<div>\n",
       "<style scoped>\n",
       "    .dataframe tbody tr th:only-of-type {\n",
       "        vertical-align: middle;\n",
       "    }\n",
       "\n",
       "    .dataframe tbody tr th {\n",
       "        vertical-align: top;\n",
       "    }\n",
       "\n",
       "    .dataframe thead th {\n",
       "        text-align: right;\n",
       "    }\n",
       "</style>\n",
       "<table border=\"1\" class=\"dataframe\">\n",
       "  <thead>\n",
       "    <tr style=\"text-align: right;\">\n",
       "      <th></th>\n",
       "      <th>school</th>\n",
       "      <th>sex</th>\n",
       "      <th>age</th>\n",
       "      <th>address</th>\n",
       "      <th>famsize</th>\n",
       "      <th>Pstatus</th>\n",
       "      <th>Medu</th>\n",
       "      <th>Fedu</th>\n",
       "      <th>Mjob</th>\n",
       "      <th>Fjob</th>\n",
       "      <th>...</th>\n",
       "      <th>famrel</th>\n",
       "      <th>freetime</th>\n",
       "      <th>goout</th>\n",
       "      <th>Dalc</th>\n",
       "      <th>Walc</th>\n",
       "      <th>health</th>\n",
       "      <th>absences</th>\n",
       "      <th>G1</th>\n",
       "      <th>G2</th>\n",
       "      <th>G3</th>\n",
       "    </tr>\n",
       "  </thead>\n",
       "  <tbody>\n",
       "    <tr>\n",
       "      <th>0</th>\n",
       "      <td>GP</td>\n",
       "      <td>F</td>\n",
       "      <td>18</td>\n",
       "      <td>U</td>\n",
       "      <td>GT3</td>\n",
       "      <td>A</td>\n",
       "      <td>4</td>\n",
       "      <td>4</td>\n",
       "      <td>at_home</td>\n",
       "      <td>teacher</td>\n",
       "      <td>...</td>\n",
       "      <td>4</td>\n",
       "      <td>3</td>\n",
       "      <td>4</td>\n",
       "      <td>1</td>\n",
       "      <td>1</td>\n",
       "      <td>3</td>\n",
       "      <td>6</td>\n",
       "      <td>5</td>\n",
       "      <td>6</td>\n",
       "      <td>6</td>\n",
       "    </tr>\n",
       "    <tr>\n",
       "      <th>1</th>\n",
       "      <td>GP</td>\n",
       "      <td>F</td>\n",
       "      <td>17</td>\n",
       "      <td>U</td>\n",
       "      <td>GT3</td>\n",
       "      <td>T</td>\n",
       "      <td>1</td>\n",
       "      <td>1</td>\n",
       "      <td>at_home</td>\n",
       "      <td>other</td>\n",
       "      <td>...</td>\n",
       "      <td>5</td>\n",
       "      <td>3</td>\n",
       "      <td>3</td>\n",
       "      <td>1</td>\n",
       "      <td>1</td>\n",
       "      <td>3</td>\n",
       "      <td>4</td>\n",
       "      <td>5</td>\n",
       "      <td>5</td>\n",
       "      <td>6</td>\n",
       "    </tr>\n",
       "    <tr>\n",
       "      <th>2</th>\n",
       "      <td>GP</td>\n",
       "      <td>F</td>\n",
       "      <td>15</td>\n",
       "      <td>U</td>\n",
       "      <td>LE3</td>\n",
       "      <td>T</td>\n",
       "      <td>1</td>\n",
       "      <td>1</td>\n",
       "      <td>at_home</td>\n",
       "      <td>other</td>\n",
       "      <td>...</td>\n",
       "      <td>4</td>\n",
       "      <td>3</td>\n",
       "      <td>2</td>\n",
       "      <td>2</td>\n",
       "      <td>3</td>\n",
       "      <td>3</td>\n",
       "      <td>10</td>\n",
       "      <td>7</td>\n",
       "      <td>8</td>\n",
       "      <td>10</td>\n",
       "    </tr>\n",
       "    <tr>\n",
       "      <th>3</th>\n",
       "      <td>GP</td>\n",
       "      <td>F</td>\n",
       "      <td>15</td>\n",
       "      <td>U</td>\n",
       "      <td>GT3</td>\n",
       "      <td>T</td>\n",
       "      <td>4</td>\n",
       "      <td>2</td>\n",
       "      <td>health</td>\n",
       "      <td>services</td>\n",
       "      <td>...</td>\n",
       "      <td>3</td>\n",
       "      <td>2</td>\n",
       "      <td>2</td>\n",
       "      <td>1</td>\n",
       "      <td>1</td>\n",
       "      <td>5</td>\n",
       "      <td>2</td>\n",
       "      <td>15</td>\n",
       "      <td>14</td>\n",
       "      <td>15</td>\n",
       "    </tr>\n",
       "    <tr>\n",
       "      <th>4</th>\n",
       "      <td>GP</td>\n",
       "      <td>F</td>\n",
       "      <td>16</td>\n",
       "      <td>U</td>\n",
       "      <td>GT3</td>\n",
       "      <td>T</td>\n",
       "      <td>3</td>\n",
       "      <td>3</td>\n",
       "      <td>other</td>\n",
       "      <td>other</td>\n",
       "      <td>...</td>\n",
       "      <td>4</td>\n",
       "      <td>3</td>\n",
       "      <td>2</td>\n",
       "      <td>1</td>\n",
       "      <td>2</td>\n",
       "      <td>5</td>\n",
       "      <td>4</td>\n",
       "      <td>6</td>\n",
       "      <td>10</td>\n",
       "      <td>10</td>\n",
       "    </tr>\n",
       "  </tbody>\n",
       "</table>\n",
       "<p>5 rows × 33 columns</p>\n",
       "</div>"
      ],
      "text/plain": [
       "  school sex  age address famsize Pstatus  Medu  Fedu     Mjob      Fjob  ...  \\\n",
       "0     GP   F   18       U     GT3       A     4     4  at_home   teacher  ...   \n",
       "1     GP   F   17       U     GT3       T     1     1  at_home     other  ...   \n",
       "2     GP   F   15       U     LE3       T     1     1  at_home     other  ...   \n",
       "3     GP   F   15       U     GT3       T     4     2   health  services  ...   \n",
       "4     GP   F   16       U     GT3       T     3     3    other     other  ...   \n",
       "\n",
       "  famrel freetime  goout  Dalc  Walc health absences  G1  G2  G3  \n",
       "0      4        3      4     1     1      3        6   5   6   6  \n",
       "1      5        3      3     1     1      3        4   5   5   6  \n",
       "2      4        3      2     2     3      3       10   7   8  10  \n",
       "3      3        2      2     1     1      5        2  15  14  15  \n",
       "4      4        3      2     1     2      5        4   6  10  10  \n",
       "\n",
       "[5 rows x 33 columns]"
      ]
     },
     "execution_count": 147,
     "metadata": {},
     "output_type": "execute_result"
    }
   ],
   "source": [
    "# Импортирование CSV\n",
    "df = pd.read_csv('student-mat.csv', sep = ',') # DataFrame\n",
    "\n",
    "# Определяем наш целевой столбец и порог для успешной сдачи\n",
    "target_column_name = 'G3'\n",
    "passing_grade_threshold = 5  # Пример порога\n",
    "\n",
    "df.head()"
   ]
  },
  {
   "cell_type": "markdown",
   "metadata": {},
   "source": [
    "О наборе данных\n",
    "=========\n",
    "# Контекст:\n",
    "Данные были получены в ходе опроса учащихся курсов математики и португальского языка в средней школе. Он содержит много интересной социальной, гендерной и учебной информации о студентах.\n",
    "\n",
    "# Содержание:\n",
    "Атрибуты для наборов данных Student-mat.csv (курс математики) и Student-por.csv (курс португальского языка):\n",
    "```\n",
    "school - школа ученика (двоичный код: 'GP' - Габриэль Перейра или 'MS' - Мусиньо да Силвейра)\n",
    "sex — пол студента (двоичный код: «Ж» — женский или «М» — мужской)\n",
    "age - возраст ученика (числовой: от 15 до 22)\n",
    "address - тип домашнего адреса студента (двоичный: 'U' - городской или 'R' - сельский)\n",
    "famsize — размер семейства (двоичный: «LE3» — меньше или равно 3 или «GT3» — больше 3)\n",
    "Pstatus — статус совместного проживания родителей (двоичный код: «Т» — проживание вместе или «А» — раздельно)\n",
    "Medu — образование матери (числовое: 0 — нет, 1 — начальное образование (4 класс), 2 — с 5 по 9 классы, 3 — среднее образование или 4 — высшее образование)\n",
    "Fedu — образование отца (числовое: 0 — нет, 1 — начальное образование (4 класс), 2 — с 5 по 9 классы, 3 — среднее образование или 4 — высшее образование)\n",
    "Mjob - работа матери (номинал: «учитель», «связанный со здравоохранением», гражданские «службы» (например, административные или полицейские), «на дому» или «другое»)\n",
    "Fjob - работа отца (номинал: «учитель», «связанный со здравоохранением», гражданские «службы» (например, административные или полицейские), «на дому» или «другое»)\n",
    "reason - причина выбрать эту школу (номинал: близок к «дому», «репутация» школы, предпочтение «курса» или «другое»)\n",
    "guardian - опекун ученика (номинальное: «мать», «отец» или «другой»)\n",
    "traveltime — время в пути домой в школу (числовое: 1 – <15 минут, 2 – 15 – 30 минут, 3 – 30 минут до 1 часа или 4 – >1 часа)\n",
    "Studytime — еженедельное время обучения (числовое: 1 — <2 часов, 2 — 2–5 часов, 3 — 5–10 часов или 4 — >10 часов)\n",
    "failures - количество прошлых сбоев класса (числовое: n, если 1<=n<3, иначе 4)\n",
    "schoolup - дополнительная образовательная поддержка (двоичный код: да или нет)\n",
    "famsup — образовательная поддержка семьи (двоичный код: да или нет)\n",
    "paid — дополнительные платные занятия по предмету курса (математика или португальский язык) (двоичный код: да или нет)\n",
    "activities – внеклассные мероприятия (бинарный вариант: да или нет)\n",
    "nursery - посещал детский сад (двоичный вариант: да или нет)\n",
    "higher – хочет получить высшее образование (двоичный вариант: да или нет)\n",
    "Internet — доступ в Интернет дома (двоичный код: да или нет)\n",
    "romantic – с романтическими отношениями (бинарный: да или нет)\n",
    "famrel - качество семейных отношений (числовое: от 1 - очень плохо до 5 - отлично)\n",
    "freetime – свободное время после школы (числовое: от 1 – очень низкое до 5 – очень высокое)\n",
    "goout – встреча с друзьями (числовое: от 1 – очень низкий до 5 – очень высокий)\n",
    "Dalc - потребление алкоголя в течение рабочего дня (числовое: от 1 - очень низкое до 5 - очень высокое)\n",
    "Walc – потребление алкоголя в выходные дни (числовое: от 1 – очень низкое до 5 – очень высокое)\n",
    "health – текущее состояние здоровья (числовое: от 1 – очень плохое до 5 – очень хорошее)\n",
    "absences - количество пропусков в школе (числовое: от 0 до 93)\n",
    "```\n",
    "\n",
    "Эти оценки связаны с предметом курса (математика или португальский язык):\n",
    "```\n",
    "G1 – оценка первого периода (числовая: от 0 до 20)\n",
    "G2 – оценка за второй период (числовая: от 0 до 20)\n",
    "G3 — итоговая оценка (числовая: от 0 до 20, выходная цель)\n",
    "Дополнительное примечание: есть несколько (382) студентов, принадлежащих к обоим наборам данных.\n",
    "Этих учащихся можно идентифицировать путем поиска идентичных атрибутов, характеризующих каждого учащегося, как показано в прилагаемом файле R.\n",
    "```\n"
   ]
  },
  {
   "cell_type": "markdown",
   "metadata": {},
   "source": [
    "Для чего датасет\n",
    "====\n",
    "Датасет \"Student Alcohol Consumption\" содержит информацию о студентах и в частности о потреблении ими алкоголя. Этот датасет может быть полезен для различных анализов и исследований в области образования и здоровья студентов. Вот несколько причин, почему этот датасет может быть полезным:\n",
    "\n",
    "    Изучение факторов, влияющих на успеваемость студентов: Вы можете использовать этот датасет, чтобы выяснить, как различные факторы, такие как уровень образования родителей, время, проведенное за учебой, и потребление алкоголя, влияют на успеваемость студентов.\n",
    "\n",
    "    Анализ влияния здоровья и потребления алкоголя: Датасет включает информацию о здоровье студентов и их потреблении алкоголя. Это может быть полезно для изучения связи между здоровьем и образом жизни студентов.\n",
    "\n",
    "    Разработка стратегий для улучшения образования: Исследование этого датасета может помочь школам и учебным заведениям разработать стратегии для улучшения успеваемости студентов и их общего благосостояния.\n",
    "\n",
    "    Предсказание успеваемости студентов: На основе данных о студентах можно попытаться разработать модель для предсказания их будущей успеваемости.\n",
    "\n",
    "    Анализ социальных и гендерных аспектов образования: Датасет также включает информацию о социальных и гендерных характеристиках студентов, что позволяет изучать социальные тенденции в образовании.\n",
    "\n",
    "В датасете содержатся различные числовые и категориальные признаки, которые могут быть использованы для проведения анализа и построения моделей машинного обучения. Исследование этого датасета может принести пользу как образовательным учреждениям, так и исследователям в области образования и здоровья."
   ]
  },
  {
   "cell_type": "markdown",
   "metadata": {},
   "source": [
    "Добавление новых численных показателей (колонок)\n",
    "---"
   ]
  },
  {
   "cell_type": "code",
   "execution_count": 148,
   "metadata": {},
   "outputs": [
    {
     "name": "stdout",
     "output_type": "stream",
     "text": [
      "    school sex  age address famsize Pstatus  Medu  Fedu      Mjob      Fjob  \\\n",
      "0       GP   F   18       U     GT3       A     4     4   at_home   teacher   \n",
      "1       GP   F   17       U     GT3       T     1     1   at_home     other   \n",
      "2       GP   F   15       U     LE3       T     1     1   at_home     other   \n",
      "3       GP   F   15       U     GT3       T     4     2    health  services   \n",
      "4       GP   F   16       U     GT3       T     3     3     other     other   \n",
      "..     ...  ..  ...     ...     ...     ...   ...   ...       ...       ...   \n",
      "390     MS   M   20       U     LE3       A     2     2  services  services   \n",
      "391     MS   M   17       U     LE3       T     3     1  services  services   \n",
      "392     MS   M   21       R     GT3       T     1     1     other     other   \n",
      "393     MS   M   18       R     LE3       T     3     2  services     other   \n",
      "394     MS   M   19       U     LE3       T     1     1     other   at_home   \n",
      "\n",
      "     ... Dalc Walc  health  absences  G1  G2  G3 average_grade  \\\n",
      "0    ...    1    1       3         6   5   6   6      5.666667   \n",
      "1    ...    1    1       3         4   5   5   6      5.333333   \n",
      "2    ...    2    3       3        10   7   8  10      8.333333   \n",
      "3    ...    1    1       5         2  15  14  15     14.666667   \n",
      "4    ...    1    2       5         4   6  10  10      8.666667   \n",
      "..   ...  ...  ...     ...       ...  ..  ..  ..           ...   \n",
      "390  ...    4    5       4        11   9   9   9      9.000000   \n",
      "391  ...    3    4       2         3  14  16  16     15.333333   \n",
      "392  ...    3    3       3         3  10   8   7      8.333333   \n",
      "393  ...    3    4       5         0  11  12  10     11.000000   \n",
      "394  ...    3    3       5         5   8   9   9      8.666667   \n",
      "\n",
      "    total_alcohol_consumption pass_exam  \n",
      "0                           2         1  \n",
      "1                           2         1  \n",
      "2                           5         1  \n",
      "3                           2         1  \n",
      "4                           3         1  \n",
      "..                        ...       ...  \n",
      "390                         9         1  \n",
      "391                         7         1  \n",
      "392                         6         1  \n",
      "393                         7         1  \n",
      "394                         6         1  \n",
      "\n",
      "[395 rows x 36 columns]\n"
     ]
    }
   ],
   "source": [
    "# Вычисляем среднюю оценку\n",
    "df['average_grade'] = (df['G1'] + df['G2'] + df['G3']) / 3\n",
    "\n",
    "# Вычисляем суммарное потребление алкоголя\n",
    "df['total_alcohol_consumption'] = df['Dalc'] + df['Walc']\n",
    "\n",
    "df['pass_exam'] = (df[target_column_name] > passing_grade_threshold).astype(int) # Это для бинарного\n",
    "\n",
    "# Выводим обновленный DataFrame\n",
    "print(df)"
   ]
  },
  {
   "cell_type": "markdown",
   "metadata": {},
   "source": [
    "Удаление колонок с околонулевой дисперсией\n",
    "----"
   ]
  },
  {
   "cell_type": "code",
   "execution_count": 149,
   "metadata": {},
   "outputs": [
    {
     "name": "stdout",
     "output_type": "stream",
     "text": [
      "    school sex  age address famsize Pstatus  Medu  Fedu      Mjob      Fjob  \\\n",
      "0       GP   F   18       U     GT3       A     4     4   at_home   teacher   \n",
      "1       GP   F   17       U     GT3       T     1     1   at_home     other   \n",
      "2       GP   F   15       U     LE3       T     1     1   at_home     other   \n",
      "3       GP   F   15       U     GT3       T     4     2    health  services   \n",
      "4       GP   F   16       U     GT3       T     3     3     other     other   \n",
      "..     ...  ..  ...     ...     ...     ...   ...   ...       ...       ...   \n",
      "390     MS   M   20       U     LE3       A     2     2  services  services   \n",
      "391     MS   M   17       U     LE3       T     3     1  services  services   \n",
      "392     MS   M   21       R     GT3       T     1     1     other     other   \n",
      "393     MS   M   18       R     LE3       T     3     2  services     other   \n",
      "394     MS   M   19       U     LE3       T     1     1     other   at_home   \n",
      "\n",
      "     ... goout Walc health absences  G1  G2  G3 average_grade  \\\n",
      "0    ...     4    1      3        6   5   6   6      5.666667   \n",
      "1    ...     3    1      3        4   5   5   6      5.333333   \n",
      "2    ...     2    3      3       10   7   8  10      8.333333   \n",
      "3    ...     2    1      5        2  15  14  15     14.666667   \n",
      "4    ...     2    2      5        4   6  10  10      8.666667   \n",
      "..   ...   ...  ...    ...      ...  ..  ..  ..           ...   \n",
      "390  ...     4    5      4       11   9   9   9      9.000000   \n",
      "391  ...     5    4      2        3  14  16  16     15.333333   \n",
      "392  ...     3    3      3        3  10   8   7      8.333333   \n",
      "393  ...     1    4      5        0  11  12  10     11.000000   \n",
      "394  ...     3    3      5        5   8   9   9      8.666667   \n",
      "\n",
      "    total_alcohol_consumption pass_exam  \n",
      "0                           2         1  \n",
      "1                           2         1  \n",
      "2                           5         1  \n",
      "3                           2         1  \n",
      "4                           3         1  \n",
      "..                        ...       ...  \n",
      "390                         9         1  \n",
      "391                         7         1  \n",
      "392                         6         1  \n",
      "393                         7         1  \n",
      "394                         6         1  \n",
      "\n",
      "[395 rows x 30 columns]\n",
      "Убрали:\n",
      "['traveltime', 'studytime', 'failures', 'famrel', 'freetime', 'Dalc']\n"
     ]
    }
   ],
   "source": [
    "# Оставляем только числовые колонки\n",
    "numerical_columns = df.select_dtypes(include=['number']).drop(columns=[target_column_name, 'pass_exam'])\n",
    "\n",
    "# Удаляем колонки с околонулевой дисперсией\n",
    "threshold = 1  # Установливаем порог\n",
    "to_drop = [col for col in numerical_columns.columns if numerical_columns[col].var() < threshold]\n",
    "df_cleaned = df.drop(columns=to_drop)\n",
    "\n",
    "# Теперь df_cleaned содержит только числовые колонки без тех, у которых дисперсия меньше порога\n",
    "# Выводим обновленный DataFrame\n",
    "print(df_cleaned)\n",
    "# Выводим убранные столбцы\n",
    "print(\"Убрали:\")\n",
    "print(to_drop)"
   ]
  },
  {
   "cell_type": "markdown",
   "metadata": {},
   "source": [
    "Удаление колонок с высокой корреляцией\n",
    "---"
   ]
  },
  {
   "cell_type": "code",
   "execution_count": 150,
   "metadata": {},
   "outputs": [
    {
     "name": "stdout",
     "output_type": "stream",
     "text": [
      "    school sex  age address famsize Pstatus  Medu  Fedu      Mjob      Fjob  \\\n",
      "0       GP   F   18       U     GT3       A     4     4   at_home   teacher   \n",
      "1       GP   F   17       U     GT3       T     1     1   at_home     other   \n",
      "2       GP   F   15       U     LE3       T     1     1   at_home     other   \n",
      "3       GP   F   15       U     GT3       T     4     2    health  services   \n",
      "4       GP   F   16       U     GT3       T     3     3     other     other   \n",
      "..     ...  ..  ...     ...     ...     ...   ...   ...       ...       ...   \n",
      "390     MS   M   20       U     LE3       A     2     2  services  services   \n",
      "391     MS   M   17       U     LE3       T     3     1  services  services   \n",
      "392     MS   M   21       R     GT3       T     1     1     other     other   \n",
      "393     MS   M   18       R     LE3       T     3     2  services     other   \n",
      "394     MS   M   19       U     LE3       T     1     1     other   at_home   \n",
      "\n",
      "     ... internet romantic goout Walc health absences  G1  G2  G3 pass_exam  \n",
      "0    ...       no       no     4    1      3        6   5   6   6         1  \n",
      "1    ...      yes       no     3    1      3        4   5   5   6         1  \n",
      "2    ...      yes       no     2    3      3       10   7   8  10         1  \n",
      "3    ...      yes      yes     2    1      5        2  15  14  15         1  \n",
      "4    ...       no       no     2    2      5        4   6  10  10         1  \n",
      "..   ...      ...      ...   ...  ...    ...      ...  ..  ..  ..       ...  \n",
      "390  ...       no       no     4    5      4       11   9   9   9         1  \n",
      "391  ...      yes       no     5    4      2        3  14  16  16         1  \n",
      "392  ...       no       no     3    3      3        3  10   8   7         1  \n",
      "393  ...      yes       no     1    4      5        0  11  12  10         1  \n",
      "394  ...      yes       no     3    3      5        5   8   9   9         1  \n",
      "\n",
      "[395 rows x 28 columns]\n",
      "Убрали:\n",
      "['average_grade', 'total_alcohol_consumption']\n"
     ]
    }
   ],
   "source": [
    "# Оставляем только числовые столбцы\n",
    "numeric_columns = df_cleaned.select_dtypes(include=['number']).drop(columns=[target_column_name, 'pass_exam'])\n",
    "# Порог корреляции\n",
    "threshold_corr = 0.9  \n",
    "# Создаем корреляционную матрицу для числовых столбцов\n",
    "corr_matrix = numeric_columns.corr().abs()\n",
    "# Создаем булеву маску для верхнего треугольника матрицы\n",
    "upper_triangle = corr_matrix.where(np.triu(np.ones(corr_matrix.shape), k=1).astype(bool))\n",
    "# Ищем столбцы, которые нужно удалить\n",
    "to_drop = [column for column in upper_triangle.columns if any(upper_triangle[column] > threshold_corr)]\n",
    "# Удаляем столбцы с высокой корреляцией\n",
    "df_cleaned.drop(to_drop, axis=1, inplace=True)\n",
    "# Выводим обновленный DataFrame\n",
    "print(df_cleaned)\n",
    "# Выводим убранные столбцы\n",
    "print(\"Убрали:\")\n",
    "print(to_drop)"
   ]
  },
  {
   "cell_type": "markdown",
   "metadata": {},
   "source": [
    "Удаление выбросов\n",
    "---"
   ]
  },
  {
   "cell_type": "code",
   "execution_count": 151,
   "metadata": {},
   "outputs": [
    {
     "name": "stdout",
     "output_type": "stream",
     "text": [
      "    school sex  age address famsize Pstatus  Medu  Fedu      Mjob      Fjob  \\\n",
      "0       GP   F   18       U     GT3       A     4     4   at_home   teacher   \n",
      "1       GP   F   17       U     GT3       T     1     1   at_home     other   \n",
      "2       GP   F   15       U     LE3       T     1     1   at_home     other   \n",
      "3       GP   F   15       U     GT3       T     4     2    health  services   \n",
      "4       GP   F   16       U     GT3       T     3     3     other     other   \n",
      "..     ...  ..  ...     ...     ...     ...   ...   ...       ...       ...   \n",
      "390     MS   M   20       U     LE3       A     2     2  services  services   \n",
      "391     MS   M   17       U     LE3       T     3     1  services  services   \n",
      "392     MS   M   21       R     GT3       T     1     1     other     other   \n",
      "393     MS   M   18       R     LE3       T     3     2  services     other   \n",
      "394     MS   M   19       U     LE3       T     1     1     other   at_home   \n",
      "\n",
      "     ... internet romantic goout Walc health absences  G1  G2  G3 pass_exam  \n",
      "0    ...       no       no     4    1      3        6   5   6   6         1  \n",
      "1    ...      yes       no     3    1      3        4   5   5   6         1  \n",
      "2    ...      yes       no     2    3      3       10   7   8  10         1  \n",
      "3    ...      yes      yes     2    1      5        2  15  14  15         1  \n",
      "4    ...       no       no     2    2      5        4   6  10  10         1  \n",
      "..   ...      ...      ...   ...  ...    ...      ...  ..  ..  ..       ...  \n",
      "390  ...       no       no     4    5      4       11   9   9   9         1  \n",
      "391  ...      yes       no     5    4      2        3  14  16  16         1  \n",
      "392  ...       no       no     3    3      3        3  10   8   7         1  \n",
      "393  ...      yes       no     1    4      5        0  11  12  10         1  \n",
      "394  ...      yes       no     3    3      5        5   8   9   9         1  \n",
      "\n",
      "[379 rows x 28 columns]\n"
     ]
    }
   ],
   "source": [
    "# Определение выбросов в столбце 'age' с использованием межквартильного размаха\n",
    "Q1_age = df_cleaned['age'].quantile(0.25)\n",
    "Q3_age = df_cleaned['age'].quantile(0.75)\n",
    "IQR_age = Q3_age - Q1_age\n",
    "lower_bound_age = Q1_age - 1.5 * IQR_age\n",
    "upper_bound_age = Q3_age + 1.5 * IQR_age\n",
    "\n",
    "# Определение выбросов в столбце 'absences' с использованием межквартильного размаха\n",
    "Q1_absences = df_cleaned['absences'].quantile(0.25)\n",
    "Q3_absences = df_cleaned['absences'].quantile(0.75)\n",
    "IQR_absences = Q3_absences - Q1_absences\n",
    "lower_bound_absences = Q1_absences - 1.5 * IQR_absences\n",
    "upper_bound_absences = Q3_absences + 1.5 * IQR_absences\n",
    "\n",
    "# Удаление выбросов\n",
    "df_cleaned = df_cleaned[(df_cleaned['age'] >= lower_bound_age) & (df_cleaned['age'] <= upper_bound_age) &\n",
    "                (df_cleaned['absences'] >= lower_bound_absences) & (df_cleaned['absences'] <= upper_bound_absences)]\n",
    "\n",
    "# Выводим обновленный DataFrame\n",
    "print(df_cleaned)"
   ]
  },
  {
   "cell_type": "code",
   "execution_count": 152,
   "metadata": {},
   "outputs": [
    {
     "data": {
      "application/vnd.plotly.v1+json": {
       "config": {
        "plotlyServerURL": "https://plot.ly"
       },
       "data": [
        {
         "alignmentgroup": "True",
         "hovertemplate": "absences=%{y}<extra></extra>",
         "legendgroup": "",
         "marker": {
          "color": "darkorange"
         },
         "name": "",
         "notched": false,
         "offsetgroup": "",
         "orientation": "v",
         "showlegend": false,
         "type": "box",
         "x0": " ",
         "xaxis": "x",
         "y": [
          6,
          4,
          10,
          2,
          4,
          10,
          0,
          6,
          0,
          0,
          0,
          4,
          2,
          2,
          0,
          4,
          6,
          4,
          16,
          4,
          0,
          0,
          2,
          0,
          2,
          14,
          2,
          4,
          4,
          16,
          0,
          0,
          0,
          0,
          0,
          0,
          2,
          7,
          2,
          8,
          8,
          2,
          0,
          14,
          8,
          12,
          4,
          2,
          2,
          2,
          2,
          6,
          0,
          6,
          8,
          0,
          4,
          2,
          2,
          6,
          6,
          4,
          2,
          0,
          2,
          4,
          4,
          2,
          12,
          0,
          0,
          2,
          2,
          6,
          8,
          0,
          2,
          12,
          2,
          4,
          10,
          4,
          2,
          6,
          4,
          4,
          12,
          18,
          0,
          4,
          4,
          0,
          6,
          2,
          2,
          2,
          6,
          0,
          14,
          0,
          4,
          0,
          10,
          8,
          2,
          6,
          4,
          6,
          0,
          6,
          10,
          8,
          2,
          2,
          0,
          20,
          6,
          2,
          6,
          2,
          18,
          0,
          0,
          0,
          2,
          0,
          8,
          0,
          0,
          12,
          16,
          0,
          0,
          0,
          0,
          0,
          0,
          0,
          8,
          2,
          2,
          0,
          0,
          0,
          2,
          0,
          0,
          0,
          6,
          8,
          0,
          0,
          2,
          8,
          6,
          2,
          4,
          0,
          6,
          0,
          2,
          0,
          16,
          4,
          0,
          0,
          0,
          0,
          2,
          0,
          0,
          4,
          4,
          2,
          4,
          10,
          4,
          10,
          2,
          0,
          14,
          12,
          2,
          0,
          6,
          4,
          10,
          0,
          12,
          8,
          0,
          0,
          4,
          8,
          0,
          2,
          6,
          4,
          18,
          6,
          5,
          10,
          6,
          6,
          10,
          13,
          0,
          15,
          12,
          2,
          13,
          3,
          4,
          2,
          0,
          2,
          0,
          0,
          16,
          10,
          2,
          14,
          10,
          14,
          4,
          14,
          2,
          18,
          10,
          4,
          20,
          2,
          0,
          14,
          2,
          0,
          0,
          0,
          6,
          4,
          8,
          0,
          0,
          6,
          4,
          0,
          0,
          2,
          6,
          12,
          8,
          0,
          2,
          1,
          4,
          0,
          13,
          2,
          8,
          10,
          0,
          15,
          4,
          2,
          2,
          2,
          6,
          15,
          8,
          19,
          1,
          4,
          4,
          2,
          5,
          6,
          6,
          9,
          11,
          0,
          12,
          6,
          8,
          4,
          0,
          10,
          0,
          5,
          14,
          0,
          0,
          0,
          20,
          8,
          0,
          0,
          18,
          0,
          20,
          3,
          14,
          0,
          9,
          0,
          2,
          12,
          3,
          1,
          0,
          3,
          3,
          8,
          7,
          4,
          2,
          7,
          0,
          0,
          0,
          16,
          12,
          0,
          7,
          4,
          4,
          0,
          11,
          0,
          4,
          7,
          9,
          0,
          0,
          10,
          8,
          2,
          7,
          4,
          4,
          0,
          4,
          2,
          4,
          0,
          0,
          2,
          0,
          0,
          0,
          4,
          0,
          0,
          0,
          10,
          4,
          3,
          8,
          14,
          0,
          2,
          4,
          4,
          0,
          17,
          4,
          5,
          2,
          0,
          14,
          2,
          7,
          0,
          0,
          0,
          11,
          3,
          3,
          0,
          5
         ],
         "y0": " ",
         "yaxis": "y"
        }
       ],
       "layout": {
        "boxmode": "group",
        "legend": {
         "tracegroupgap": 0
        },
        "showlegend": false,
        "template": {
         "data": {
          "bar": [
           {
            "error_x": {
             "color": "#2a3f5f"
            },
            "error_y": {
             "color": "#2a3f5f"
            },
            "marker": {
             "line": {
              "color": "#E5ECF6",
              "width": 0.5
             },
             "pattern": {
              "fillmode": "overlay",
              "size": 10,
              "solidity": 0.2
             }
            },
            "type": "bar"
           }
          ],
          "barpolar": [
           {
            "marker": {
             "line": {
              "color": "#E5ECF6",
              "width": 0.5
             },
             "pattern": {
              "fillmode": "overlay",
              "size": 10,
              "solidity": 0.2
             }
            },
            "type": "barpolar"
           }
          ],
          "carpet": [
           {
            "aaxis": {
             "endlinecolor": "#2a3f5f",
             "gridcolor": "white",
             "linecolor": "white",
             "minorgridcolor": "white",
             "startlinecolor": "#2a3f5f"
            },
            "baxis": {
             "endlinecolor": "#2a3f5f",
             "gridcolor": "white",
             "linecolor": "white",
             "minorgridcolor": "white",
             "startlinecolor": "#2a3f5f"
            },
            "type": "carpet"
           }
          ],
          "choropleth": [
           {
            "colorbar": {
             "outlinewidth": 0,
             "ticks": ""
            },
            "type": "choropleth"
           }
          ],
          "contour": [
           {
            "colorbar": {
             "outlinewidth": 0,
             "ticks": ""
            },
            "colorscale": [
             [
              0,
              "#0d0887"
             ],
             [
              0.1111111111111111,
              "#46039f"
             ],
             [
              0.2222222222222222,
              "#7201a8"
             ],
             [
              0.3333333333333333,
              "#9c179e"
             ],
             [
              0.4444444444444444,
              "#bd3786"
             ],
             [
              0.5555555555555556,
              "#d8576b"
             ],
             [
              0.6666666666666666,
              "#ed7953"
             ],
             [
              0.7777777777777778,
              "#fb9f3a"
             ],
             [
              0.8888888888888888,
              "#fdca26"
             ],
             [
              1,
              "#f0f921"
             ]
            ],
            "type": "contour"
           }
          ],
          "contourcarpet": [
           {
            "colorbar": {
             "outlinewidth": 0,
             "ticks": ""
            },
            "type": "contourcarpet"
           }
          ],
          "heatmap": [
           {
            "colorbar": {
             "outlinewidth": 0,
             "ticks": ""
            },
            "colorscale": [
             [
              0,
              "#0d0887"
             ],
             [
              0.1111111111111111,
              "#46039f"
             ],
             [
              0.2222222222222222,
              "#7201a8"
             ],
             [
              0.3333333333333333,
              "#9c179e"
             ],
             [
              0.4444444444444444,
              "#bd3786"
             ],
             [
              0.5555555555555556,
              "#d8576b"
             ],
             [
              0.6666666666666666,
              "#ed7953"
             ],
             [
              0.7777777777777778,
              "#fb9f3a"
             ],
             [
              0.8888888888888888,
              "#fdca26"
             ],
             [
              1,
              "#f0f921"
             ]
            ],
            "type": "heatmap"
           }
          ],
          "heatmapgl": [
           {
            "colorbar": {
             "outlinewidth": 0,
             "ticks": ""
            },
            "colorscale": [
             [
              0,
              "#0d0887"
             ],
             [
              0.1111111111111111,
              "#46039f"
             ],
             [
              0.2222222222222222,
              "#7201a8"
             ],
             [
              0.3333333333333333,
              "#9c179e"
             ],
             [
              0.4444444444444444,
              "#bd3786"
             ],
             [
              0.5555555555555556,
              "#d8576b"
             ],
             [
              0.6666666666666666,
              "#ed7953"
             ],
             [
              0.7777777777777778,
              "#fb9f3a"
             ],
             [
              0.8888888888888888,
              "#fdca26"
             ],
             [
              1,
              "#f0f921"
             ]
            ],
            "type": "heatmapgl"
           }
          ],
          "histogram": [
           {
            "marker": {
             "pattern": {
              "fillmode": "overlay",
              "size": 10,
              "solidity": 0.2
             }
            },
            "type": "histogram"
           }
          ],
          "histogram2d": [
           {
            "colorbar": {
             "outlinewidth": 0,
             "ticks": ""
            },
            "colorscale": [
             [
              0,
              "#0d0887"
             ],
             [
              0.1111111111111111,
              "#46039f"
             ],
             [
              0.2222222222222222,
              "#7201a8"
             ],
             [
              0.3333333333333333,
              "#9c179e"
             ],
             [
              0.4444444444444444,
              "#bd3786"
             ],
             [
              0.5555555555555556,
              "#d8576b"
             ],
             [
              0.6666666666666666,
              "#ed7953"
             ],
             [
              0.7777777777777778,
              "#fb9f3a"
             ],
             [
              0.8888888888888888,
              "#fdca26"
             ],
             [
              1,
              "#f0f921"
             ]
            ],
            "type": "histogram2d"
           }
          ],
          "histogram2dcontour": [
           {
            "colorbar": {
             "outlinewidth": 0,
             "ticks": ""
            },
            "colorscale": [
             [
              0,
              "#0d0887"
             ],
             [
              0.1111111111111111,
              "#46039f"
             ],
             [
              0.2222222222222222,
              "#7201a8"
             ],
             [
              0.3333333333333333,
              "#9c179e"
             ],
             [
              0.4444444444444444,
              "#bd3786"
             ],
             [
              0.5555555555555556,
              "#d8576b"
             ],
             [
              0.6666666666666666,
              "#ed7953"
             ],
             [
              0.7777777777777778,
              "#fb9f3a"
             ],
             [
              0.8888888888888888,
              "#fdca26"
             ],
             [
              1,
              "#f0f921"
             ]
            ],
            "type": "histogram2dcontour"
           }
          ],
          "mesh3d": [
           {
            "colorbar": {
             "outlinewidth": 0,
             "ticks": ""
            },
            "type": "mesh3d"
           }
          ],
          "parcoords": [
           {
            "line": {
             "colorbar": {
              "outlinewidth": 0,
              "ticks": ""
             }
            },
            "type": "parcoords"
           }
          ],
          "pie": [
           {
            "automargin": true,
            "type": "pie"
           }
          ],
          "scatter": [
           {
            "fillpattern": {
             "fillmode": "overlay",
             "size": 10,
             "solidity": 0.2
            },
            "type": "scatter"
           }
          ],
          "scatter3d": [
           {
            "line": {
             "colorbar": {
              "outlinewidth": 0,
              "ticks": ""
             }
            },
            "marker": {
             "colorbar": {
              "outlinewidth": 0,
              "ticks": ""
             }
            },
            "type": "scatter3d"
           }
          ],
          "scattercarpet": [
           {
            "marker": {
             "colorbar": {
              "outlinewidth": 0,
              "ticks": ""
             }
            },
            "type": "scattercarpet"
           }
          ],
          "scattergeo": [
           {
            "marker": {
             "colorbar": {
              "outlinewidth": 0,
              "ticks": ""
             }
            },
            "type": "scattergeo"
           }
          ],
          "scattergl": [
           {
            "marker": {
             "colorbar": {
              "outlinewidth": 0,
              "ticks": ""
             }
            },
            "type": "scattergl"
           }
          ],
          "scattermapbox": [
           {
            "marker": {
             "colorbar": {
              "outlinewidth": 0,
              "ticks": ""
             }
            },
            "type": "scattermapbox"
           }
          ],
          "scatterpolar": [
           {
            "marker": {
             "colorbar": {
              "outlinewidth": 0,
              "ticks": ""
             }
            },
            "type": "scatterpolar"
           }
          ],
          "scatterpolargl": [
           {
            "marker": {
             "colorbar": {
              "outlinewidth": 0,
              "ticks": ""
             }
            },
            "type": "scatterpolargl"
           }
          ],
          "scatterternary": [
           {
            "marker": {
             "colorbar": {
              "outlinewidth": 0,
              "ticks": ""
             }
            },
            "type": "scatterternary"
           }
          ],
          "surface": [
           {
            "colorbar": {
             "outlinewidth": 0,
             "ticks": ""
            },
            "colorscale": [
             [
              0,
              "#0d0887"
             ],
             [
              0.1111111111111111,
              "#46039f"
             ],
             [
              0.2222222222222222,
              "#7201a8"
             ],
             [
              0.3333333333333333,
              "#9c179e"
             ],
             [
              0.4444444444444444,
              "#bd3786"
             ],
             [
              0.5555555555555556,
              "#d8576b"
             ],
             [
              0.6666666666666666,
              "#ed7953"
             ],
             [
              0.7777777777777778,
              "#fb9f3a"
             ],
             [
              0.8888888888888888,
              "#fdca26"
             ],
             [
              1,
              "#f0f921"
             ]
            ],
            "type": "surface"
           }
          ],
          "table": [
           {
            "cells": {
             "fill": {
              "color": "#EBF0F8"
             },
             "line": {
              "color": "white"
             }
            },
            "header": {
             "fill": {
              "color": "#C8D4E3"
             },
             "line": {
              "color": "white"
             }
            },
            "type": "table"
           }
          ]
         },
         "layout": {
          "annotationdefaults": {
           "arrowcolor": "#2a3f5f",
           "arrowhead": 0,
           "arrowwidth": 1
          },
          "autotypenumbers": "strict",
          "coloraxis": {
           "colorbar": {
            "outlinewidth": 0,
            "ticks": ""
           }
          },
          "colorscale": {
           "diverging": [
            [
             0,
             "#8e0152"
            ],
            [
             0.1,
             "#c51b7d"
            ],
            [
             0.2,
             "#de77ae"
            ],
            [
             0.3,
             "#f1b6da"
            ],
            [
             0.4,
             "#fde0ef"
            ],
            [
             0.5,
             "#f7f7f7"
            ],
            [
             0.6,
             "#e6f5d0"
            ],
            [
             0.7,
             "#b8e186"
            ],
            [
             0.8,
             "#7fbc41"
            ],
            [
             0.9,
             "#4d9221"
            ],
            [
             1,
             "#276419"
            ]
           ],
           "sequential": [
            [
             0,
             "#0d0887"
            ],
            [
             0.1111111111111111,
             "#46039f"
            ],
            [
             0.2222222222222222,
             "#7201a8"
            ],
            [
             0.3333333333333333,
             "#9c179e"
            ],
            [
             0.4444444444444444,
             "#bd3786"
            ],
            [
             0.5555555555555556,
             "#d8576b"
            ],
            [
             0.6666666666666666,
             "#ed7953"
            ],
            [
             0.7777777777777778,
             "#fb9f3a"
            ],
            [
             0.8888888888888888,
             "#fdca26"
            ],
            [
             1,
             "#f0f921"
            ]
           ],
           "sequentialminus": [
            [
             0,
             "#0d0887"
            ],
            [
             0.1111111111111111,
             "#46039f"
            ],
            [
             0.2222222222222222,
             "#7201a8"
            ],
            [
             0.3333333333333333,
             "#9c179e"
            ],
            [
             0.4444444444444444,
             "#bd3786"
            ],
            [
             0.5555555555555556,
             "#d8576b"
            ],
            [
             0.6666666666666666,
             "#ed7953"
            ],
            [
             0.7777777777777778,
             "#fb9f3a"
            ],
            [
             0.8888888888888888,
             "#fdca26"
            ],
            [
             1,
             "#f0f921"
            ]
           ]
          },
          "colorway": [
           "#636efa",
           "#EF553B",
           "#00cc96",
           "#ab63fa",
           "#FFA15A",
           "#19d3f3",
           "#FF6692",
           "#B6E880",
           "#FF97FF",
           "#FECB52"
          ],
          "font": {
           "color": "#2a3f5f"
          },
          "geo": {
           "bgcolor": "white",
           "lakecolor": "white",
           "landcolor": "#E5ECF6",
           "showlakes": true,
           "showland": true,
           "subunitcolor": "white"
          },
          "hoverlabel": {
           "align": "left"
          },
          "hovermode": "closest",
          "mapbox": {
           "style": "light"
          },
          "paper_bgcolor": "white",
          "plot_bgcolor": "#E5ECF6",
          "polar": {
           "angularaxis": {
            "gridcolor": "white",
            "linecolor": "white",
            "ticks": ""
           },
           "bgcolor": "#E5ECF6",
           "radialaxis": {
            "gridcolor": "white",
            "linecolor": "white",
            "ticks": ""
           }
          },
          "scene": {
           "xaxis": {
            "backgroundcolor": "#E5ECF6",
            "gridcolor": "white",
            "gridwidth": 2,
            "linecolor": "white",
            "showbackground": true,
            "ticks": "",
            "zerolinecolor": "white"
           },
           "yaxis": {
            "backgroundcolor": "#E5ECF6",
            "gridcolor": "white",
            "gridwidth": 2,
            "linecolor": "white",
            "showbackground": true,
            "ticks": "",
            "zerolinecolor": "white"
           },
           "zaxis": {
            "backgroundcolor": "#E5ECF6",
            "gridcolor": "white",
            "gridwidth": 2,
            "linecolor": "white",
            "showbackground": true,
            "ticks": "",
            "zerolinecolor": "white"
           }
          },
          "shapedefaults": {
           "line": {
            "color": "#2a3f5f"
           }
          },
          "ternary": {
           "aaxis": {
            "gridcolor": "white",
            "linecolor": "white",
            "ticks": ""
           },
           "baxis": {
            "gridcolor": "white",
            "linecolor": "white",
            "ticks": ""
           },
           "bgcolor": "#E5ECF6",
           "caxis": {
            "gridcolor": "white",
            "linecolor": "white",
            "ticks": ""
           }
          },
          "title": {
           "x": 0.05
          },
          "xaxis": {
           "automargin": true,
           "gridcolor": "white",
           "linecolor": "white",
           "ticks": "",
           "title": {
            "standoff": 15
           },
           "zerolinecolor": "white",
           "zerolinewidth": 2
          },
          "yaxis": {
           "automargin": true,
           "gridcolor": "white",
           "linecolor": "white",
           "ticks": "",
           "title": {
            "standoff": 15
           },
           "zerolinecolor": "white",
           "zerolinewidth": 2
          }
         }
        },
        "title": {
         "text": "Распределение количества пропусков занятий"
        },
        "xaxis": {
         "anchor": "y",
         "domain": [
          0,
          1
         ]
        },
        "yaxis": {
         "anchor": "x",
         "domain": [
          0,
          1
         ],
         "gridcolor": "lightgray",
         "linewidth": 2,
         "mirror": true,
         "showgrid": true,
         "showline": true,
         "title": {
          "text": "Количество пропусков"
         }
        }
       }
      }
     },
     "metadata": {},
     "output_type": "display_data"
    },
    {
     "data": {
      "application/vnd.plotly.v1+json": {
       "config": {
        "plotlyServerURL": "https://plot.ly"
       },
       "data": [
        {
         "alignmentgroup": "True",
         "hovertemplate": "absences=%{y}<extra></extra>",
         "legendgroup": "",
         "marker": {
          "color": "darkorange"
         },
         "name": "",
         "notched": false,
         "offsetgroup": "",
         "orientation": "v",
         "showlegend": false,
         "type": "box",
         "x0": " ",
         "xaxis": "x",
         "y": [
          6,
          4,
          10,
          2,
          4,
          10,
          0,
          6,
          0,
          0,
          0,
          4,
          2,
          2,
          0,
          4,
          6,
          4,
          16,
          4,
          0,
          0,
          2,
          0,
          2,
          14,
          2,
          4,
          4,
          16,
          0,
          0,
          0,
          0,
          0,
          0,
          2,
          7,
          2,
          8,
          25,
          8,
          2,
          0,
          14,
          8,
          12,
          4,
          2,
          2,
          2,
          2,
          6,
          0,
          6,
          8,
          0,
          4,
          2,
          2,
          6,
          6,
          4,
          2,
          0,
          2,
          4,
          4,
          2,
          12,
          0,
          0,
          2,
          2,
          54,
          6,
          8,
          0,
          2,
          12,
          2,
          4,
          10,
          4,
          2,
          6,
          4,
          4,
          12,
          18,
          0,
          4,
          4,
          0,
          6,
          2,
          2,
          2,
          6,
          0,
          14,
          0,
          4,
          26,
          0,
          10,
          8,
          2,
          6,
          4,
          6,
          0,
          6,
          10,
          8,
          2,
          2,
          0,
          20,
          6,
          2,
          6,
          2,
          18,
          0,
          0,
          0,
          2,
          0,
          8,
          0,
          0,
          12,
          16,
          0,
          0,
          0,
          0,
          0,
          0,
          0,
          8,
          2,
          2,
          0,
          0,
          0,
          2,
          0,
          0,
          0,
          6,
          8,
          0,
          0,
          2,
          8,
          6,
          2,
          4,
          0,
          6,
          0,
          2,
          0,
          16,
          4,
          0,
          0,
          0,
          0,
          2,
          0,
          0,
          4,
          4,
          2,
          4,
          10,
          4,
          10,
          2,
          0,
          56,
          14,
          12,
          2,
          0,
          6,
          4,
          10,
          0,
          12,
          8,
          0,
          0,
          4,
          8,
          24,
          0,
          2,
          6,
          4,
          18,
          6,
          28,
          5,
          10,
          6,
          6,
          10,
          13,
          0,
          15,
          12,
          2,
          22,
          13,
          3,
          4,
          2,
          0,
          2,
          0,
          0,
          16,
          10,
          2,
          14,
          10,
          14,
          4,
          14,
          2,
          18,
          10,
          4,
          20,
          2,
          0,
          14,
          2,
          0,
          0,
          0,
          6,
          4,
          16,
          8,
          0,
          0,
          6,
          4,
          0,
          0,
          2,
          6,
          12,
          8,
          0,
          21,
          2,
          1,
          4,
          0,
          13,
          2,
          8,
          10,
          0,
          15,
          4,
          2,
          2,
          2,
          6,
          75,
          22,
          15,
          8,
          30,
          19,
          1,
          4,
          4,
          2,
          5,
          6,
          6,
          9,
          11,
          0,
          12,
          6,
          8,
          4,
          0,
          10,
          0,
          5,
          14,
          0,
          0,
          0,
          20,
          8,
          0,
          38,
          0,
          18,
          0,
          20,
          3,
          22,
          14,
          40,
          0,
          9,
          0,
          2,
          23,
          12,
          3,
          1,
          0,
          3,
          3,
          8,
          7,
          4,
          2,
          7,
          0,
          0,
          0,
          16,
          12,
          0,
          7,
          4,
          4,
          0,
          11,
          0,
          4,
          7,
          9,
          0,
          0,
          10,
          8,
          2,
          7,
          4,
          4,
          0,
          4,
          2,
          4,
          0,
          0,
          2,
          0,
          0,
          0,
          4,
          0,
          0,
          0,
          10,
          4,
          3,
          8,
          14,
          0,
          2,
          4,
          4,
          0,
          17,
          4,
          5,
          2,
          0,
          14,
          2,
          7,
          0,
          0,
          0,
          11,
          3,
          3,
          0,
          5
         ],
         "y0": " ",
         "yaxis": "y"
        }
       ],
       "layout": {
        "boxmode": "group",
        "legend": {
         "tracegroupgap": 0
        },
        "showlegend": false,
        "template": {
         "data": {
          "bar": [
           {
            "error_x": {
             "color": "#2a3f5f"
            },
            "error_y": {
             "color": "#2a3f5f"
            },
            "marker": {
             "line": {
              "color": "#E5ECF6",
              "width": 0.5
             },
             "pattern": {
              "fillmode": "overlay",
              "size": 10,
              "solidity": 0.2
             }
            },
            "type": "bar"
           }
          ],
          "barpolar": [
           {
            "marker": {
             "line": {
              "color": "#E5ECF6",
              "width": 0.5
             },
             "pattern": {
              "fillmode": "overlay",
              "size": 10,
              "solidity": 0.2
             }
            },
            "type": "barpolar"
           }
          ],
          "carpet": [
           {
            "aaxis": {
             "endlinecolor": "#2a3f5f",
             "gridcolor": "white",
             "linecolor": "white",
             "minorgridcolor": "white",
             "startlinecolor": "#2a3f5f"
            },
            "baxis": {
             "endlinecolor": "#2a3f5f",
             "gridcolor": "white",
             "linecolor": "white",
             "minorgridcolor": "white",
             "startlinecolor": "#2a3f5f"
            },
            "type": "carpet"
           }
          ],
          "choropleth": [
           {
            "colorbar": {
             "outlinewidth": 0,
             "ticks": ""
            },
            "type": "choropleth"
           }
          ],
          "contour": [
           {
            "colorbar": {
             "outlinewidth": 0,
             "ticks": ""
            },
            "colorscale": [
             [
              0,
              "#0d0887"
             ],
             [
              0.1111111111111111,
              "#46039f"
             ],
             [
              0.2222222222222222,
              "#7201a8"
             ],
             [
              0.3333333333333333,
              "#9c179e"
             ],
             [
              0.4444444444444444,
              "#bd3786"
             ],
             [
              0.5555555555555556,
              "#d8576b"
             ],
             [
              0.6666666666666666,
              "#ed7953"
             ],
             [
              0.7777777777777778,
              "#fb9f3a"
             ],
             [
              0.8888888888888888,
              "#fdca26"
             ],
             [
              1,
              "#f0f921"
             ]
            ],
            "type": "contour"
           }
          ],
          "contourcarpet": [
           {
            "colorbar": {
             "outlinewidth": 0,
             "ticks": ""
            },
            "type": "contourcarpet"
           }
          ],
          "heatmap": [
           {
            "colorbar": {
             "outlinewidth": 0,
             "ticks": ""
            },
            "colorscale": [
             [
              0,
              "#0d0887"
             ],
             [
              0.1111111111111111,
              "#46039f"
             ],
             [
              0.2222222222222222,
              "#7201a8"
             ],
             [
              0.3333333333333333,
              "#9c179e"
             ],
             [
              0.4444444444444444,
              "#bd3786"
             ],
             [
              0.5555555555555556,
              "#d8576b"
             ],
             [
              0.6666666666666666,
              "#ed7953"
             ],
             [
              0.7777777777777778,
              "#fb9f3a"
             ],
             [
              0.8888888888888888,
              "#fdca26"
             ],
             [
              1,
              "#f0f921"
             ]
            ],
            "type": "heatmap"
           }
          ],
          "heatmapgl": [
           {
            "colorbar": {
             "outlinewidth": 0,
             "ticks": ""
            },
            "colorscale": [
             [
              0,
              "#0d0887"
             ],
             [
              0.1111111111111111,
              "#46039f"
             ],
             [
              0.2222222222222222,
              "#7201a8"
             ],
             [
              0.3333333333333333,
              "#9c179e"
             ],
             [
              0.4444444444444444,
              "#bd3786"
             ],
             [
              0.5555555555555556,
              "#d8576b"
             ],
             [
              0.6666666666666666,
              "#ed7953"
             ],
             [
              0.7777777777777778,
              "#fb9f3a"
             ],
             [
              0.8888888888888888,
              "#fdca26"
             ],
             [
              1,
              "#f0f921"
             ]
            ],
            "type": "heatmapgl"
           }
          ],
          "histogram": [
           {
            "marker": {
             "pattern": {
              "fillmode": "overlay",
              "size": 10,
              "solidity": 0.2
             }
            },
            "type": "histogram"
           }
          ],
          "histogram2d": [
           {
            "colorbar": {
             "outlinewidth": 0,
             "ticks": ""
            },
            "colorscale": [
             [
              0,
              "#0d0887"
             ],
             [
              0.1111111111111111,
              "#46039f"
             ],
             [
              0.2222222222222222,
              "#7201a8"
             ],
             [
              0.3333333333333333,
              "#9c179e"
             ],
             [
              0.4444444444444444,
              "#bd3786"
             ],
             [
              0.5555555555555556,
              "#d8576b"
             ],
             [
              0.6666666666666666,
              "#ed7953"
             ],
             [
              0.7777777777777778,
              "#fb9f3a"
             ],
             [
              0.8888888888888888,
              "#fdca26"
             ],
             [
              1,
              "#f0f921"
             ]
            ],
            "type": "histogram2d"
           }
          ],
          "histogram2dcontour": [
           {
            "colorbar": {
             "outlinewidth": 0,
             "ticks": ""
            },
            "colorscale": [
             [
              0,
              "#0d0887"
             ],
             [
              0.1111111111111111,
              "#46039f"
             ],
             [
              0.2222222222222222,
              "#7201a8"
             ],
             [
              0.3333333333333333,
              "#9c179e"
             ],
             [
              0.4444444444444444,
              "#bd3786"
             ],
             [
              0.5555555555555556,
              "#d8576b"
             ],
             [
              0.6666666666666666,
              "#ed7953"
             ],
             [
              0.7777777777777778,
              "#fb9f3a"
             ],
             [
              0.8888888888888888,
              "#fdca26"
             ],
             [
              1,
              "#f0f921"
             ]
            ],
            "type": "histogram2dcontour"
           }
          ],
          "mesh3d": [
           {
            "colorbar": {
             "outlinewidth": 0,
             "ticks": ""
            },
            "type": "mesh3d"
           }
          ],
          "parcoords": [
           {
            "line": {
             "colorbar": {
              "outlinewidth": 0,
              "ticks": ""
             }
            },
            "type": "parcoords"
           }
          ],
          "pie": [
           {
            "automargin": true,
            "type": "pie"
           }
          ],
          "scatter": [
           {
            "fillpattern": {
             "fillmode": "overlay",
             "size": 10,
             "solidity": 0.2
            },
            "type": "scatter"
           }
          ],
          "scatter3d": [
           {
            "line": {
             "colorbar": {
              "outlinewidth": 0,
              "ticks": ""
             }
            },
            "marker": {
             "colorbar": {
              "outlinewidth": 0,
              "ticks": ""
             }
            },
            "type": "scatter3d"
           }
          ],
          "scattercarpet": [
           {
            "marker": {
             "colorbar": {
              "outlinewidth": 0,
              "ticks": ""
             }
            },
            "type": "scattercarpet"
           }
          ],
          "scattergeo": [
           {
            "marker": {
             "colorbar": {
              "outlinewidth": 0,
              "ticks": ""
             }
            },
            "type": "scattergeo"
           }
          ],
          "scattergl": [
           {
            "marker": {
             "colorbar": {
              "outlinewidth": 0,
              "ticks": ""
             }
            },
            "type": "scattergl"
           }
          ],
          "scattermapbox": [
           {
            "marker": {
             "colorbar": {
              "outlinewidth": 0,
              "ticks": ""
             }
            },
            "type": "scattermapbox"
           }
          ],
          "scatterpolar": [
           {
            "marker": {
             "colorbar": {
              "outlinewidth": 0,
              "ticks": ""
             }
            },
            "type": "scatterpolar"
           }
          ],
          "scatterpolargl": [
           {
            "marker": {
             "colorbar": {
              "outlinewidth": 0,
              "ticks": ""
             }
            },
            "type": "scatterpolargl"
           }
          ],
          "scatterternary": [
           {
            "marker": {
             "colorbar": {
              "outlinewidth": 0,
              "ticks": ""
             }
            },
            "type": "scatterternary"
           }
          ],
          "surface": [
           {
            "colorbar": {
             "outlinewidth": 0,
             "ticks": ""
            },
            "colorscale": [
             [
              0,
              "#0d0887"
             ],
             [
              0.1111111111111111,
              "#46039f"
             ],
             [
              0.2222222222222222,
              "#7201a8"
             ],
             [
              0.3333333333333333,
              "#9c179e"
             ],
             [
              0.4444444444444444,
              "#bd3786"
             ],
             [
              0.5555555555555556,
              "#d8576b"
             ],
             [
              0.6666666666666666,
              "#ed7953"
             ],
             [
              0.7777777777777778,
              "#fb9f3a"
             ],
             [
              0.8888888888888888,
              "#fdca26"
             ],
             [
              1,
              "#f0f921"
             ]
            ],
            "type": "surface"
           }
          ],
          "table": [
           {
            "cells": {
             "fill": {
              "color": "#EBF0F8"
             },
             "line": {
              "color": "white"
             }
            },
            "header": {
             "fill": {
              "color": "#C8D4E3"
             },
             "line": {
              "color": "white"
             }
            },
            "type": "table"
           }
          ]
         },
         "layout": {
          "annotationdefaults": {
           "arrowcolor": "#2a3f5f",
           "arrowhead": 0,
           "arrowwidth": 1
          },
          "autotypenumbers": "strict",
          "coloraxis": {
           "colorbar": {
            "outlinewidth": 0,
            "ticks": ""
           }
          },
          "colorscale": {
           "diverging": [
            [
             0,
             "#8e0152"
            ],
            [
             0.1,
             "#c51b7d"
            ],
            [
             0.2,
             "#de77ae"
            ],
            [
             0.3,
             "#f1b6da"
            ],
            [
             0.4,
             "#fde0ef"
            ],
            [
             0.5,
             "#f7f7f7"
            ],
            [
             0.6,
             "#e6f5d0"
            ],
            [
             0.7,
             "#b8e186"
            ],
            [
             0.8,
             "#7fbc41"
            ],
            [
             0.9,
             "#4d9221"
            ],
            [
             1,
             "#276419"
            ]
           ],
           "sequential": [
            [
             0,
             "#0d0887"
            ],
            [
             0.1111111111111111,
             "#46039f"
            ],
            [
             0.2222222222222222,
             "#7201a8"
            ],
            [
             0.3333333333333333,
             "#9c179e"
            ],
            [
             0.4444444444444444,
             "#bd3786"
            ],
            [
             0.5555555555555556,
             "#d8576b"
            ],
            [
             0.6666666666666666,
             "#ed7953"
            ],
            [
             0.7777777777777778,
             "#fb9f3a"
            ],
            [
             0.8888888888888888,
             "#fdca26"
            ],
            [
             1,
             "#f0f921"
            ]
           ],
           "sequentialminus": [
            [
             0,
             "#0d0887"
            ],
            [
             0.1111111111111111,
             "#46039f"
            ],
            [
             0.2222222222222222,
             "#7201a8"
            ],
            [
             0.3333333333333333,
             "#9c179e"
            ],
            [
             0.4444444444444444,
             "#bd3786"
            ],
            [
             0.5555555555555556,
             "#d8576b"
            ],
            [
             0.6666666666666666,
             "#ed7953"
            ],
            [
             0.7777777777777778,
             "#fb9f3a"
            ],
            [
             0.8888888888888888,
             "#fdca26"
            ],
            [
             1,
             "#f0f921"
            ]
           ]
          },
          "colorway": [
           "#636efa",
           "#EF553B",
           "#00cc96",
           "#ab63fa",
           "#FFA15A",
           "#19d3f3",
           "#FF6692",
           "#B6E880",
           "#FF97FF",
           "#FECB52"
          ],
          "font": {
           "color": "#2a3f5f"
          },
          "geo": {
           "bgcolor": "white",
           "lakecolor": "white",
           "landcolor": "#E5ECF6",
           "showlakes": true,
           "showland": true,
           "subunitcolor": "white"
          },
          "hoverlabel": {
           "align": "left"
          },
          "hovermode": "closest",
          "mapbox": {
           "style": "light"
          },
          "paper_bgcolor": "white",
          "plot_bgcolor": "#E5ECF6",
          "polar": {
           "angularaxis": {
            "gridcolor": "white",
            "linecolor": "white",
            "ticks": ""
           },
           "bgcolor": "#E5ECF6",
           "radialaxis": {
            "gridcolor": "white",
            "linecolor": "white",
            "ticks": ""
           }
          },
          "scene": {
           "xaxis": {
            "backgroundcolor": "#E5ECF6",
            "gridcolor": "white",
            "gridwidth": 2,
            "linecolor": "white",
            "showbackground": true,
            "ticks": "",
            "zerolinecolor": "white"
           },
           "yaxis": {
            "backgroundcolor": "#E5ECF6",
            "gridcolor": "white",
            "gridwidth": 2,
            "linecolor": "white",
            "showbackground": true,
            "ticks": "",
            "zerolinecolor": "white"
           },
           "zaxis": {
            "backgroundcolor": "#E5ECF6",
            "gridcolor": "white",
            "gridwidth": 2,
            "linecolor": "white",
            "showbackground": true,
            "ticks": "",
            "zerolinecolor": "white"
           }
          },
          "shapedefaults": {
           "line": {
            "color": "#2a3f5f"
           }
          },
          "ternary": {
           "aaxis": {
            "gridcolor": "white",
            "linecolor": "white",
            "ticks": ""
           },
           "baxis": {
            "gridcolor": "white",
            "linecolor": "white",
            "ticks": ""
           },
           "bgcolor": "#E5ECF6",
           "caxis": {
            "gridcolor": "white",
            "linecolor": "white",
            "ticks": ""
           }
          },
          "title": {
           "x": 0.05
          },
          "xaxis": {
           "automargin": true,
           "gridcolor": "white",
           "linecolor": "white",
           "ticks": "",
           "title": {
            "standoff": 15
           },
           "zerolinecolor": "white",
           "zerolinewidth": 2
          },
          "yaxis": {
           "automargin": true,
           "gridcolor": "white",
           "linecolor": "white",
           "ticks": "",
           "title": {
            "standoff": 15
           },
           "zerolinecolor": "white",
           "zerolinewidth": 2
          }
         }
        },
        "title": {
         "text": "Распределение количества пропусков занятий"
        },
        "xaxis": {
         "anchor": "y",
         "domain": [
          0,
          1
         ]
        },
        "yaxis": {
         "anchor": "x",
         "domain": [
          0,
          1
         ],
         "gridcolor": "lightgray",
         "linewidth": 2,
         "mirror": true,
         "showgrid": true,
         "showline": true,
         "title": {
          "text": "Количество пропусков"
         }
        }
       }
      }
     },
     "metadata": {},
     "output_type": "display_data"
    }
   ],
   "source": [
    "# Построение Box plot для столбца \"absences\" для измененного\n",
    "fig = px.box(df_cleaned, y=\"absences\", color_discrete_sequence = ['darkorange'], title=\"Распределение количества пропусков занятий\")\n",
    "\n",
    "# Настройка параметров сетки и разделения для оси y\n",
    "fig.update_yaxes(\n",
    "    title=\"Количество пропусков\",\n",
    "    showgrid=True,  # Отображать линии сетки для оси y\n",
    "    gridcolor=\"lightgray\",  # Цвет линий сетки\n",
    "    showline=True,  # Отображать линию оси y\n",
    "    linewidth=2,  # Толщина линии оси y\n",
    "    mirror=True  # Отобразить линию оси y внутри графика\n",
    ")\n",
    "\n",
    "# Убераем легенду\n",
    "fig.update_layout(showlegend=False)\n",
    "\n",
    "# Отображаем Box plot\n",
    "fig.show()\n",
    "\n",
    "# Построение Box plot для столбца \"absences\" для изначального датафрейма\n",
    "fig = px.box(df, y=\"absences\", color_discrete_sequence = ['darkorange'], title=\"Распределение количества пропусков занятий\")\n",
    "\n",
    "# Настройка параметров сетки и разделения для оси y\n",
    "fig.update_yaxes(\n",
    "    title=\"Количество пропусков\",\n",
    "    showgrid=True,  # Отображать линии сетки для оси y\n",
    "    gridcolor=\"lightgray\",  # Цвет линий сетки\n",
    "    showline=True,  # Отображать линию оси y\n",
    "    linewidth=2,  # Толщина линии оси y\n",
    "    mirror=True  # Отобразить линию оси y внутри графика\n",
    ")\n",
    "\n",
    "# Убераем легенду\n",
    "fig.update_layout(showlegend=False)\n",
    "\n",
    "# Отображаем Box plot\n",
    "fig.show()"
   ]
  },
  {
   "cell_type": "markdown",
   "metadata": {},
   "source": [
    "Идентификация\n",
    "---"
   ]
  },
  {
   "cell_type": "code",
   "execution_count": 153,
   "metadata": {},
   "outputs": [
    {
     "name": "stdout",
     "output_type": "stream",
     "text": [
      "Точность модели (%): 89.86\n"
     ]
    },
    {
     "name": "stderr",
     "output_type": "stream",
     "text": [
      "c:\\Users\\ASUS\\Desktop\\Studie\\ML\\venv\\lib\\site-packages\\sklearn\\preprocessing\\_encoders.py:972: FutureWarning:\n",
      "\n",
      "`sparse` was renamed to `sparse_output` in version 1.2 and will be removed in 1.4. `sparse_output` is ignored unless you leave `sparse` to its default value.\n",
      "\n"
     ]
    }
   ],
   "source": [
    "# Выбираем все столбцы с типом данных 'object' (строковые значения)\n",
    "categorical_columns = df_cleaned.select_dtypes(include=['object']).columns\n",
    "\n",
    "# Создаем объект OneHotEncoder\n",
    "encoder = OneHotEncoder(drop='first', sparse=False)  # drop='first' для избегания дамми-ловушки\n",
    "\n",
    "# Применяем кодирование к выбранным столбцам\n",
    "encoded_data = encoder.fit_transform(df_cleaned[categorical_columns])\n",
    "\n",
    "# Преобразуем результат в DataFrame\n",
    "encoded_df = pd.DataFrame(encoded_data, columns=encoder.get_feature_names_out(categorical_columns))\n",
    "\n",
    "# Объединяем закодированные столбцы с исходным DataFrame\n",
    "df_cleaned = pd.concat([df_cleaned, encoded_df], axis=1)\n",
    "\n",
    "# Удаляем оригинальные категориальные столбцы, так как они больше не нужны\n",
    "df_cleaned.drop(categorical_columns, axis=1, inplace=True)\n",
    "\n",
    "# # Создаем бинарную целевую переменную (это мы делаем, если используем мультиклассовость)\n",
    "# df_cleaned['pass_exam'] = (df_cleaned[target_column_name] >= passing_grade_threshold).astype(int)\n",
    "\n",
    "# Разделяем данные на обучающий и тестовый наборы\n",
    "X_train, X_test, y_train, y_test = train_test_split(df_cleaned.drop([target_column_name, 'pass_exam'], axis=1), df_cleaned['pass_exam'], test_size=0.2, random_state=42)\n",
    "\n",
    "# Удаляем строки с пропущенными значениями из обучающего и тестового наборов, кроме целевого столбца\n",
    "X_train.dropna(subset=[col for col in X_train.columns if col != target_column_name],inplace=True)\n",
    "y_train = y_train[X_train.index]  # Обновляем y_train соответствующим образом\n",
    "X_test.dropna(subset=[col for col in X_train.columns if col != target_column_name],inplace=True)\n",
    "y_test = y_test[X_test.index]  # Обновляем y_test соответствующим образом\n",
    "\n",
    "# Инициализируем модель SVM с линейным ядром\n",
    "model = SVC(kernel='linear')\n",
    "\n",
    "# Обучаем модель на обучающих данных\n",
    "model.fit(X_train, y_train)\n",
    "\n",
    "# Предсказание на тестовых данных\n",
    "y_pred = model.predict(X_test)\n",
    "\n",
    "# Оценка производительности модели (например, точность)\n",
    "accuracy = accuracy_score(y_test, y_pred)\n",
    "print(\"Точность модели (%):\", round(accuracy * 100, 2))"
   ]
  },
  {
   "cell_type": "code",
   "execution_count": 154,
   "metadata": {},
   "outputs": [
    {
     "name": "stdout",
     "output_type": "stream",
     "text": [
      "Точность модели (%): 96.2\n"
     ]
    },
    {
     "name": "stderr",
     "output_type": "stream",
     "text": [
      "c:\\Users\\ASUS\\Desktop\\Studie\\ML\\venv\\lib\\site-packages\\sklearn\\preprocessing\\_encoders.py:972: FutureWarning:\n",
      "\n",
      "`sparse` was renamed to `sparse_output` in version 1.2 and will be removed in 1.4. `sparse_output` is ignored unless you leave `sparse` to its default value.\n",
      "\n"
     ]
    }
   ],
   "source": [
    "# Выбираем все столбцы с типом данных 'object' (строковые значения)\n",
    "categorical_columns = df.select_dtypes(include=['object']).columns\n",
    "\n",
    "# Создаем объект OneHotEncoder\n",
    "encoder = OneHotEncoder(drop='first', sparse=False)  # drop='first' для избегания дамми-ловушки\n",
    "\n",
    "# Применяем кодирование к выбранным столбцам\n",
    "encoded_data = encoder.fit_transform(df[categorical_columns])\n",
    "\n",
    "# Преобразуем результат в DataFrame\n",
    "encoded_df = pd.DataFrame(encoded_data, columns=encoder.get_feature_names_out(categorical_columns))\n",
    "\n",
    "# Объединяем закодированные столбцы с исходным DataFrame\n",
    "df = pd.concat([df, encoded_df], axis=1)\n",
    "\n",
    "# Удаляем оригинальные категориальные столбцы, так как они больше не нужны\n",
    "df.drop(categorical_columns, axis=1, inplace=True)\n",
    "\n",
    "# # Создаем бинарную целевую переменную (это мы делаем, если используем мультиклассовость)\n",
    "# df['pass_exam'] = (df[target_column_name] >= passing_grade_threshold).astype(int)\n",
    "\n",
    "# Разделяем данные на обучающий и тестовый наборы\n",
    "X_train, X_test, y_train, y_test = train_test_split(df.drop([target_column_name, 'pass_exam'], axis=1), df['pass_exam'], test_size=0.2, random_state=42)\n",
    "\n",
    "# Удаляем строки с пропущенными значениями из обучающего и тестового наборов, кроме целевого столбца\n",
    "X_train.dropna(subset=[col for col in X_train.columns if col != target_column_name],inplace=True)\n",
    "y_train = y_train[X_train.index]  # Обновляем y_train соответствующим образом\n",
    "X_test.dropna(subset=[col for col in X_train.columns if col != target_column_name],inplace=True)\n",
    "y_test = y_test[X_test.index]  # Обновляем y_test соответствующим образом\n",
    "\n",
    "# Инициализируем модель SVM с линейным ядром\n",
    "model = SVC(kernel='linear')\n",
    "\n",
    "# Обучаем модель на обучающих данных\n",
    "model.fit(X_train, y_train)\n",
    "\n",
    "# Предсказание на тестовых данных\n",
    "y_pred = model.predict(X_test)\n",
    "\n",
    "# Оценка производительности модели (например, точность)\n",
    "accuracy = accuracy_score(y_test, y_pred)\n",
    "print(\"Точность модели (%):\", round(accuracy * 100, 2))"
   ]
  },
  {
   "cell_type": "code",
   "execution_count": 155,
   "metadata": {},
   "outputs": [
    {
     "data": {
      "application/vnd.plotly.v1+json": {
       "config": {
        "plotlyServerURL": "https://plot.ly"
       },
       "data": [
        {
         "coloraxis": "coloraxis",
         "hovertemplate": "x: %{x}<br>y: %{y}<br>color: %{z}<extra></extra>",
         "name": "0",
         "type": "heatmap",
         "x": [
          "age",
          "Medu",
          "Fedu",
          "traveltime",
          "studytime",
          "failures",
          "famrel",
          "freetime",
          "goout",
          "Dalc",
          "Walc",
          "health",
          "absences",
          "G1",
          "G2",
          "G3",
          "average_grade",
          "total_alcohol_consumption",
          "pass_exam",
          "school_MS",
          "sex_M",
          "address_U",
          "famsize_LE3",
          "Pstatus_T",
          "Mjob_health",
          "Mjob_other",
          "Mjob_services",
          "Mjob_teacher",
          "Fjob_health",
          "Fjob_other",
          "Fjob_services",
          "Fjob_teacher",
          "reason_home",
          "reason_other",
          "reason_reputation",
          "guardian_mother",
          "guardian_other",
          "schoolsup_yes",
          "famsup_yes",
          "paid_yes",
          "activities_yes",
          "nursery_yes",
          "higher_yes",
          "internet_yes",
          "romantic_yes"
         ],
         "xaxis": "x",
         "y": [
          "age",
          "Medu",
          "Fedu",
          "traveltime",
          "studytime",
          "failures",
          "famrel",
          "freetime",
          "goout",
          "Dalc",
          "Walc",
          "health",
          "absences",
          "G1",
          "G2",
          "G3",
          "average_grade",
          "total_alcohol_consumption",
          "pass_exam",
          "school_MS",
          "sex_M",
          "address_U",
          "famsize_LE3",
          "Pstatus_T",
          "Mjob_health",
          "Mjob_other",
          "Mjob_services",
          "Mjob_teacher",
          "Fjob_health",
          "Fjob_other",
          "Fjob_services",
          "Fjob_teacher",
          "reason_home",
          "reason_other",
          "reason_reputation",
          "guardian_mother",
          "guardian_other",
          "schoolsup_yes",
          "famsup_yes",
          "paid_yes",
          "activities_yes",
          "nursery_yes",
          "higher_yes",
          "internet_yes",
          "romantic_yes"
         ],
         "yaxis": "y",
         "z": [
          [
           1,
           -0.16365841893281538,
           -0.16343806892527832,
           0.07064072116452645,
           -0.004140036816186605,
           0.24366537664171947,
           0.053940095877441,
           0.016434388838665794,
           0.12696387964294487,
           0.13112460471754972,
           0.11727605242651365,
           -0.06218736851745052,
           0.17523007904603055,
           -0.06408149744707395,
           -0.14347404903545907,
           -0.1615794381383403,
           -0.1345893739136659,
           0.13497227369510933,
           -0.0927366162008491,
           0.3776097043444557,
           -0.02860579321174635,
           -0.14672235478098716,
           0.03784747570936323,
           0.029597771913097495,
           -0.08266011239452319,
           0.03248795420246744,
           -0.007731822232266765,
           -0.05825631837557492,
           -0.10984229017135132,
           0.007681779727398609,
           0.04296340471197618,
           -0.06999309678661567,
           0.018282905955786175,
           0.02717190229236457,
           -0.031932089853311134,
           -0.13355847434718549,
           0.39839608659431075,
           -0.2518108925243978,
           -0.14060858401008833,
           -0.03593287357584213,
           -0.10306262378630883,
           -0.08663191735557435,
           -0.20908080658894834,
           -0.11209350841422763,
           0.164668753622101
          ],
          [
           -0.16365841893281538,
           1,
           0.6234551120806472,
           -0.17163930469702876,
           0.06494413671030157,
           -0.23667996261654226,
           -0.003914458428754279,
           0.030890866567408127,
           0.06409443819310288,
           0.019834098565639165,
           -0.047123459694851065,
           -0.046877829401666286,
           0.10028481768782285,
           0.2053409967385873,
           0.21552716763090254,
           0.21714749613860562,
           0.22425986840612694,
           -0.02168077011850056,
           0.111677307916901,
           -0.1333329469091328,
           0.0782278914508982,
           0.1388040828707694,
           -0.043067780552009625,
           -0.12356462296254882,
           0.2519732640082501,
           -0.23517645846498547,
           0.05176426416832547,
           0.4549111296734017,
           0.08339785882420922,
           -0.1098870186365592,
           -0.03183401392719627,
           0.25983649032684736,
           -0.008707953389905182,
           0.008228623134510997,
           0.1064867750255579,
           0.1123749956066383,
           -0.11863487652049541,
           -0.036029477530141026,
           0.18372702163308938,
           0.15970038116357727,
           0.10827676167573728,
           0.1932625172339374,
           0.16884453374475863,
           0.20146344932450697,
           0.039680611900546434
          ],
          [
           -0.16343806892527832,
           0.6234551120806472,
           1,
           -0.15819405415710058,
           -0.009174638901949313,
           -0.2504084444567766,
           -0.0013697268092249084,
           -0.012845528019013779,
           0.04310466836949357,
           0.0023864294081457687,
           -0.012631017946474329,
           0.014741537267178655,
           0.02447288701596908,
           0.19026993555786859,
           0.1648933933992335,
           0.15245693890425888,
           0.17585213510215641,
           -0.007126501283078783,
           0.058021608867752886,
           -0.07980728900345894,
           0.034878305558594766,
           0.0721784504465288,
           -0.05887913383313312,
           -0.08872967692175886,
           0.11850108501406748,
           -0.1970772278634458,
           0.028032176105996266,
           0.2945262559104054,
           0.16321640077861838,
           -0.25360477153235766,
           0.02130638485422079,
           0.347202595977805,
           -0.009617798292022257,
           -0.014363621261140687,
           0.04872407666220103,
           -0.047264696668535444,
           -0.09125030592886293,
           0.037529649429853734,
           0.18549610936049957,
           0.0869814163452831,
           0.11264279071370002,
           0.15717725498499605,
           0.17456552021164734,
           0.12750661100367616,
           0.015602498423325393
          ],
          [
           0.07064072116452645,
           -0.17163930469702876,
           -0.15819405415710058,
           1,
           -0.10090911928397579,
           0.09223874620951138,
           -0.016807986376151544,
           -0.017024944232142198,
           0.02853967410672486,
           0.13832530898949466,
           0.1341157516452861,
           0.007500606030374013,
           -0.012943775156628473,
           -0.0930399915823211,
           -0.1531979633172173,
           -0.11714205281614884,
           -0.12819716282790058,
           0.1491336863642417,
           -0.03837696736606831,
           0.24230838588082754,
           0.0597217780289217,
           -0.3280955044457592,
           0.06349338255353085,
           0.028265208944448693,
           -0.10670804727709496,
           0.036544207010774064,
           -0.0509425979876513,
           -0.051234658497869484,
           -0.08827674876416364,
           0.09321439777133851,
           -0.03023193913900936,
           0.014004162251563038,
           -0.08002693049188665,
           -0.001662306249709518,
           -0.03332211070490003,
           -0.05766914164831444,
           0.04875803109595601,
           -0.009246380479402086,
           -0.0032862607411161962,
           -0.06642023876188201,
           -0.007766399487757516,
           -0.03333827781764528,
           -0.08350810208230457,
           -0.11130164561256994,
           0.02196239607201445
          ],
          [
           -0.004140036816186605,
           0.06494413671030157,
           -0.009174638901949313,
           -0.10090911928397579,
           1,
           -0.17356303141597568,
           0.03973070383991768,
           -0.14319840716795174,
           -0.06390367501441115,
           -0.19601926349476018,
           -0.25378473083028324,
           -0.07561586301890938,
           -0.06270017540323977,
           0.16061191545469583,
           0.1358799992144901,
           0.09781968965319622,
           0.13456471886640659,
           -0.252697870107462,
           0.06243251871349938,
           -0.09068090919669793,
           -0.3062676175682075,
           -0.020912151915180466,
           -0.07359486076088818,
           0.024293898047854954,
           -0.012977196482372548,
           -0.006288351277440266,
           -0.004475999941348363,
           -0.009008948300920168,
           0.12110682900452449,
           -0.04061853747217995,
           0.007161902812815039,
           -0.05822462356731178,
           -0.03961952609207943,
           -0.10784190812733012,
           0.19334213567590391,
           -0.024031028827474887,
           0.031723793341324164,
           0.03776269753175017,
           0.1452276174715617,
           0.16721987997343468,
           0.08987727165449064,
           0.08132455462394537,
           0.17508142485948539,
           0.05942172915851555,
           0.05328461732497235
          ],
          [
           0.24366537664171947,
           -0.23667996261654226,
           -0.2504084444567766,
           0.09223874620951138,
           -0.17356303141597568,
           1,
           -0.044336626265435164,
           0.09198747098855871,
           0.12456092193402658,
           0.13604693121654635,
           0.14196202998571514,
           0.06582728172101748,
           0.06372583253905979,
           -0.35471761301563487,
           -0.3558956345525741,
           -0.3604149404616496,
           -0.37575889592699574,
           0.15320332600501796,
           -0.3042134146771154,
           0.05980424662426844,
           0.04443588112803812,
           -0.07857751168238096,
           -0.015769173865193917,
           -0.003338663416334378,
           -0.04085913854842293,
           0.006268115922610331,
           0.10542968805041342,
           -0.1577708055660617,
           -0.016592874765707345,
           -0.03779214590060367,
           0.08270642059015589,
           -0.07437739365318921,
           0.04251138355246316,
           -0.012203379719596175,
           -0.07012695642159368,
           -0.13449798020827683,
           0.2911567475266947,
           -0.0004374906768835413,
           -0.05507462060044469,
           -0.18803896588299923,
           -0.06934052547033985,
           -0.10073358648290452,
           -0.30031574127595917,
           -0.06345123525547233,
           0.09313704346353699
          ],
          [
           0.053940095877441,
           -0.003914458428754279,
           -0.0013697268092249084,
           -0.016807986376151544,
           0.03973070383991768,
           -0.044336626265435164,
           1,
           0.1507014437790512,
           0.0645684106311221,
           -0.07759435740692677,
           -0.1133973083665762,
           0.09405572832242214,
           -0.044354094604025646,
           0.022168315615496436,
           -0.01828134715315443,
           0.0513634288812822,
           0.021652520873249766,
           -0.10842656102734997,
           0.056738905006924,
           -0.04792574437863733,
           0.058970938020127636,
           0.014258381350886954,
           -0.02277644262603324,
           0.025178646580674917,
           -0.06154750656321579,
           0.022736020759202502,
           0.056255001491396554,
           -0.02212150112660323,
           -0.013521208616233543,
           0.017534365571648922,
           0.051460844863628064,
           -0.06920408962581337,
           -0.012200704962088117,
           -0.019595392284450633,
           -0.0009720392937582316,
           -0.010982752978107965,
           0.049548427450587115,
           -0.0013446289562390001,
           -0.020436190901040423,
           0.00045965292017171715,
           0.04068659999482154,
           -0.0035807191201688363,
           0.02431934424934013,
           0.03276756494939123,
           -0.06381615704863158
          ],
          [
           0.016434388838665794,
           0.030890866567408127,
           -0.012845528019013779,
           -0.017024944232142198,
           -0.14319840716795174,
           0.09198747098855871,
           0.1507014437790512,
           1,
           0.2850187149682028,
           0.20900084835320115,
           0.14782181283995183,
           0.07573335701086205,
           -0.058077922084817046,
           0.012612930233135297,
           -0.013777138592563609,
           0.011307240308312975,
           0.003773140282622482,
           0.1897535472402556,
           -0.025076131124951842,
           0.03298753032172188,
           0.2387442463757307,
           0.03487815791655048,
           0.017695255277930748,
           0.03871682899180657,
           -0.009093797515206833,
           -0.011639682742668717,
           0.02167169365590612,
           0.08850801123418461,
           -0.06373843496444054,
           0.04033842986474083,
           -0.05156959278262229,
           0.001675009226579579,
           -0.08324920986683347,
           0.039890906947566654,
           -0.05010065576185345,
           -0.028979060953292914,
           0.0694375363205793,
           -0.04546542566325396,
           0.01053758797636471,
           -0.06425287213862783,
           0.08972816441029766,
           -0.024696318418405822,
           -0.06124399142211575,
           0.05128644652787958,
           -0.011182171529296075
          ],
          [
           0.12696387964294487,
           0.06409443819310288,
           0.04310466836949357,
           0.02853967410672486,
           -0.06390367501441115,
           0.12456092193402658,
           0.0645684106311221,
           0.2850187149682028,
           1,
           0.2669938480100155,
           0.4203857454717886,
           -0.009577253881630008,
           0.04430222043248775,
           -0.14910396678770702,
           -0.16225003415973224,
           -0.13279147350332884,
           -0.15451133646504903,
           0.3926829381591808,
           -0.08512583833153027,
           -0.007152223697687697,
           0.07589739596341268,
           0.06883481023174046,
           0.023064384264178922,
           0.003458654470256074,
           0.05925175650609182,
           -0.0016603602145471696,
           0.014455293946711531,
           -0.021318681723829155,
           -0.02139359054667829,
           0.04748841742741037,
           -0.010554285120595919,
           -0.018829973102319,
           -0.004410415309976573,
           -0.015181699029852872,
           -0.03829694257907407,
           0.08023556538664924,
           -0.012379952001256325,
           -0.037698491200771435,
           -0.015631442799970616,
           0.010493267867462788,
           0.046087685764072815,
           0.004611527845810735,
           -0.0397004986922205,
           0.07436962497358945,
           0.007869926458163307
          ],
          [
           0.13112460471754972,
           0.019834098565639165,
           0.0023864294081457687,
           0.13832530898949466,
           -0.19601926349476018,
           0.13604693121654635,
           -0.07759435740692677,
           0.20900084835320115,
           0.2669938480100155,
           1,
           0.6475442300180093,
           0.07717958218132986,
           0.11190802615038609,
           -0.09415879189027287,
           -0.06412018316253443,
           -0.0546600405667359,
           -0.07250817752779416,
           0.8691396236787473,
           -0.007748705501580334,
           0.11420918108850897,
           0.26817098320946137,
           -0.09349425505956799,
           0.10152126148220833,
           -0.030589888827756383,
           -0.07461991789510457,
           0.01887204662213045,
           0.02888047416822895,
           0.04101547947433633,
           -0.03627304887040472,
           -0.07652561229662722,
           0.11147517543741084,
           0.0005524489387209014,
           0.022726080291690404,
           0.1550759768834557,
           -0.11921349434891693,
           -0.051224275504783146,
           0.03762601742293444,
           -0.02148510004256596,
           -0.03157520439592055,
           0.06246536216591231,
           -0.06650809390082976,
           -0.08484863839607748,
           -0.06982806255250017,
           0.036210376872206816,
           0.01512070513264116
          ],
          [
           0.11727605242651365,
           -0.047123459694851065,
           -0.012631017946474329,
           0.1341157516452861,
           -0.25378473083028324,
           0.14196202998571514,
           -0.1133973083665762,
           0.14782181283995183,
           0.4203857454717886,
           0.6475442300180093,
           1,
           0.09247631696073397,
           0.1362911014799507,
           -0.12617920803813462,
           -0.08492735257290995,
           -0.05193932374224616,
           -0.08802467108072583,
           0.9396800281768012,
           0.02695132970450815,
           0.06508707288869692,
           0.274193766587162,
           -0.1011256851867006,
           0.1034250075821991,
           0.006044780174187111,
           0.021762830339793718,
           -0.024856720757992924,
           -0.004426158033299209,
           0.006194354788231018,
           -0.06833315180327686,
           0.05072381720023505,
           0.09056778455066901,
           -0.09389799689592321,
           0.005573732039877488,
           0.09245174856373647,
           -0.08273300841478978,
           0.006470865287926535,
           -0.0455632396071211,
           -0.08715173838620668,
           -0.08668793458170154,
           0.06045364316722,
           -0.037476696217656855,
           -0.09953352509638196,
           -0.10033961339145732,
           0.011687200197666796,
           -0.010140952309397776
          ],
          [
           -0.06218736851745052,
           -0.046877829401666286,
           0.014741537267178655,
           0.007500606030374013,
           -0.07561586301890938,
           0.06582728172101748,
           0.09405572832242214,
           0.07573335701086205,
           -0.009577253881630008,
           0.07717958218132986,
           0.09247631696073397,
           1,
           -0.02993671093168928,
           -0.07317207325530412,
           -0.09771986553990955,
           -0.06133460487712118,
           -0.08038037598606065,
           0.09466236164645628,
           -0.002820383733247816,
           -0.04265110910891195,
           0.14358817321583722,
           -0.04035486790605936,
           -0.028991659095302647,
           0.022307334690118235,
           0.04647457126818435,
           -0.03491447640441542,
           0.0826124963237849,
           -0.005959790752812518,
           0.07885925208835821,
           -0.0011410613691986958,
           -0.03870341058476773,
           0.020422552742560246,
           -0.001765808503972767,
           0.006591543255118976,
           -0.1453373511426996,
           -0.02509586418503715,
           -0.04504915237667838,
           -0.03412368911019259,
           0.02929745163601286,
           -0.0781324030486777,
           0.023922814816364296,
           -0.018474716473445812,
           -0.015894983414397587,
           -0.08018919687234362,
           0.026342317192077542
          ],
          [
           0.17523007904603055,
           0.10028481768782285,
           0.02447288701596908,
           -0.012943775156628473,
           -0.06270017540323977,
           0.06372583253905979,
           -0.044354094604025646,
           -0.058077922084817046,
           0.04430222043248775,
           0.11190802615038609,
           0.1362911014799507,
           -0.02993671093168928,
           1,
           -0.031002900949028342,
           -0.031776703626707106,
           0.03424731615006925,
           -0.005908806132303017,
           0.13868747915571572,
           0.15858674189973068,
           -0.08848010292466851,
           -0.0669617568007534,
           -0.027874253538723238,
           0.035782517919823696,
           -0.13493690058971042,
           -0.04415604680036697,
           0.043004860100182125,
           0.02307600051558707,
           0.0016878065087646999,
           -0.0041909733778990165,
           0.01666387512631404,
           0.012906640333903747,
           -0.024963864659396737,
           0.1110605628912251,
           -0.003872680398836381,
           0.07067110181774713,
           0.023638025702052274,
           0.14082632286564664,
           0.02252588825015057,
           0.024353248645373426,
           0.007435173945228779,
           -0.013609691622779344,
           0.01915535611508717,
           -0.05608522679996929,
           0.10170077431178585,
           0.15338449094534376
          ],
          [
           -0.06408149744707395,
           0.2053409967385873,
           0.19026993555786859,
           -0.0930399915823211,
           0.16061191545469583,
           -0.35471761301563487,
           0.022168315615496436,
           0.012612930233135297,
           -0.14910396678770702,
           -0.09415879189027287,
           -0.12617920803813462,
           -0.07317207325530412,
           -0.031002900949028342,
           1,
           0.852118066364806,
           0.8014679320174145,
           0.9193861094565478,
           -0.12415754277848798,
           0.40190005471970813,
           -0.025730909785665716,
           0.091839159292908,
           0.06970424924589468,
           0.07144539577371445,
           -0.016868323908790034,
           0.12007449708538677,
           -0.1644212195642037,
           0.0859059659443447,
           0.07829405206297808,
           0.03530292001327464,
           -0.11392396431088493,
           -0.01509326945578612,
           0.16878157378567946,
           -0.01719771417961294,
           -0.007214835330850152,
           0.09952161810350137,
           -0.011767242246091675,
           -0.03102187704608968,
           -0.21260651009778345,
           -0.08456874902190263,
           0.03907932362998426,
           0.05700968864896531,
           0.06926306347696605,
           0.17826403421417428,
           0.07161884564094172,
           -0.03718833098938913
          ],
          [
           -0.14347404903545907,
           0.21552716763090254,
           0.1648933933992335,
           -0.1531979633172173,
           0.1358799992144901,
           -0.3558956345525741,
           -0.01828134715315443,
           -0.013777138592563609,
           -0.16225003415973224,
           -0.06412018316253443,
           -0.08492735257290995,
           -0.09771986553990955,
           -0.031776703626707106,
           0.852118066364806,
           1,
           0.9048679892693002,
           0.9679987095183213,
           -0.08390094883952914,
           0.571098966036931,
           -0.05008557664276095,
           0.0910994387326716,
           0.12603733285315913,
           0.08122253933837617,
           -0.04138209798904804,
           0.1338930953733026,
           -0.10642597708474169,
           0.07899465649597284,
           0.056343023501079455,
           0.039258667909349,
           -0.08928452051206884,
           0.02811719879033604,
           0.09636379735648289,
           0.004797674163358263,
           0.04284611078107657,
           0.08700801892624328,
           -0.014441699838904608,
           -0.07371237480303762,
           -0.117385017987391,
           -0.05916581191456882,
           0.10519841195611747,
           0.050551711786959455,
           0.0681456266592918,
           0.17912921584266817,
           0.11943871146021331,
           -0.11177420572517831
          ],
          [
           -0.1615794381383403,
           0.21714749613860562,
           0.15245693890425888,
           -0.11714205281614884,
           0.09781968965319622,
           -0.3604149404616496,
           0.0513634288812822,
           0.011307240308312975,
           -0.13279147350332884,
           -0.0546600405667359,
           -0.05193932374224616,
           -0.06133460487712118,
           0.03424731615006925,
           0.8014679320174145,
           0.9048679892693002,
           1,
           0.9598731540608977,
           -0.058244839475609614,
           0.7591134323284633,
           -0.0450169431133066,
           0.1034556474663929,
           0.10575606393084064,
           0.08140710977255426,
           -0.05800898495931138,
           0.11615798500405021,
           -0.09647736980457627,
           0.0784288656305437,
           0.057712384587600536,
           0.05711054990468315,
           -0.05348341203044536,
           -0.016107827246739197,
           0.0953740128873365,
           -0.021359171689741333,
           0.05200771650145231,
           0.09569223043998626,
           0.022337752197958357,
           -0.08777444691256597,
           -0.08278821499316352,
           -0.039157145237904825,
           0.10199624071669915,
           0.01609970129581426,
           0.05156790091091759,
           0.18246461785815776,
           0.09848337126072902,
           -0.12996995016344992
          ],
          [
           -0.1345893739136659,
           0.22425986840612694,
           0.17585213510215641,
           -0.12819716282790058,
           0.13456471886640659,
           -0.37575889592699574,
           0.021652520873249766,
           0.003773140282622482,
           -0.15451133646504903,
           -0.07250817752779416,
           -0.08802467108072583,
           -0.08038037598606065,
           -0.005908806132303017,
           0.9193861094565478,
           0.9679987095183213,
           0.9598731540608977,
           1,
           -0.08967630733062487,
           0.6275731817722771,
           -0.04328495234661551,
           0.1011220047375818,
           0.10729747795917258,
           0.08256020494734174,
           -0.043047581337284105,
           0.1293340951913522,
           -0.1251603884319512,
           0.08490211345202635,
           0.06638323097739435,
           0.047473461659974334,
           -0.08647252262898385,
           -0.001634898819791811,
           0.12259680656665846,
           -0.012343327458546471,
           0.0338572305825834,
           0.09882649990245437,
           0.0008078045491292555,
           -0.07054513109937562,
           -0.13764355440015,
           -0.06155336912440825,
           0.08951074629513242,
           0.04085861400204227,
           0.06514515885040169,
           0.18948349512533394,
           0.10262808350042352,
           -0.10273108284169238
          ],
          [
           0.13497227369510933,
           -0.02168077011850056,
           -0.007126501283078783,
           0.1491336863642417,
           -0.252697870107462,
           0.15320332600501796,
           -0.10842656102734997,
           0.1897535472402556,
           0.3926829381591808,
           0.8691396236787473,
           0.9396800281768012,
           0.09466236164645628,
           0.13868747915571572,
           -0.12415754277848798,
           -0.08390094883952914,
           -0.058244839475609614,
           -0.08967630733062487,
           1,
           0.01401359683840568,
           0.09350799329223915,
           0.2983306751227617,
           -0.10759916084292012,
           0.11269457042591861,
           -0.009807868207521534,
           -0.019370582034071927,
           -0.007661184034367549,
           0.010091064384399084,
           0.022431018693120166,
           -0.060631215915980245,
           -0.001429911835255061,
           0.10881810833001972,
           -0.06069313943471653,
           0.013818584219659657,
           0.1296121074715432,
           -0.1072067611374734,
           -0.018793579231299807,
           -0.012681829909054672,
           -0.0662068126269321,
           -0.07043498615166977,
           0.06727436084885023,
           -0.05417667782448144,
           -0.10268503128397093,
           -0.09646584317544551,
           0.023839065402943106,
           0.00020567564262736636
          ],
          [
           -0.0927366162008491,
           0.111677307916901,
           0.058021608867752886,
           -0.03837696736606831,
           0.06243251871349938,
           -0.3042134146771154,
           0.056738905006924,
           -0.025076131124951842,
           -0.08512583833153027,
           -0.007748705501580334,
           0.02695132970450815,
           -0.002820383733247816,
           0.15858674189973068,
           0.40190005471970813,
           0.571098966036931,
           0.7591134323284633,
           0.6275731817722771,
           0.01401359683840568,
           1,
           -0.015821602092936,
           0.04389979856761806,
           0.07116165674235864,
           0.09189682346558768,
           -0.07180015230024787,
           0.0551386681731225,
           -0.04249679129592401,
           0.017885079830692978,
           0.06141978881323298,
           0.07932896348381864,
           -0.011565408855103662,
           -0.018847492009186437,
           0.01141445282260365,
           -0.0054087570646524225,
           0.060121220438879,
           0.07553203632779056,
           -0.0035461816991756343,
           -0.03683392962983028,
           0.06917931877242413,
           0.0029531633411959664,
           0.15964465186759486,
           -0.009352448694128126,
           0.030633152025496196,
           0.13214348043994262,
           0.027797504664729192,
           -0.1276270298789767
          ],
          [
           0.3776097043444557,
           -0.1333329469091328,
           -0.07980728900345894,
           0.24230838588082754,
           -0.09068090919669793,
           0.05980424662426844,
           -0.04792574437863733,
           0.03298753032172188,
           -0.007152223697687697,
           0.11420918108850897,
           0.06508707288869692,
           -0.04265110910891195,
           -0.08848010292466851,
           -0.025730909785665716,
           -0.05008557664276095,
           -0.0450169431133066,
           -0.04328495234661551,
           0.09350799329223915,
           -0.015821602092936,
           1,
           -0.012285540711265955,
           -0.27979687843301276,
           0.06486575207191915,
           0.045923272593498085,
           -0.055138668173122435,
           0.042496791295923986,
           -0.05383727592801482,
           -0.016822699509506746,
           -0.0793289634838186,
           -0.06774598867555459,
           0.10663946540103393,
           -0.04167424386239187,
           -0.02990461550621851,
           0.13183625590465495,
           -0.12912812198553425,
           -0.0647826851873793,
           0.0657591825200551,
           -0.13978870098200447,
           -0.16496698553181746,
           -0.017083301104143526,
           -0.11694557640606294,
           -0.08927658522454789,
           -0.024150360218334013,
           -0.1335779896605682,
           0.06070014398160458
          ],
          [
           -0.02860579321174635,
           0.0782278914508982,
           0.034878305558594766,
           0.0597217780289217,
           -0.3062676175682075,
           0.04443588112803812,
           0.058970938020127636,
           0.2387442463757307,
           0.07589739596341268,
           0.26817098320946137,
           0.274193766587162,
           0.14358817321583722,
           -0.0669617568007534,
           0.091839159292908,
           0.0910994387326716,
           0.1034556474663929,
           0.1011220047375818,
           0.2983306751227617,
           0.04389979856761806,
           -0.012285540711265955,
           1,
           -0.028504207880704537,
           0.0898618017966815,
           0.0234427828683069,
           -0.019817203364030398,
           0.0026257126126206422,
           0.0027483076375860917,
           0.16534389886959927,
           -0.06130557074805924,
           0.0333068762490378,
           0.005083313238316811,
           0.044146922146731896,
           0.049882829753159365,
           0.016859351075773434,
           -0.11143439230923112,
           -0.013641677633895873,
           -0.0585247554885648,
           -0.13827095472884066,
           -0.15162261704639832,
           -0.12912561930261088,
           0.09983317697807481,
           -0.008202758050462947,
           -0.15105552113322226,
           0.0441129028719287,
           -0.1020230093857872
          ],
          [
           -0.14672235478098716,
           0.1388040828707694,
           0.0721784504465288,
           -0.3280955044457592,
           -0.020912151915180466,
           -0.07857751168238096,
           0.014258381350886954,
           0.03487815791655048,
           0.06883481023174046,
           -0.09349425505956799,
           -0.1011256851867006,
           -0.04035486790605936,
           -0.027874253538723238,
           0.06970424924589468,
           0.12603733285315913,
           0.10575606393084064,
           0.10729747795917258,
           -0.10759916084292012,
           0.07116165674235864,
           -0.27979687843301276,
           -0.028504207880704537,
           1,
           0.07247214088599942,
           -0.04257194490562891,
           0.09923264542182281,
           -0.032855944583818485,
           0.06854945361034166,
           0.033029523231673914,
           0.058641227286241424,
           -0.056928709279140774,
           0.023403969337444167,
           0.010747843215543377,
           0.1535804178102117,
           -0.04185022088852682,
           -0.0772270700481163,
           -0.08137593971208995,
           0.025176539317869014,
           0.024711974236420717,
           0.023903300612752837,
           0.05279966516679382,
           -0.051360138043401476,
           0.059588598656314565,
           0.04285373498208642,
           0.2168424356872124,
           0.005257151738737039
          ],
          [
           0.03784747570936323,
           -0.043067780552009625,
           -0.05887913383313312,
           0.06349338255353085,
           -0.07359486076088818,
           -0.015769173865193917,
           -0.02277644262603324,
           0.017695255277930748,
           0.023064384264178922,
           0.10152126148220833,
           0.1034250075821991,
           -0.028991659095302647,
           0.035782517919823696,
           0.07144539577371445,
           0.08122253933837617,
           0.08140710977255426,
           0.08256020494734174,
           0.11269457042591861,
           0.09189682346558768,
           0.06486575207191915,
           0.0898618017966815,
           0.07247214088599942,
           1,
           -0.1496115829806161,
           0.003731926438760057,
           -0.06639837566980188,
           0.04165651186292174,
           0.06725887256688133,
           0.021568234995342384,
           0.015408268326271646,
           -0.012870548721779352,
           -0.07218266764919222,
           -0.005727653324442663,
           -0.026981636315816213,
           -0.003842218085734558,
           0.0267268280281278,
           -0.025297985231374095,
           -0.028641771740533912,
           -0.11289306711060021,
           -0.013882161719740476,
           -0.00011317630529291683,
           0.10208845430804109,
           -0.005806391192913814,
           0.0007204072894538791,
           0.03439481615534149
          ],
          [
           0.029597771913097495,
           -0.12356462296254882,
           -0.08872967692175886,
           0.028265208944448693,
           0.024293898047854954,
           -0.003338663416334378,
           0.025178646580674917,
           0.03871682899180657,
           0.003458654470256074,
           -0.030589888827756383,
           0.006044780174187111,
           0.022307334690118235,
           -0.13493690058971042,
           -0.016868323908790034,
           -0.04138209798904804,
           -0.05800898495931138,
           -0.043047581337284105,
           -0.009807868207521534,
           -0.07180015230024787,
           0.045923272593498085,
           0.0234427828683069,
           -0.04257194490562891,
           -0.1496115829806161,
           1,
           0.01565884290954456,
           -0.023641160486198572,
           -0.06255643488234043,
           0.02392668541343354,
           -0.04504089752882104,
           -0.007940071656582058,
           0.08349630094058437,
           -0.06332707734171382,
           -0.03131009636420875,
           0.021247163258939654,
           -0.0019027108007904918,
           -0.06581330988316224,
           -0.051061276459958796,
           -0.04223787181353992,
           0.019066690264514213,
           0.046435228340679015,
           0.09735227435392615,
           -0.09061453752778495,
           -0.04073472033329853,
           0.07007399926014742,
           -0.04045083112570104
          ],
          [
           -0.08266011239452319,
           0.2519732640082501,
           0.11850108501406748,
           -0.10670804727709496,
           -0.012977196482372548,
           -0.04085913854842293,
           -0.06154750656321579,
           -0.009093797515206833,
           0.05925175650609182,
           -0.07461991789510457,
           0.021762830339793718,
           0.04647457126818435,
           -0.04415604680036697,
           0.12007449708538677,
           0.1338930953733026,
           0.11615798500405021,
           0.1293340951913522,
           -0.019370582034071927,
           0.0551386681731225,
           -0.055138668173122435,
           -0.019817203364030398,
           0.09923264542182281,
           0.003731926438760057,
           0.01565884290954456,
           1,
           -0.22865386963664144,
           -0.18226909792387183,
           -0.12731656238182448,
           0.19262776408078303,
           -0.03044953051398795,
           0.00894744317595857,
           -0.051779145579905185,
           -0.007719472462262877,
           0.09098987815914936,
           0.08095200951067774,
           -0.048816074640095734,
           -0.024957145038298222,
           -0.06433015909995271,
           0.09578759733558498,
           0.08007648582687818,
           0.012615867785048416,
           0.06644582590464516,
           0.0708737188656988,
           0.08906384296060321,
           0.03134341993525761
          ],
          [
           0.03248795420246744,
           -0.23517645846498547,
           -0.1970772278634458,
           0.036544207010774064,
           -0.006288351277440266,
           0.006268115922610331,
           0.022736020759202502,
           -0.011639682742668717,
           -0.0016603602145471696,
           0.01887204662213045,
           -0.024856720757992924,
           -0.03491447640441542,
           0.043004860100182125,
           -0.1644212195642037,
           -0.10642597708474169,
           -0.09647736980457627,
           -0.1251603884319512,
           -0.007661184034367549,
           -0.04249679129592401,
           0.042496791295923986,
           0.0026257126126206422,
           -0.032855944583818485,
           -0.06639837566980188,
           -0.023641160486198572,
           -0.22865386963664144,
           1,
           -0.4425067345448781,
           -0.30909483239222063,
           -0.11212645353605284,
           0.281850820267135,
           -0.1836574171493074,
           -0.08816778298209467,
           0.09564980532941456,
           -0.08905752376109924,
           0.030130269596345575,
           -0.09664929241751331,
           0.030544521804578097,
           0.04404314766085867,
           -0.12349320857741088,
           -0.1125239766894776,
           -0.09248012870658286,
           -0.09274043963923886,
           0.0033558739749986613,
           -0.048732997532167456,
           0.04347613217039689
          ],
          [
           -0.007731822232266765,
           0.05176426416832547,
           0.028032176105996266,
           -0.0509425979876513,
           -0.004475999941348363,
           0.10542968805041342,
           0.056255001491396554,
           0.02167169365590612,
           0.014455293946711531,
           0.02888047416822895,
           -0.004426158033299209,
           0.0826124963237849,
           0.02307600051558707,
           0.0859059659443447,
           0.07899465649597284,
           0.0784288656305437,
           0.08490211345202635,
           0.010091064384399084,
           0.017885079830692978,
           -0.05383727592801482,
           0.0027483076375860917,
           0.06854945361034166,
           0.04165651186292174,
           -0.06255643488234043,
           -0.18226909792387183,
           -0.4425067345448781,
           1,
           -0.24639179018745225,
           -0.019179337303971183,
           -0.16902384194144202,
           0.1803095626396517,
           0.009682701050778652,
           -0.04415403402681071,
           0.032309550764777775,
           0.03420083137089603,
           -0.014818408600512483,
           0.013856751363084474,
           0.04645046565086704,
           0.04611850105041229,
           0.009287590316015323,
           0.041377182843923374,
           0.030298885023225586,
           0.005659502497939411,
           0.08053143086361696,
           -0.04181002922281025
          ],
          [
           -0.05825631837557492,
           0.4549111296734017,
           0.2945262559104054,
           -0.051234658497869484,
           -0.009008948300920168,
           -0.1577708055660617,
           -0.02212150112660323,
           0.08850801123418461,
           -0.021318681723829155,
           0.04101547947433633,
           0.006194354788231018,
           -0.005959790752812518,
           0.0016878065087646999,
           0.07829405206297808,
           0.056343023501079455,
           0.057712384587600536,
           0.06638323097739435,
           0.022431018693120166,
           0.06141978881323298,
           -0.016822699509506746,
           0.16534389886959927,
           0.033029523231673914,
           0.06725887256688133,
           0.02392668541343354,
           -0.12731656238182448,
           -0.30909483239222063,
           -0.24639179018745225,
           1,
           0.04654027175052072,
           -0.15616715525009453,
           0.04298479033994109,
           0.2123092871856644,
           -0.00008102234019729445,
           -0.03196217245067288,
           -0.039145403668632055,
           0.1534802496884178,
           -0.07074568496194748,
           -0.09574486233621089,
           0.06557166858425893,
           0.1352699244503737,
           0.1071083881188245,
           0.10441110579041811,
           0.06318323472336188,
           0.12829162294033034,
           -0.05128763475700444
          ],
          [
           -0.10984229017135132,
           0.08339785882420922,
           0.16321640077861838,
           -0.08827674876416364,
           0.12110682900452449,
           -0.016592874765707345,
           -0.013521208616233543,
           -0.06373843496444054,
           -0.02139359054667829,
           -0.03627304887040472,
           -0.06833315180327686,
           0.07885925208835821,
           -0.0041909733778990165,
           0.03530292001327464,
           0.039258667909349,
           0.05711054990468315,
           0.047473461659974334,
           -0.060631215915980245,
           0.07932896348381864,
           -0.0793289634838186,
           -0.06130557074805924,
           0.058641227286241424,
           0.021568234995342384,
           -0.04504089752882104,
           0.19262776408078303,
           -0.11212645353605284,
           -0.019179337303971183,
           0.04654027175052072,
           1,
           -0.24126006651374207,
           -0.13660540928201848,
           -0.06150692760785483,
           -0.053421714941548175,
           0.057341478066008346,
           0.11582802780385688,
           -0.06412226688854566,
           -0.02038653163910219,
           0.09687322327627854,
           0.0989834570105875,
           0.06704655107423621,
           -0.0038728861300818375,
           0.050846633183556214,
           0.05046205602374157,
           -0.03229306171937888,
           -0.00039091243251397937
          ],
          [
           0.007681779727398609,
           -0.1098870186365592,
           -0.25360477153235766,
           0.09321439777133851,
           -0.04061853747217995,
           -0.03779214590060367,
           0.017534365571648922,
           0.04033842986474083,
           0.04748841742741037,
           -0.07652561229662722,
           0.05072381720023505,
           -0.0011410613691986958,
           0.01666387512631404,
           -0.11392396431088493,
           -0.08928452051206884,
           -0.05348341203044536,
           -0.08647252262898385,
           -0.001429911835255061,
           -0.011565408855103662,
           -0.06774598867555459,
           0.0333068762490378,
           -0.056928709279140774,
           0.015408268326271646,
           -0.007940071656582058,
           -0.03044953051398795,
           0.281850820267135,
           -0.16902384194144202,
           -0.15616715525009453,
           -0.24126006651374207,
           1,
           -0.6902750643793221,
           -0.3107980762799472,
           0.02412066763086479,
           -0.11981467896686,
           0.026680107646678622,
           0.15442949747091927,
           0.02648467765461006,
           -0.04579015124339707,
           -0.0203344801106028,
           0.01597726479435611,
           -0.0551925811344492,
           -0.08193091741071114,
           0.0461210469213643,
           -0.06467374240956582,
           -0.05950487158799223
          ],
          [
           0.04296340471197618,
           -0.03183401392719627,
           0.02130638485422079,
           -0.03023193913900936,
           0.007161902812815039,
           0.08270642059015589,
           0.051460844863628064,
           -0.05156959278262229,
           -0.010554285120595919,
           0.11147517543741084,
           0.09056778455066901,
           -0.03870341058476773,
           0.012906640333903747,
           -0.01509326945578612,
           0.02811719879033604,
           -0.016107827246739197,
           -0.001634898819791811,
           0.10881810833001972,
           -0.018847492009186437,
           0.10663946540103393,
           0.005083313238316811,
           0.023403969337444167,
           -0.012870548721779352,
           0.08349630094058437,
           0.00894744317595857,
           -0.1836574171493074,
           0.1803095626396517,
           0.04298479033994109,
           -0.13660540928201848,
           -0.6902750643793221,
           1,
           -0.17597897168725168,
           -0.007942960853295598,
           0.07599871085440094,
           -0.044702876076140166,
           -0.13063705163805003,
           0.020798600400327716,
           -0.03916288356619817,
           -0.06942895472694606,
           0.0015453502484226746,
           0.07341570768182183,
           -0.0033197078140028897,
           -0.08682203772804072,
           0.0988411852035615,
           0.022761950624802785
          ],
          [
           -0.06999309678661567,
           0.25983649032684736,
           0.347202595977805,
           0.014004162251563038,
           -0.05822462356731178,
           -0.07437739365318921,
           -0.06920408962581337,
           0.001675009226579579,
           -0.018829973102319,
           0.0005524489387209014,
           -0.09389799689592321,
           0.020422552742560246,
           -0.024963864659396737,
           0.16878157378567946,
           0.09636379735648289,
           0.0953740128873365,
           0.12259680656665846,
           -0.06069313943471653,
           0.01141445282260365,
           -0.04167424386239187,
           0.044146922146731896,
           0.010747843215543377,
           -0.07218266764919222,
           -0.06332707734171382,
           -0.051779145579905185,
           -0.08816778298209467,
           0.009682701050778652,
           0.2123092871856644,
           -0.06150692760785483,
           -0.3107980762799472,
           -0.17597897168725168,
           1,
           -0.02177004760607293,
           0.07948984765820233,
           -0.03754659712467619,
           -0.0009041659353650089,
           -0.08357572119150761,
           0.06529408692357198,
           0.06441662355561911,
           -0.06406538425363291,
           -0.014697137355763792,
           0.04680362215970413,
           0.020734881373455135,
           -0.030036919060666786,
           0.026933088713942673
          ],
          [
           0.018282905955786175,
           -0.008707953389905182,
           -0.009617798292022257,
           -0.08002693049188665,
           -0.03961952609207943,
           0.04251138355246316,
           -0.012200704962088117,
           -0.08324920986683347,
           -0.004410415309976573,
           0.022726080291690404,
           0.005573732039877488,
           -0.001765808503972767,
           0.1110605628912251,
           -0.01719771417961294,
           0.004797674163358263,
           -0.021359171689741333,
           -0.012343327458546471,
           0.013818584219659657,
           -0.0054087570646524225,
           -0.02990461550621851,
           0.049882829753159365,
           0.1535804178102117,
           -0.005727653324442663,
           -0.03131009636420875,
           -0.007719472462262877,
           0.09564980532941456,
           -0.04415403402681071,
           -0.00008102234019729445,
           -0.053421714941548175,
           0.02412066763086479,
           -0.007942960853295598,
           -0.02177004760607293,
           1,
           -0.19549437168397116,
           -0.3714718280378765,
           -0.06538935164367868,
           0.08655039055609211,
           -0.0012400449356593868,
           0.0025607641942845716,
           0.08017494532662828,
           -0.05059451319149196,
           0.018964336729435,
           0.06507230393179489,
           0.048774793548882416,
           0.03091433063917851
          ],
          [
           0.02717190229236457,
           0.008228623134510997,
           -0.014363621261140687,
           -0.001662306249709518,
           -0.10784190812733012,
           -0.012203379719596175,
           -0.019595392284450633,
           0.039890906947566654,
           -0.015181699029852872,
           0.1550759768834557,
           0.09245174856373647,
           0.006591543255118976,
           -0.003872680398836381,
           -0.007214835330850152,
           0.04284611078107657,
           0.05200771650145231,
           0.0338572305825834,
           0.1296121074715432,
           0.060121220438879,
           0.13183625590465495,
           0.016859351075773434,
           -0.04185022088852682,
           -0.026981636315816213,
           0.021247163258939654,
           0.09098987815914936,
           -0.08905752376109924,
           0.032309550764777775,
           -0.03196217245067288,
           0.057341478066008346,
           -0.11981467896686,
           0.07599871085440094,
           0.07948984765820233,
           -0.19549437168397116,
           1,
           -0.19054592994018718,
           0.021304068793217522,
           -0.0295448503255801,
           -0.01700110624102696,
           -0.073233643011481,
           0.061857368611169514,
           -0.023208141032729324,
           -0.01345810828009432,
           -0.12747194705778117,
           -0.023221015582873757,
           0.07402573766654427
          ],
          [
           -0.031932089853311134,
           0.1064867750255579,
           0.04872407666220103,
           -0.03332211070490003,
           0.19334213567590391,
           -0.07012695642159368,
           -0.0009720392937582316,
           -0.05010065576185345,
           -0.03829694257907407,
           -0.11921349434891693,
           -0.08273300841478978,
           -0.1453373511426996,
           0.07067110181774713,
           0.09952161810350137,
           0.08700801892624328,
           0.09569223043998626,
           0.09882649990245437,
           -0.1072067611374734,
           0.07553203632779056,
           -0.12912812198553425,
           -0.11143439230923112,
           -0.0772270700481163,
           -0.003842218085734558,
           -0.0019027108007904918,
           0.08095200951067774,
           0.030130269596345575,
           0.03420083137089603,
           -0.039145403668632055,
           0.11582802780385688,
           0.026680107646678622,
           -0.044702876076140166,
           -0.03754659712467619,
           -0.3714718280378765,
           -0.19054592994018718,
           1,
           -0.019468693239047475,
           0.010368421911893988,
           0.024661352895970882,
           0.11376700261951767,
           0.06769913732961495,
           0.13262446894483612,
           0.05012717450733456,
           0.08668561116679448,
           0.03908431425336274,
           -0.02537438121289075
          ],
          [
           -0.13355847434718549,
           0.1123749956066383,
           -0.047264696668535444,
           -0.05766914164831444,
           -0.024031028827474887,
           -0.13449798020827683,
           -0.010982752978107965,
           -0.028979060953292914,
           0.08023556538664924,
           -0.051224275504783146,
           0.006470865287926535,
           -0.02509586418503715,
           0.023638025702052274,
           -0.011767242246091675,
           -0.014441699838904608,
           0.022337752197958357,
           0.0008078045491292555,
           -0.018793579231299807,
           -0.0035461816991756343,
           -0.0647826851873793,
           -0.013641677633895873,
           -0.08137593971208995,
           0.0267268280281278,
           -0.06581330988316224,
           -0.048816074640095734,
           -0.09664929241751331,
           -0.014818408600512483,
           0.1534802496884178,
           -0.06412226688854566,
           0.15442949747091927,
           -0.13063705163805003,
           -0.0009041659353650089,
           -0.06538935164367868,
           0.021304068793217522,
           -0.019468693239047475,
           1,
           -0.4441432690731064,
           -0.004054156668295901,
           -0.014124303441965516,
           0.06492637160710255,
           0.022809285698281816,
           0.1083316600963345,
           -0.004429004988691778,
           -0.020340244578350205,
           -0.03752533652669118
          ],
          [
           0.39839608659431075,
           -0.11863487652049541,
           -0.09125030592886293,
           0.04875803109595601,
           0.031723793341324164,
           0.2911567475266947,
           0.049548427450587115,
           0.0694375363205793,
           -0.012379952001256325,
           0.03762601742293444,
           -0.0455632396071211,
           -0.04504915237667838,
           0.14082632286564664,
           -0.03102187704608968,
           -0.07371237480303762,
           -0.08777444691256597,
           -0.07054513109937562,
           -0.012681829909054672,
           -0.03683392962983028,
           0.0657591825200551,
           -0.0585247554885648,
           0.025176539317869014,
           -0.025297985231374095,
           -0.051061276459958796,
           -0.024957145038298222,
           0.030544521804578097,
           0.013856751363084474,
           -0.07074568496194748,
           -0.02038653163910219,
           0.02648467765461006,
           0.020798600400327716,
           -0.08357572119150761,
           0.08655039055609211,
           -0.0295448503255801,
           0.010368421911893988,
           -0.4441432690731064,
           1,
           -0.05898199805543278,
           0.007522165740646313,
           -0.012351702293024118,
           -0.04238179458142382,
           -0.17092915918460358,
           -0.01607060866333033,
           -0.04111638867877372,
           0.12404537775885346
          ],
          [
           -0.2518108925243978,
           -0.036029477530141026,
           0.037529649429853734,
           -0.009246380479402086,
           0.03776269753175017,
           -0.0004374906768835413,
           -0.0013446289562390001,
           -0.04546542566325396,
           -0.037698491200771435,
           -0.02148510004256596,
           -0.08715173838620668,
           -0.03412368911019259,
           0.02252588825015057,
           -0.21260651009778345,
           -0.117385017987391,
           -0.08278821499316352,
           -0.13764355440015,
           -0.0662068126269321,
           0.06917931877242413,
           -0.13978870098200447,
           -0.13827095472884066,
           0.024711974236420717,
           -0.028641771740533912,
           -0.04223787181353992,
           -0.06433015909995271,
           0.04404314766085867,
           0.04645046565086704,
           -0.09574486233621089,
           0.09687322327627854,
           -0.04579015124339707,
           -0.03916288356619817,
           0.06529408692357198,
           -0.0012400449356593868,
           -0.01700110624102696,
           0.024661352895970882,
           -0.004054156668295901,
           -0.05898199805543278,
           1,
           0.10468106141162058,
           -0.02075328172588779,
           0.04603236454872108,
           0.04596715096496744,
           0.05448601885061874,
           -0.009683393447335997,
           -0.08071610282354141
          ],
          [
           -0.14060858401008833,
           0.18372702163308938,
           0.18549610936049957,
           -0.0032862607411161962,
           0.1452276174715617,
           -0.05507462060044469,
           -0.020436190901040423,
           0.01053758797636471,
           -0.015631442799970616,
           -0.03157520439592055,
           -0.08668793458170154,
           0.02929745163601286,
           0.024353248645373426,
           -0.08456874902190263,
           -0.05916581191456882,
           -0.039157145237904825,
           -0.06155336912440825,
           -0.07043498615166977,
           0.0029531633411959664,
           -0.16496698553181746,
           -0.15162261704639832,
           0.023903300612752837,
           -0.11289306711060021,
           0.019066690264514213,
           0.09578759733558498,
           -0.12349320857741088,
           0.04611850105041229,
           0.06557166858425893,
           0.0989834570105875,
           -0.0203344801106028,
           -0.06942895472694606,
           0.06441662355561911,
           0.0025607641942845716,
           -0.073233643011481,
           0.11376700261951767,
           -0.014124303441965516,
           0.007522165740646313,
           0.10468106141162058,
           1,
           0.2931843385848306,
           -0.0015001081259559356,
           0.05953574814485432,
           0.10081502255762491,
           0.10358112685445658,
           0.012439892301595786
          ],
          [
           -0.03593287357584213,
           0.15970038116357727,
           0.0869814163452831,
           -0.06642023876188201,
           0.16721987997343468,
           -0.18803896588299923,
           0.00045965292017171715,
           -0.06425287213862783,
           0.010493267867462788,
           0.06246536216591231,
           0.06045364316722,
           -0.0781324030486777,
           0.007435173945228779,
           0.03907932362998426,
           0.10519841195611747,
           0.10199624071669915,
           0.08951074629513242,
           0.06727436084885023,
           0.15964465186759486,
           -0.017083301104143526,
           -0.12912561930261088,
           0.05279966516679382,
           -0.013882161719740476,
           0.046435228340679015,
           0.08007648582687818,
           -0.1125239766894776,
           0.009287590316015323,
           0.1352699244503737,
           0.06704655107423621,
           0.01597726479435611,
           0.0015453502484226746,
           -0.06406538425363291,
           0.08017494532662828,
           0.061857368611169514,
           0.06769913732961495,
           0.06492637160710255,
           -0.012351702293024118,
           -0.02075328172588779,
           0.2931843385848306,
           1,
           -0.02138237569661329,
           0.10214332956270841,
           0.1892138459144128,
           0.15313155135370624,
           0.005535859050709579
          ],
          [
           -0.10306262378630883,
           0.10827676167573728,
           0.11264279071370002,
           -0.007766399487757516,
           0.08987727165449064,
           -0.06934052547033985,
           0.04068659999482154,
           0.08972816441029766,
           0.046087685764072815,
           -0.06650809390082976,
           -0.037476696217656855,
           0.023922814816364296,
           -0.013609691622779344,
           0.05700968864896531,
           0.050551711786959455,
           0.01609970129581426,
           0.04085861400204227,
           -0.05417667782448144,
           -0.009352448694128126,
           -0.11694557640606294,
           0.09983317697807481,
           -0.051360138043401476,
           -0.00011317630529291683,
           0.09735227435392615,
           0.012615867785048416,
           -0.09248012870658286,
           0.041377182843923374,
           0.1071083881188245,
           -0.0038728861300818375,
           -0.0551925811344492,
           0.07341570768182183,
           -0.014697137355763792,
           -0.05059451319149196,
           -0.023208141032729324,
           0.13262446894483612,
           0.022809285698281816,
           -0.04238179458142382,
           0.04603236454872108,
           -0.0015001081259559356,
           -0.02138237569661329,
           1,
           0.002730814650295516,
           0.0964838042403456,
           0.048662502936398774,
           0.01965054336700089
          ],
          [
           -0.08663191735557435,
           0.1932625172339374,
           0.15717725498499605,
           -0.03333827781764528,
           0.08132455462394537,
           -0.10073358648290452,
           -0.0035807191201688363,
           -0.024696318418405822,
           0.004611527845810735,
           -0.08484863839607748,
           -0.09953352509638196,
           -0.018474716473445812,
           0.01915535611508717,
           0.06926306347696605,
           0.0681456266592918,
           0.05156790091091759,
           0.06514515885040169,
           -0.10268503128397093,
           0.030633152025496196,
           -0.08927658522454789,
           -0.008202758050462947,
           0.059588598656314565,
           0.10208845430804109,
           -0.09061453752778495,
           0.06644582590464516,
           -0.09274043963923886,
           0.030298885023225586,
           0.10441110579041811,
           0.050846633183556214,
           -0.08193091741071114,
           -0.0033197078140028897,
           0.04680362215970413,
           0.018964336729435,
           -0.01345810828009432,
           0.05012717450733456,
           0.1083316600963345,
           -0.17092915918460358,
           0.04596715096496744,
           0.05953574814485432,
           0.10214332956270841,
           0.002730814650295516,
           1,
           0.05430293437092286,
           0.007829617982853265,
           0.027494756841067697
          ],
          [
           -0.20908080658894834,
           0.16884453374475863,
           0.17456552021164734,
           -0.08350810208230457,
           0.17508142485948539,
           -0.30031574127595917,
           0.02431934424934013,
           -0.06124399142211575,
           -0.0397004986922205,
           -0.06982806255250017,
           -0.10033961339145732,
           -0.015894983414397587,
           -0.05608522679996929,
           0.17826403421417428,
           0.17912921584266817,
           0.18246461785815776,
           0.18948349512533394,
           -0.09646584317544551,
           0.13214348043994262,
           -0.024150360218334013,
           -0.15105552113322226,
           0.04285373498208642,
           -0.005806391192913814,
           -0.04073472033329853,
           0.0708737188656988,
           0.0033558739749986613,
           0.005659502497939411,
           0.06318323472336188,
           0.05046205602374157,
           0.0461210469213643,
           -0.08682203772804072,
           0.020734881373455135,
           0.06507230393179489,
           -0.12747194705778117,
           0.08668561116679448,
           -0.004429004988691778,
           -0.01607060866333033,
           0.05448601885061874,
           0.10081502255762491,
           0.1892138459144128,
           0.0964838042403456,
           0.05430293437092286,
           1,
           0.02037383569803741,
           -0.10566445364376825
          ],
          [
           -0.11209350841422763,
           0.20146344932450697,
           0.12750661100367616,
           -0.11130164561256994,
           0.05942172915851555,
           -0.06345123525547233,
           0.03276756494939123,
           0.05128644652787958,
           0.07436962497358945,
           0.036210376872206816,
           0.011687200197666796,
           -0.08018919687234362,
           0.10170077431178585,
           0.07161884564094172,
           0.11943871146021331,
           0.09848337126072902,
           0.10262808350042352,
           0.023839065402943106,
           0.027797504664729192,
           -0.1335779896605682,
           0.0441129028719287,
           0.2168424356872124,
           0.0007204072894538791,
           0.07007399926014742,
           0.08906384296060321,
           -0.048732997532167456,
           0.08053143086361696,
           0.12829162294033034,
           -0.03229306171937888,
           -0.06467374240956582,
           0.0988411852035615,
           -0.030036919060666786,
           0.048774793548882416,
           -0.023221015582873757,
           0.03908431425336274,
           -0.020340244578350205,
           -0.04111638867877372,
           -0.009683393447335997,
           0.10358112685445658,
           0.15313155135370624,
           0.048662502936398774,
           0.007829617982853265,
           0.02037383569803741,
           1,
           0.08712171555343808
          ],
          [
           0.164668753622101,
           0.039680611900546434,
           0.015602498423325393,
           0.02196239607201445,
           0.05328461732497235,
           0.09313704346353699,
           -0.06381615704863158,
           -0.011182171529296075,
           0.007869926458163307,
           0.01512070513264116,
           -0.010140952309397776,
           0.026342317192077542,
           0.15338449094534376,
           -0.03718833098938913,
           -0.11177420572517831,
           -0.12996995016344992,
           -0.10273108284169238,
           0.00020567564262736636,
           -0.1276270298789767,
           0.06070014398160458,
           -0.1020230093857872,
           0.005257151738737039,
           0.03439481615534149,
           -0.04045083112570104,
           0.03134341993525761,
           0.04347613217039689,
           -0.04181002922281025,
           -0.05128763475700444,
           -0.00039091243251397937,
           -0.05950487158799223,
           0.022761950624802785,
           0.026933088713942673,
           0.03091433063917851,
           0.07402573766654427,
           -0.02537438121289075,
           -0.03752533652669118,
           0.12404537775885346,
           -0.08071610282354141,
           0.012439892301595786,
           0.005535859050709579,
           0.01965054336700089,
           0.027494756841067697,
           -0.10566445364376825,
           0.08712171555343808,
           1
          ]
         ]
        }
       ],
       "layout": {
        "coloraxis": {
         "colorscale": [
          [
           0,
           "#0d0887"
          ],
          [
           0.1111111111111111,
           "#46039f"
          ],
          [
           0.2222222222222222,
           "#7201a8"
          ],
          [
           0.3333333333333333,
           "#9c179e"
          ],
          [
           0.4444444444444444,
           "#bd3786"
          ],
          [
           0.5555555555555556,
           "#d8576b"
          ],
          [
           0.6666666666666666,
           "#ed7953"
          ],
          [
           0.7777777777777778,
           "#fb9f3a"
          ],
          [
           0.8888888888888888,
           "#fdca26"
          ],
          [
           1,
           "#f0f921"
          ]
         ]
        },
        "template": {
         "data": {
          "bar": [
           {
            "error_x": {
             "color": "#2a3f5f"
            },
            "error_y": {
             "color": "#2a3f5f"
            },
            "marker": {
             "line": {
              "color": "#E5ECF6",
              "width": 0.5
             },
             "pattern": {
              "fillmode": "overlay",
              "size": 10,
              "solidity": 0.2
             }
            },
            "type": "bar"
           }
          ],
          "barpolar": [
           {
            "marker": {
             "line": {
              "color": "#E5ECF6",
              "width": 0.5
             },
             "pattern": {
              "fillmode": "overlay",
              "size": 10,
              "solidity": 0.2
             }
            },
            "type": "barpolar"
           }
          ],
          "carpet": [
           {
            "aaxis": {
             "endlinecolor": "#2a3f5f",
             "gridcolor": "white",
             "linecolor": "white",
             "minorgridcolor": "white",
             "startlinecolor": "#2a3f5f"
            },
            "baxis": {
             "endlinecolor": "#2a3f5f",
             "gridcolor": "white",
             "linecolor": "white",
             "minorgridcolor": "white",
             "startlinecolor": "#2a3f5f"
            },
            "type": "carpet"
           }
          ],
          "choropleth": [
           {
            "colorbar": {
             "outlinewidth": 0,
             "ticks": ""
            },
            "type": "choropleth"
           }
          ],
          "contour": [
           {
            "colorbar": {
             "outlinewidth": 0,
             "ticks": ""
            },
            "colorscale": [
             [
              0,
              "#0d0887"
             ],
             [
              0.1111111111111111,
              "#46039f"
             ],
             [
              0.2222222222222222,
              "#7201a8"
             ],
             [
              0.3333333333333333,
              "#9c179e"
             ],
             [
              0.4444444444444444,
              "#bd3786"
             ],
             [
              0.5555555555555556,
              "#d8576b"
             ],
             [
              0.6666666666666666,
              "#ed7953"
             ],
             [
              0.7777777777777778,
              "#fb9f3a"
             ],
             [
              0.8888888888888888,
              "#fdca26"
             ],
             [
              1,
              "#f0f921"
             ]
            ],
            "type": "contour"
           }
          ],
          "contourcarpet": [
           {
            "colorbar": {
             "outlinewidth": 0,
             "ticks": ""
            },
            "type": "contourcarpet"
           }
          ],
          "heatmap": [
           {
            "colorbar": {
             "outlinewidth": 0,
             "ticks": ""
            },
            "colorscale": [
             [
              0,
              "#0d0887"
             ],
             [
              0.1111111111111111,
              "#46039f"
             ],
             [
              0.2222222222222222,
              "#7201a8"
             ],
             [
              0.3333333333333333,
              "#9c179e"
             ],
             [
              0.4444444444444444,
              "#bd3786"
             ],
             [
              0.5555555555555556,
              "#d8576b"
             ],
             [
              0.6666666666666666,
              "#ed7953"
             ],
             [
              0.7777777777777778,
              "#fb9f3a"
             ],
             [
              0.8888888888888888,
              "#fdca26"
             ],
             [
              1,
              "#f0f921"
             ]
            ],
            "type": "heatmap"
           }
          ],
          "heatmapgl": [
           {
            "colorbar": {
             "outlinewidth": 0,
             "ticks": ""
            },
            "colorscale": [
             [
              0,
              "#0d0887"
             ],
             [
              0.1111111111111111,
              "#46039f"
             ],
             [
              0.2222222222222222,
              "#7201a8"
             ],
             [
              0.3333333333333333,
              "#9c179e"
             ],
             [
              0.4444444444444444,
              "#bd3786"
             ],
             [
              0.5555555555555556,
              "#d8576b"
             ],
             [
              0.6666666666666666,
              "#ed7953"
             ],
             [
              0.7777777777777778,
              "#fb9f3a"
             ],
             [
              0.8888888888888888,
              "#fdca26"
             ],
             [
              1,
              "#f0f921"
             ]
            ],
            "type": "heatmapgl"
           }
          ],
          "histogram": [
           {
            "marker": {
             "pattern": {
              "fillmode": "overlay",
              "size": 10,
              "solidity": 0.2
             }
            },
            "type": "histogram"
           }
          ],
          "histogram2d": [
           {
            "colorbar": {
             "outlinewidth": 0,
             "ticks": ""
            },
            "colorscale": [
             [
              0,
              "#0d0887"
             ],
             [
              0.1111111111111111,
              "#46039f"
             ],
             [
              0.2222222222222222,
              "#7201a8"
             ],
             [
              0.3333333333333333,
              "#9c179e"
             ],
             [
              0.4444444444444444,
              "#bd3786"
             ],
             [
              0.5555555555555556,
              "#d8576b"
             ],
             [
              0.6666666666666666,
              "#ed7953"
             ],
             [
              0.7777777777777778,
              "#fb9f3a"
             ],
             [
              0.8888888888888888,
              "#fdca26"
             ],
             [
              1,
              "#f0f921"
             ]
            ],
            "type": "histogram2d"
           }
          ],
          "histogram2dcontour": [
           {
            "colorbar": {
             "outlinewidth": 0,
             "ticks": ""
            },
            "colorscale": [
             [
              0,
              "#0d0887"
             ],
             [
              0.1111111111111111,
              "#46039f"
             ],
             [
              0.2222222222222222,
              "#7201a8"
             ],
             [
              0.3333333333333333,
              "#9c179e"
             ],
             [
              0.4444444444444444,
              "#bd3786"
             ],
             [
              0.5555555555555556,
              "#d8576b"
             ],
             [
              0.6666666666666666,
              "#ed7953"
             ],
             [
              0.7777777777777778,
              "#fb9f3a"
             ],
             [
              0.8888888888888888,
              "#fdca26"
             ],
             [
              1,
              "#f0f921"
             ]
            ],
            "type": "histogram2dcontour"
           }
          ],
          "mesh3d": [
           {
            "colorbar": {
             "outlinewidth": 0,
             "ticks": ""
            },
            "type": "mesh3d"
           }
          ],
          "parcoords": [
           {
            "line": {
             "colorbar": {
              "outlinewidth": 0,
              "ticks": ""
             }
            },
            "type": "parcoords"
           }
          ],
          "pie": [
           {
            "automargin": true,
            "type": "pie"
           }
          ],
          "scatter": [
           {
            "fillpattern": {
             "fillmode": "overlay",
             "size": 10,
             "solidity": 0.2
            },
            "type": "scatter"
           }
          ],
          "scatter3d": [
           {
            "line": {
             "colorbar": {
              "outlinewidth": 0,
              "ticks": ""
             }
            },
            "marker": {
             "colorbar": {
              "outlinewidth": 0,
              "ticks": ""
             }
            },
            "type": "scatter3d"
           }
          ],
          "scattercarpet": [
           {
            "marker": {
             "colorbar": {
              "outlinewidth": 0,
              "ticks": ""
             }
            },
            "type": "scattercarpet"
           }
          ],
          "scattergeo": [
           {
            "marker": {
             "colorbar": {
              "outlinewidth": 0,
              "ticks": ""
             }
            },
            "type": "scattergeo"
           }
          ],
          "scattergl": [
           {
            "marker": {
             "colorbar": {
              "outlinewidth": 0,
              "ticks": ""
             }
            },
            "type": "scattergl"
           }
          ],
          "scattermapbox": [
           {
            "marker": {
             "colorbar": {
              "outlinewidth": 0,
              "ticks": ""
             }
            },
            "type": "scattermapbox"
           }
          ],
          "scatterpolar": [
           {
            "marker": {
             "colorbar": {
              "outlinewidth": 0,
              "ticks": ""
             }
            },
            "type": "scatterpolar"
           }
          ],
          "scatterpolargl": [
           {
            "marker": {
             "colorbar": {
              "outlinewidth": 0,
              "ticks": ""
             }
            },
            "type": "scatterpolargl"
           }
          ],
          "scatterternary": [
           {
            "marker": {
             "colorbar": {
              "outlinewidth": 0,
              "ticks": ""
             }
            },
            "type": "scatterternary"
           }
          ],
          "surface": [
           {
            "colorbar": {
             "outlinewidth": 0,
             "ticks": ""
            },
            "colorscale": [
             [
              0,
              "#0d0887"
             ],
             [
              0.1111111111111111,
              "#46039f"
             ],
             [
              0.2222222222222222,
              "#7201a8"
             ],
             [
              0.3333333333333333,
              "#9c179e"
             ],
             [
              0.4444444444444444,
              "#bd3786"
             ],
             [
              0.5555555555555556,
              "#d8576b"
             ],
             [
              0.6666666666666666,
              "#ed7953"
             ],
             [
              0.7777777777777778,
              "#fb9f3a"
             ],
             [
              0.8888888888888888,
              "#fdca26"
             ],
             [
              1,
              "#f0f921"
             ]
            ],
            "type": "surface"
           }
          ],
          "table": [
           {
            "cells": {
             "fill": {
              "color": "#EBF0F8"
             },
             "line": {
              "color": "white"
             }
            },
            "header": {
             "fill": {
              "color": "#C8D4E3"
             },
             "line": {
              "color": "white"
             }
            },
            "type": "table"
           }
          ]
         },
         "layout": {
          "annotationdefaults": {
           "arrowcolor": "#2a3f5f",
           "arrowhead": 0,
           "arrowwidth": 1
          },
          "autotypenumbers": "strict",
          "coloraxis": {
           "colorbar": {
            "outlinewidth": 0,
            "ticks": ""
           }
          },
          "colorscale": {
           "diverging": [
            [
             0,
             "#8e0152"
            ],
            [
             0.1,
             "#c51b7d"
            ],
            [
             0.2,
             "#de77ae"
            ],
            [
             0.3,
             "#f1b6da"
            ],
            [
             0.4,
             "#fde0ef"
            ],
            [
             0.5,
             "#f7f7f7"
            ],
            [
             0.6,
             "#e6f5d0"
            ],
            [
             0.7,
             "#b8e186"
            ],
            [
             0.8,
             "#7fbc41"
            ],
            [
             0.9,
             "#4d9221"
            ],
            [
             1,
             "#276419"
            ]
           ],
           "sequential": [
            [
             0,
             "#0d0887"
            ],
            [
             0.1111111111111111,
             "#46039f"
            ],
            [
             0.2222222222222222,
             "#7201a8"
            ],
            [
             0.3333333333333333,
             "#9c179e"
            ],
            [
             0.4444444444444444,
             "#bd3786"
            ],
            [
             0.5555555555555556,
             "#d8576b"
            ],
            [
             0.6666666666666666,
             "#ed7953"
            ],
            [
             0.7777777777777778,
             "#fb9f3a"
            ],
            [
             0.8888888888888888,
             "#fdca26"
            ],
            [
             1,
             "#f0f921"
            ]
           ],
           "sequentialminus": [
            [
             0,
             "#0d0887"
            ],
            [
             0.1111111111111111,
             "#46039f"
            ],
            [
             0.2222222222222222,
             "#7201a8"
            ],
            [
             0.3333333333333333,
             "#9c179e"
            ],
            [
             0.4444444444444444,
             "#bd3786"
            ],
            [
             0.5555555555555556,
             "#d8576b"
            ],
            [
             0.6666666666666666,
             "#ed7953"
            ],
            [
             0.7777777777777778,
             "#fb9f3a"
            ],
            [
             0.8888888888888888,
             "#fdca26"
            ],
            [
             1,
             "#f0f921"
            ]
           ]
          },
          "colorway": [
           "#636efa",
           "#EF553B",
           "#00cc96",
           "#ab63fa",
           "#FFA15A",
           "#19d3f3",
           "#FF6692",
           "#B6E880",
           "#FF97FF",
           "#FECB52"
          ],
          "font": {
           "color": "#2a3f5f"
          },
          "geo": {
           "bgcolor": "white",
           "lakecolor": "white",
           "landcolor": "#E5ECF6",
           "showlakes": true,
           "showland": true,
           "subunitcolor": "white"
          },
          "hoverlabel": {
           "align": "left"
          },
          "hovermode": "closest",
          "mapbox": {
           "style": "light"
          },
          "paper_bgcolor": "white",
          "plot_bgcolor": "#E5ECF6",
          "polar": {
           "angularaxis": {
            "gridcolor": "white",
            "linecolor": "white",
            "ticks": ""
           },
           "bgcolor": "#E5ECF6",
           "radialaxis": {
            "gridcolor": "white",
            "linecolor": "white",
            "ticks": ""
           }
          },
          "scene": {
           "xaxis": {
            "backgroundcolor": "#E5ECF6",
            "gridcolor": "white",
            "gridwidth": 2,
            "linecolor": "white",
            "showbackground": true,
            "ticks": "",
            "zerolinecolor": "white"
           },
           "yaxis": {
            "backgroundcolor": "#E5ECF6",
            "gridcolor": "white",
            "gridwidth": 2,
            "linecolor": "white",
            "showbackground": true,
            "ticks": "",
            "zerolinecolor": "white"
           },
           "zaxis": {
            "backgroundcolor": "#E5ECF6",
            "gridcolor": "white",
            "gridwidth": 2,
            "linecolor": "white",
            "showbackground": true,
            "ticks": "",
            "zerolinecolor": "white"
           }
          },
          "shapedefaults": {
           "line": {
            "color": "#2a3f5f"
           }
          },
          "ternary": {
           "aaxis": {
            "gridcolor": "white",
            "linecolor": "white",
            "ticks": ""
           },
           "baxis": {
            "gridcolor": "white",
            "linecolor": "white",
            "ticks": ""
           },
           "bgcolor": "#E5ECF6",
           "caxis": {
            "gridcolor": "white",
            "linecolor": "white",
            "ticks": ""
           }
          },
          "title": {
           "x": 0.05
          },
          "xaxis": {
           "automargin": true,
           "gridcolor": "white",
           "linecolor": "white",
           "ticks": "",
           "title": {
            "standoff": 15
           },
           "zerolinecolor": "white",
           "zerolinewidth": 2
          },
          "yaxis": {
           "automargin": true,
           "gridcolor": "white",
           "linecolor": "white",
           "ticks": "",
           "title": {
            "standoff": 15
           },
           "zerolinecolor": "white",
           "zerolinewidth": 2
          }
         }
        },
        "title": {
         "text": "Корреляционная матрица"
        },
        "xaxis": {
         "anchor": "y",
         "constrain": "domain",
         "domain": [
          0,
          1
         ],
         "scaleanchor": "y"
        },
        "yaxis": {
         "anchor": "x",
         "autorange": "reversed",
         "constrain": "domain",
         "domain": [
          0,
          1
         ]
        }
       }
      }
     },
     "metadata": {},
     "output_type": "display_data"
    }
   ],
   "source": [
    "# Корреляционная матрица (оригинальный датасет)\n",
    "# Удалить столбцы с текстовыми данными\n",
    "dfCor = df.select_dtypes(exclude=['object'])\n",
    "\n",
    "correlation_matrix = dfCor.corr()\n",
    "fig = px.imshow(correlation_matrix, x=correlation_matrix.columns, y=correlation_matrix.index, title=\"Корреляционная матрица\")\n",
    "fig.show()"
   ]
  },
  {
   "cell_type": "code",
   "execution_count": 156,
   "metadata": {},
   "outputs": [
    {
     "data": {
      "application/vnd.plotly.v1+json": {
       "config": {
        "plotlyServerURL": "https://plot.ly"
       },
       "data": [
        {
         "coloraxis": "coloraxis",
         "hovertemplate": "x: %{x}<br>y: %{y}<br>color: %{z}<extra></extra>",
         "name": "0",
         "type": "heatmap",
         "x": [
          "age",
          "Medu",
          "Fedu",
          "goout",
          "Walc",
          "health",
          "absences",
          "G1",
          "G2",
          "G3",
          "pass_exam",
          "school_MS",
          "sex_M",
          "address_U",
          "famsize_LE3",
          "Pstatus_T",
          "Mjob_health",
          "Mjob_other",
          "Mjob_services",
          "Mjob_teacher",
          "Fjob_health",
          "Fjob_other",
          "Fjob_services",
          "Fjob_teacher",
          "reason_home",
          "reason_other",
          "reason_reputation",
          "guardian_mother",
          "guardian_other",
          "schoolsup_yes",
          "famsup_yes",
          "paid_yes",
          "activities_yes",
          "nursery_yes",
          "higher_yes",
          "internet_yes",
          "romantic_yes"
         ],
         "xaxis": "x",
         "y": [
          "age",
          "Medu",
          "Fedu",
          "goout",
          "Walc",
          "health",
          "absences",
          "G1",
          "G2",
          "G3",
          "pass_exam",
          "school_MS",
          "sex_M",
          "address_U",
          "famsize_LE3",
          "Pstatus_T",
          "Mjob_health",
          "Mjob_other",
          "Mjob_services",
          "Mjob_teacher",
          "Fjob_health",
          "Fjob_other",
          "Fjob_services",
          "Fjob_teacher",
          "reason_home",
          "reason_other",
          "reason_reputation",
          "guardian_mother",
          "guardian_other",
          "schoolsup_yes",
          "famsup_yes",
          "paid_yes",
          "activities_yes",
          "nursery_yes",
          "higher_yes",
          "internet_yes",
          "romantic_yes"
         ],
         "yaxis": "y",
         "z": [
          [
           1,
           -0.18993394544811093,
           -0.17191634238316372,
           0.1327476512151708,
           0.10468661366059286,
           -0.036812301000763804,
           0.14925298127910472,
           -0.061963955672467874,
           -0.14840776901286296,
           -0.1693588257555419,
           -0.10768344677653109,
           0.40062595361010944,
           -0.04222619561759892,
           -0.1541039577002867,
           0.026679042826329238,
           0.1075675801852898,
           -0.05002101723505987,
           -0.037882852555549,
           -0.05895547718379917,
           0.017215709823839624,
           -0.11101099481711871,
           -0.0332599802766029,
           0.07869527579590965,
           -0.01942115218964356,
           0.04123867179465498,
           0.03541037146912266,
           -0.04945214055663664,
           -0.036656324866653524,
           0.1505494668580079,
           -0.18294870171521596,
           -0.12245935275259937,
           0.003707468587486635,
           -0.0484292661138624,
           -0.09549893800570844,
           -0.04417894621655024,
           -0.0062098336798660095,
           0.12875562070617963
          ],
          [
           -0.18993394544811093,
           1,
           0.6312048036702294,
           0.055605703624880404,
           -0.06492473625175332,
           -0.04166488692184873,
           0.06875369557695618,
           0.21193853486596276,
           0.21930695433577882,
           0.22164976209768786,
           0.11595176664129081,
           -0.06838530172762614,
           0.011606119708341078,
           0.07641611285366302,
           0.005155124371350949,
           -0.0948212538897841,
           0.030871206719139534,
           -0.027859221923224892,
           -0.0025138591317582183,
           0.046197685939297656,
           0.09986785824079349,
           -0.01744481092513383,
           -0.003267745781961582,
           -0.022008336094138724,
           -0.006472888003805366,
           0.034459587557824564,
           0.07175562630711664,
           -0.01898749853899853,
           0.02854087630361474,
           0.10662980067026336,
           0.03707767731760084,
           -0.014043961951115251,
           0.09755707763149273,
           0.023843792515956044,
           0.07816854108972482,
           -0.0641904967320341,
           -0.06886484878393342
          ],
          [
           -0.17191634238316372,
           0.6312048036702294,
           1,
           0.04595366057143561,
           -0.014574531518419422,
           0.013901970306229864,
           -0.010336638034436841,
           0.18443865802111095,
           0.15930292171106214,
           0.14960263726287917,
           0.060096070436851876,
           -0.006400588100995822,
           -0.012671421126418874,
           0.08071452276859747,
           -0.06272433537323346,
           -0.04731142569388549,
           0.010451970985368743,
           -0.06996003909947432,
           0.04613768584356821,
           0.006697578057872909,
           0.1204067067473582,
           -0.00740273367227112,
           -0.028702791051355408,
           -0.02009948539930888,
           0.012482056439798193,
           0.01810541304913336,
           -0.019057100449906047,
           -0.05174521896536811,
           0.004084084820692016,
           0.060665119451558065,
           -0.027756902754099606,
           -0.010279426917689252,
           0.0706274312338499,
           0.012343786759460974,
           0.13452542592765754,
           -0.039148236549022185,
           -0.027530684220693505
          ],
          [
           0.1327476512151708,
           0.055605703624880404,
           0.04595366057143561,
           1,
           0.41878281063921097,
           0.011199856434449564,
           0.11427357723252457,
           -0.12939347069735258,
           -0.1513341978066846,
           -0.12072658555298302,
           -0.07636126942569602,
           0.007896014966443739,
           -0.06361506993103024,
           0.05825016675274743,
           0.021014592818310442,
           0.007208928407038111,
           0.05574984113363875,
           -0.09305001408976334,
           0.04138212846693784,
           -0.011246720505003846,
           -0.022119565790408472,
           -0.05179021540319703,
           0.04442209544100778,
           0.04050631148889338,
           0.04890103025078334,
           -0.023221061192397047,
           0.0270772985873692,
           0.006676231510502623,
           0.05771801426703543,
           0.020839586006271435,
           -0.01904866013089078,
           -0.022526326928543824,
           0.032221198896629215,
           -0.024959612518583852,
           -0.0960594999771307,
           0.038750766375046895,
           0.09041229252296454
          ],
          [
           0.10468661366059286,
           -0.06492473625175332,
           -0.014574531518419422,
           0.41878281063921097,
           1,
           0.10998794914180819,
           0.1906413391735512,
           -0.1222387456724958,
           -0.08585597885534792,
           -0.050449049446119706,
           0.03327038087018222,
           0.029654981897403176,
           -0.02744814274198528,
           -0.013704836376324723,
           0.039007781505898106,
           0.08565892563273088,
           0.05091801061814708,
           -0.12193747589610461,
           0.0962860981331635,
           -0.02385450776791641,
           -0.07380289007417846,
           -0.02734502472200593,
           0.10847453758697666,
           -0.03701792488772235,
           -0.028240818753005565,
           0.016891444652676738,
           0.01683209888780185,
           0.04747892915316601,
           -0.09568334241666733,
           -0.043736295838938954,
           -0.10907177086761546,
           -0.023364899567834062,
           -0.010127339556626301,
           0.06046961097401979,
           -0.02830080633308784,
           -0.010551190282428765,
           0.08338368489535124
          ],
          [
           -0.036812301000763804,
           -0.04166488692184873,
           0.013901970306229864,
           0.011199856434449564,
           0.10998794914180819,
           1,
           -0.014544197847694694,
           -0.08165695839276542,
           -0.10591089136520292,
           -0.06684932941968776,
           -0.011849572463734758,
           -0.08746904271422279,
           -0.011086091715355566,
           -0.018196378029429246,
           0.06718448891934226,
           0.03849210850106537,
           -0.020963137289060546,
           0.025773976315441635,
           -0.020365631341408112,
           0.006081646906094002,
           -0.05888552053761183,
           -0.03461569033872136,
           0.019095621462609496,
           0.06255748397902626,
           -0.024015576968894052,
           -0.062283215062200574,
           -0.08087581521229299,
           -0.05783909834326905,
           -0.004175956904881711,
           0.014016956674141713,
           0.07309578438346417,
           0.016766669007554674,
           0.05644625167301074,
           0.06285843632263674,
           -0.0020168358560160053,
           0.05461710243286541,
           0.04312207409594622
          ],
          [
           0.14925298127910472,
           0.06875369557695618,
           -0.010336638034436841,
           0.11427357723252457,
           0.1906413391735512,
           -0.014544197847694694,
           1,
           -0.0036730313472441035,
           -0.015264244023680597,
           0.08830131918155248,
           0.2079328426281239,
           -0.061113648613593724,
           -0.003665409839590311,
           0.020039064782483587,
           -0.03041428553030227,
           -0.0006957404880310999,
           -0.04844948873844475,
           0.01692202441857199,
           -0.014376461759373007,
           0.04022818113715316,
           0.006918269108896969,
           0.09322464150658179,
           -0.06773188173292169,
           0.019736814072768817,
           0.0912718087210009,
           -0.04935907375377292,
           0.04396927797223887,
           0.07749163454930015,
           -0.024445438712398158,
           0.005770645054911935,
           0.05885508707419223,
           0.10859655894284179,
           -0.01169530394631187,
           0.057465069848235066,
           0.0548925521022163,
           -0.00985131693164754,
           0.09812125301700976
          ],
          [
           -0.061963955672467874,
           0.21193853486596276,
           0.18443865802111095,
           -0.12939347069735258,
           -0.1222387456724958,
           -0.08165695839276542,
           -0.0036730313472441035,
           1,
           0.8499054267749964,
           0.7989571319838031,
           0.4075221361076308,
           0.07529873832847363,
           0.0737973556661858,
           -0.00038521728574585334,
           -0.02640591547117401,
           -0.062062834624250954,
           0.0647193128203784,
           0.03682364461151435,
           0.003844158013886289,
           -0.009886041895295291,
           0.013865315521071928,
           0.03292299563364694,
           -0.04506390655490007,
           -0.008335143186137975,
           -0.0077951982228461865,
           -0.021993783977984238,
           -0.005879201830573188,
           -0.06746989190780456,
           0.07451278500087079,
           -0.05686137735397317,
           0.05842029651208748,
           0.014120287593100701,
           0.021398611280850643,
           0.10083737996129148,
           0.124048322544427,
           0.05323259741618041,
           -0.013513498398403994
          ],
          [
           -0.14840776901286296,
           0.21930695433577882,
           0.15930292171106214,
           -0.1513341978066846,
           -0.08585597885534792,
           -0.10591089136520292,
           -0.015264244023680597,
           0.8499054267749964,
           1,
           0.9028306772149375,
           0.5796155003056348,
           0.04206947059037279,
           0.0525472657386862,
           0.0009504079036694121,
           -0.03670953175016373,
           -0.03760208536328914,
           0.09379051541423558,
           0.05944768524039625,
           -0.015132675544330749,
           -0.00801030703532182,
           0.03769259564256686,
           0.001597171892913506,
           -0.045646187790806,
           0.007338463073153862,
           0.023122448029409996,
           0.022753423507956498,
           0.01790861353952127,
           -0.05064683094173263,
           0.010495062515396645,
           -0.035751671156665284,
           0.1004876796059942,
           0.051145824703201344,
           0.05232301491448339,
           0.11080057803699091,
           0.1698511571529933,
           0.06597317031083502,
           -0.05547858966877312
          ],
          [
           -0.1693588257555419,
           0.22164976209768786,
           0.14960263726287917,
           -0.12072658555298302,
           -0.050449049446119706,
           -0.06684932941968776,
           0.08830131918155248,
           0.7989571319838031,
           0.9028306772149375,
           1,
           0.7682183915025461,
           -0.015333529010543615,
           0.016990567252874393,
           0.010662884974012325,
           -0.02475424611362201,
           -0.02833748020712513,
           0.07483385126391083,
           0.06030499648467292,
           -0.013043675441338729,
           0.036450340234927735,
           0.047245341492796564,
           0.011869407970277841,
           -0.050209252132970346,
           0.027095195200891407,
           0.031186999424345548,
           0.03390532622217126,
           0.0005434240295431632,
           -0.053030877516420306,
           -0.0021810876584795907,
           -0.00991641464363321,
           0.11552555630794219,
           0.10259148443408193,
           0.05214511492985717,
           0.10757969534428123,
           0.15222936878603568,
           0.06280838297949638,
           -0.06056357387003861
          ],
          [
           -0.10768344677653109,
           0.11595176664129081,
           0.060096070436851876,
           -0.07636126942569602,
           0.03327038087018222,
           -0.011849572463734758,
           0.2079328426281239,
           0.4075221361076308,
           0.5796155003056348,
           0.7682183915025461,
           1,
           -0.04720770511874371,
           -0.10858422619362072,
           -0.047072060233002075,
           0.014370863853023193,
           0.02719284876170324,
           0.052291817492222364,
           0.048706784109818345,
           -0.03457442808710215,
           0.0465379428738417,
           0.08150620970098996,
           -0.009153459714940082,
           -0.02864402749591773,
           0.03161239707887644,
           0.05610073948346669,
           0.057591107059440996,
           0.014454291539072305,
           -0.053929765918509474,
           -0.03152446392364736,
           0.036521948676864896,
           0.12414952683201562,
           0.16466041201582352,
           0.027417972529098097,
           0.10028021577229153,
           0.12687014296523336,
           0.060345187186037826,
           -0.0044531708848577845
          ],
          [
           0.40062595361010944,
           -0.06838530172762614,
           -0.006400588100995822,
           0.007896014966443739,
           0.029654981897403176,
           -0.08746904271422279,
           -0.061113648613593724,
           0.07529873832847363,
           0.04206947059037279,
           -0.015333529010543615,
           -0.04720770511874371,
           1,
           -0.01958204626918899,
           -0.2809159028849309,
           0.06496039618325607,
           0.043368179303457564,
           -0.060129141492763404,
           0.0441174929004488,
           -0.049264739975610455,
           -0.01814306413117883,
           -0.08299261533891804,
           -0.07094133579188563,
           0.11547623116985894,
           -0.043195873742703485,
           -0.020848467450004803,
           0.13261707251891106,
           -0.13084711009805655,
           -0.06418011395117397,
           0.07538653806158778,
           -0.14321808723558804,
           -0.16844457834782153,
           -0.012252798115083074,
           -0.12593943482929287,
           -0.09346493626021266,
           -0.03097188181126293,
           -0.12760881861679912,
           0.07704175648774995
          ],
          [
           -0.04222619561759892,
           0.011606119708341078,
           -0.012671421126418874,
           -0.06361506993103024,
           -0.02744814274198528,
           -0.011086091715355566,
           -0.003665409839590311,
           0.0737973556661858,
           0.0525472657386862,
           0.016990567252874393,
           -0.10858422619362072,
           -0.01958204626918899,
           1,
           -0.03120083537563533,
           0.09174868574555683,
           0.023702727944126235,
           -0.026180123992687997,
           0.020015804950817742,
           0.007848445909911659,
           0.1482067899071793,
           -0.0668123484911157,
           0.04336304508273165,
           -0.002560219819523444,
           0.05006586213823394,
           0.0684703850400327,
           0.0018285918197632888,
           -0.11124066710797555,
           -0.011673924701701555,
           -0.05964247543944798,
           -0.13627932889322672,
           -0.1411012680336476,
           -0.13335130750542928,
           0.08835173413627748,
           -0.010768568485816797,
           -0.15661600513946844,
           0.05385626772428518,
           -0.09015138640938788
          ],
          [
           -0.1541039577002867,
           0.07641611285366302,
           0.08071452276859747,
           0.05825016675274743,
           -0.013704836376324723,
           -0.018196378029429246,
           0.020039064782483587,
           -0.00038521728574585334,
           0.0009504079036694121,
           0.010662884974012325,
           -0.047072060233002075,
           -0.2809159028849309,
           -0.03120083537563533,
           1,
           0.06884974417446507,
           -0.055009077358624404,
           0.10394234502741789,
           -0.01797980289887313,
           0.0548071578404596,
           0.030305815168963295,
           0.06173823392906026,
           -0.05795200333101132,
           0.02257389869892281,
           0.008515088942726737,
           0.15282144409336149,
           -0.04478146770773933,
           -0.07588271113421605,
           -0.09218297635313949,
           0.03745508314373089,
           0.021005247874575257,
           0.008323464483414911,
           0.035474130412005755,
           -0.057046303485303415,
           0.05523311505550357,
           0.027117933130865662,
           0.21634555599550898,
           0.003108820963081021
          ],
          [
           0.026679042826329238,
           0.005155124371350949,
           -0.06272433537323346,
           0.021014592818310442,
           0.039007781505898106,
           0.06718448891934226,
           -0.03041428553030227,
           -0.02640591547117401,
           -0.03670953175016373,
           -0.02475424611362201,
           0.014370863853023193,
           0.06496039618325607,
           0.09174868574555683,
           0.06884974417446507,
           1,
           -0.15427986667540128,
           0.0026837899094802925,
           -0.07504780743483444,
           0.04193537565473647,
           0.07776128095915322,
           0.02120239857289873,
           -0.007710275961755717,
           0.010621918877743821,
           -0.06948855710429251,
           -0.00031323329949721474,
           -0.023258344245552773,
           -0.013503835578321946,
           0.02822317410434215,
           -0.03098623298413919,
           -0.02116671676515955,
           -0.12330435880084625,
           -0.00736708525446614,
           -0.021947243328227884,
           0.1206188429624738,
           -0.02120239857289881,
           0.0023863568773995047,
           0.02713856298358238
          ],
          [
           0.1075675801852898,
           -0.0948212538897841,
           -0.04731142569388549,
           0.007208928407038111,
           0.08565892563273088,
           0.03849210850106537,
           -0.0006957404880310999,
           -0.062062834624250954,
           -0.03760208536328914,
           -0.02833748020712513,
           0.02719284876170324,
           0.043368179303457564,
           0.023702727944126235,
           -0.055009077358624404,
           -0.15427986667540128,
           1,
           0.01257227014547914,
           -0.026863475405537813,
           -0.04796723526789866,
           0.015219194192807399,
           -0.04936729832905857,
           -0.018455618081996653,
           0.10685190942239503,
           -0.07363757228733983,
           -0.019406860170798682,
           0.01545165766699793,
           -0.019406860170798648,
           -0.053711771562062034,
           -0.06914665541752604,
           -0.054645258626141814,
           0.004709377960109231,
           0.055523590805598225,
           0.09935664042332396,
           -0.10306056492200621,
           -0.07454135111937313,
           0.07835647690375508,
           -0.018287593996980628
          ],
          [
           -0.05002101723505987,
           0.030871206719139534,
           0.010451970985368743,
           0.05574984113363875,
           0.05091801061814708,
           -0.020963137289060546,
           -0.04844948873844475,
           0.0647193128203784,
           0.09379051541423558,
           0.07483385126391083,
           0.052291817492222364,
           -0.060129141492763404,
           -0.026180123992687997,
           0.10394234502741789,
           0.0026837899094802925,
           0.01257227014547914,
           1,
           -0.23350806341684288,
           -0.1828404618952504,
           -0.1307141681120782,
           0.19036721653330424,
           -0.03247632797147025,
           0.013867612380258059,
           -0.05336703098709534,
           0.000608053198720662,
           0.09121516176870349,
           0.08440883949512185,
           -0.04814052594126894,
           -0.020895502509437076,
           -0.06592981126568222,
           0.09829509519712146,
           0.08645935085909738,
           0.007702904266005078,
           0.06672425822005425,
           0.07009911944547659,
           0.095460931271736,
           0.04436024123421623
          ],
          [
           -0.037882852555549,
           -0.027859221923224892,
           -0.06996003909947432,
           -0.09305001408976334,
           -0.12193747589610461,
           0.025773976315441635,
           0.01692202441857199,
           0.03682364461151435,
           0.05944768524039625,
           0.06030499648467292,
           0.048706784109818345,
           0.0441174929004488,
           0.020015804950817742,
           -0.01797980289887313,
           -0.07504780743483444,
           -0.026863475405537813,
           -0.23350806341684288,
           1,
           -0.4332258573274511,
           -0.30971677143127274,
           -0.11428378676297858,
           0.2831002311036909,
           -0.18577291638555948,
           -0.08370099111097633,
           0.10476509103428178,
           -0.08501232957699721,
           0.01725193407145132,
           -0.10671564898099965,
           0.034618551435252075,
           0.041812920814878834,
           -0.12029735158427653,
           -0.09865964320605947,
           -0.10822499188523566,
           -0.09000426632017264,
           0.010662841348698974,
           -0.05071704132591877,
           0.038566733533971546
          ],
          [
           -0.05895547718379917,
           -0.0025138591317582183,
           0.04613768584356821,
           0.04138212846693784,
           0.0962860981331635,
           -0.020365631341408112,
           -0.014376461759373007,
           0.003844158013886289,
           -0.015132675544330749,
           -0.013043675441338729,
           -0.03457442808710215,
           -0.049264739975610455,
           0.007848445909911659,
           0.0548071578404596,
           0.04193537565473647,
           -0.04796723526789866,
           -0.1828404618952504,
           -0.4332258573274511,
           1,
           -0.24251307092599103,
           -0.015955748167496772,
           -0.1822398826178024,
           0.19928389937829383,
           -0.0021419367199784814,
           -0.05960430730106042,
           0.023775320376259405,
           0.05052382172807741,
           -0.014554322844628062,
           0.014934470364834659,
           0.046804236283554686,
           0.04027717259831036,
           -0.0038281452211709212,
           0.064997945923309,
           0.0377562231370923,
           0.015955748167496828,
           0.07547350925394743,
           -0.05733313076168037
          ],
          [
           0.017215709823839624,
           0.046197685939297656,
           0.006697578057872909,
           -0.011246720505003846,
           -0.02385450776791641,
           0.006081646906094002,
           0.04022818113715316,
           -0.009886041895295291,
           -0.00801030703532182,
           0.036450340234927735,
           0.0465379428738417,
           -0.01814306413117883,
           0.1482067899071793,
           0.030305815168963295,
           0.07776128095915322,
           0.015219194192807399,
           -0.1307141681120782,
           -0.30971677143127274,
           -0.24251307092599103,
           1,
           0.04685744284401512,
           -0.14772668203822809,
           0.027215251859598666,
           0.22350560335571504,
           0.0037837422933984072,
           -0.03008669282021429,
           -0.04682937520770717,
           0.16756756386798585,
           -0.09188424595065056,
           -0.09396488620343672,
           0.07202983270246331,
           0.13049774178354226,
           0.10474588489333889,
           0.09937109396323227,
           0.058018369190719385,
           0.13238259032981672,
           -0.04365204256993424
          ],
          [
           -0.11101099481711871,
           0.09986785824079349,
           0.1204067067473582,
           -0.022119565790408472,
           -0.07380289007417846,
           -0.05888552053761183,
           0.006918269108896969,
           0.013865315521071928,
           0.03769259564256686,
           0.047245341492796564,
           0.08150620970098996,
           -0.08299261533891804,
           -0.0668123484911157,
           0.06173823392906026,
           0.02120239857289873,
           -0.04936729832905857,
           0.19036721653330424,
           -0.11428378676297858,
           -0.015955748167496772,
           0.04685744284401512,
           1,
           -0.247588993288319,
           -0.13731974059063812,
           -0.06306786205423985,
           -0.049240400117617655,
           0.057319825865969086,
           0.11964748806860052,
           -0.0641851761904956,
           -0.017608127036339405,
           0.09882449002952681,
           0.10136703101943827,
           0.07176375823047354,
           -0.007663769385745542,
           0.05108824173617044,
           0.04986149584487541,
           -0.02830999897644233,
           0.008021849185198184
          ],
          [
           -0.0332599802766029,
           -0.01744481092513383,
           -0.00740273367227112,
           -0.05179021540319703,
           -0.02734502472200593,
           -0.03461569033872136,
           0.09322464150658179,
           0.03292299563364694,
           0.001597171892913506,
           0.011869407970277841,
           -0.009153459714940082,
           -0.07094133579188563,
           0.04336304508273165,
           -0.05795200333101132,
           -0.007710275961755717,
           -0.018455618081996653,
           -0.03247632797147025,
           0.2831002311036909,
           -0.1822398826178024,
           -0.14772668203822809,
           -0.247588993288319,
           1,
           -0.6818659519807309,
           -0.3131656644123856,
           0.034365886814107016,
           -0.1154578524550703,
           0.010290709175388796,
           0.17267494951412055,
           0.020115588280717512,
           -0.04776973950017571,
           -0.021086077400771876,
           0.018143972886044767,
           -0.06459637077569719,
           -0.08620944798427285,
           0.023100408464699632,
           -0.06441005811517499,
           -0.07041703727171213
          ],
          [
           0.07869527579590965,
           -0.003267745781961582,
           -0.028702791051355408,
           0.04442209544100778,
           0.10847453758697666,
           0.019095621462609496,
           -0.06773188173292169,
           -0.04506390655490007,
           -0.045646187790806,
           -0.050209252132970346,
           -0.02864402749591773,
           0.11547623116985894,
           -0.002560219819523444,
           0.02257389869892281,
           0.010621918877743821,
           0.10685190942239503,
           0.013867612380258059,
           -0.18577291638555948,
           0.19928389937829383,
           0.027215251859598666,
           -0.13731974059063812,
           -0.6818659519807309,
           1,
           -0.17369038594104788,
           -0.019328917148230707,
           0.06935572036136498,
           -0.03274587612108677,
           -0.14838945385287444,
           0.023183609762452664,
           -0.043106395339906046,
           -0.06871381182756238,
           -0.010973756142024421,
           0.08539269763898247,
           0.001900046499083068,
           -0.05728991314171383,
           0.0952821179017297,
           0.01361766079180576
          ],
          [
           -0.01942115218964356,
           -0.022008336094138724,
           -0.02009948539930888,
           0.04050631148889338,
           -0.03701792488772235,
           0.06255748397902626,
           0.019736814072768817,
           -0.008335143186137975,
           0.007338463073153862,
           0.027095195200891407,
           0.03161239707887644,
           -0.043195873742703485,
           0.05006586213823394,
           0.008515088942726737,
           -0.06948855710429251,
           -0.07363757228733983,
           -0.05336703098709534,
           -0.08370099111097633,
           -0.0021419367199784814,
           0.22350560335571504,
           -0.06306786205423985,
           -0.3131656644123856,
           -0.17369038594104788,
           1,
           -0.031765161565970756,
           0.08411535394275155,
           -0.0317651615659707,
           -0.006150210019388063,
           -0.08129997914936148,
           0.07155153475939444,
           0.05920986194582805,
           -0.05337873098003372,
           -0.009693603094849474,
           0.042334902706102726,
           0.01564183086662696,
           -0.029897363287621458,
           0.04628874888783076
          ],
          [
           0.04123867179465498,
           -0.006472888003805366,
           0.012482056439798193,
           0.04890103025078334,
           -0.028240818753005565,
           -0.024015576968894052,
           0.0912718087210009,
           -0.0077951982228461865,
           0.023122448029409996,
           0.031186999424345548,
           0.05610073948346669,
           -0.020848467450004803,
           0.0684703850400327,
           0.15282144409336149,
           -0.00031323329949721474,
           -0.019406860170798682,
           0.000608053198720662,
           0.10476509103428178,
           -0.05960430730106042,
           0.0037837422933984072,
           -0.049240400117617655,
           0.034365886814107016,
           -0.019328917148230707,
           -0.031765161565970756,
           1,
           -0.19096452601434202,
           -0.35842293906809997,
           -0.08876544472236694,
           0.12045327872175594,
           -0.01657240552469784,
           -0.0026259125415986784,
           0.0707584391273079,
           -0.05648964823016545,
           0.019590684472025575,
           0.07738838148198744,
           0.038113151033958036,
           0.030087847221757783
          ],
          [
           0.03541037146912266,
           0.034459587557824564,
           0.01810541304913336,
           -0.023221061192397047,
           0.016891444652676738,
           -0.062283215062200574,
           -0.04935907375377292,
           -0.021993783977984238,
           0.022753423507956498,
           0.03390532622217126,
           0.057591107059440996,
           0.13261707251891106,
           0.0018285918197632888,
           -0.04478146770773933,
           -0.023258344245552773,
           0.01545165766699793,
           0.09121516176870349,
           -0.08501232957699721,
           0.023775320376259405,
           -0.03008669282021429,
           0.057319825865969086,
           -0.1154578524550703,
           0.06935572036136498,
           0.08411535394275155,
           -0.19096452601434202,
           1,
           -0.190964526014342,
           0.017656491767274768,
           -0.023248067544443453,
           -0.014262144195018929,
           -0.06405584862444322,
           0.07707574322975197,
           -0.020066389180034335,
           0.0025100779745522313,
           -0.10016837419575665,
           -0.02174887213729057,
           0.07676667053480163
          ],
          [
           -0.04945214055663664,
           0.07175562630711664,
           -0.019057100449906047,
           0.0270772985873692,
           0.01683209888780185,
           -0.08087581521229299,
           0.04396927797223887,
           -0.005879201830573188,
           0.01790861353952127,
           0.0005434240295431632,
           0.014454291539072305,
           -0.13084711009805655,
           -0.11124066710797555,
           -0.07588271113421605,
           -0.013503835578321946,
           -0.019406860170798648,
           0.08440883949512185,
           0.01725193407145132,
           0.05052382172807741,
           -0.04682937520770717,
           0.11964748806860052,
           0.010290709175388796,
           -0.03274587612108677,
           -0.0317651615659707,
           -0.35842293906809997,
           -0.190964526014342,
           1,
           0.0017398300080094587,
           -0.037199680552451514,
           0.03695834754797691,
           0.12024085946653845,
           0.07075843912730781,
           0.14718287753757725,
           0.04934968012291802,
           0.07738838148198736,
           0.038113151033957994,
           -0.047135363367719854
          ],
          [
           -0.036656324866653524,
           -0.01898749853899853,
           -0.05174521896536811,
           0.006676231510502623,
           0.04747892915316601,
           -0.05783909834326905,
           0.07749163454930015,
           -0.06746989190780456,
           -0.05064683094173263,
           -0.053030877516420306,
           -0.053929765918509474,
           -0.06418011395117397,
           -0.011673924701701555,
           -0.09218297635313949,
           0.02822317410434215,
           -0.053711771562062034,
           -0.04814052594126894,
           -0.10671564898099965,
           -0.014554322844628062,
           0.16756756386798585,
           -0.0641851761904956,
           0.17267494951412055,
           -0.14838945385287444,
           -0.006150210019388063,
           -0.08876544472236694,
           0.017656491767274768,
           0.0017398300080094587,
           1,
           -0.42809901323545657,
           -0.012636675725648288,
           -0.008979022748309744,
           0.0714562408252939,
           0.011673924701701343,
           0.11367085282309321,
           0.010603278005037778,
           -0.02327194636833831,
           -0.032322000869553835
          ],
          [
           0.1505494668580079,
           0.02854087630361474,
           0.004084084820692016,
           0.05771801426703543,
           -0.09568334241666733,
           -0.004175956904881711,
           -0.024445438712398158,
           0.07451278500087079,
           0.010495062515396645,
           -0.0021810876584795907,
           -0.03152446392364736,
           0.07538653806158778,
           -0.05964247543944798,
           0.03745508314373089,
           -0.03098623298413919,
           -0.06914665541752604,
           -0.020895502509437076,
           0.034618551435252075,
           0.014934470364834659,
           -0.09188424595065056,
           -0.017608127036339405,
           0.020115588280717512,
           0.023183609762452664,
           -0.08129997914936148,
           0.12045327872175594,
           -0.023248067544443453,
           -0.037199680552451514,
           -0.42809901323545657,
           1,
           -0.05175180447643691,
           0.005052335389700267,
           -0.021631123560086913,
           -0.019810945268990698,
           -0.17535402389327773,
           -0.029059566297734808,
           -0.05103490147991723,
           0.10280807964091136
          ],
          [
           -0.18294870171521596,
           0.10662980067026336,
           0.060665119451558065,
           0.020839586006271435,
           -0.043736295838938954,
           0.014016956674141713,
           0.005770645054911935,
           -0.05686137735397317,
           -0.035751671156665284,
           -0.00991641464363321,
           0.036521948676864896,
           -0.14321808723558804,
           -0.13627932889322672,
           0.021005247874575257,
           -0.02116671676515955,
           -0.054645258626141814,
           -0.06592981126568222,
           0.041812920814878834,
           0.046804236283554686,
           -0.09396488620343672,
           0.09882449002952681,
           -0.04776973950017571,
           -0.043106395339906046,
           0.07155153475939444,
           -0.01657240552469784,
           -0.014262144195018929,
           0.03695834754797691,
           -0.012636675725648288,
           -0.05175180447643691,
           1,
           0.09692026389141525,
           -0.03331670525013923,
           0.04185544287762733,
           0.0382132841729267,
           0.04907079810942928,
           -0.009684431237262373,
           -0.05941672495027458
          ],
          [
           -0.12245935275259937,
           0.03707767731760084,
           -0.027756902754099606,
           -0.01904866013089078,
           -0.10907177086761546,
           0.07309578438346417,
           0.05885508707419223,
           0.05842029651208748,
           0.1004876796059942,
           0.11552555630794219,
           0.12414952683201562,
           -0.16844457834782153,
           -0.1411012680336476,
           0.008323464483414911,
           -0.12330435880084625,
           0.004709377960109231,
           0.09829509519712146,
           -0.12029735158427653,
           0.04027717259831036,
           0.07202983270246331,
           0.10136703101943827,
           -0.021086077400771876,
           -0.06871381182756238,
           0.05920986194582805,
           -0.0026259125415986784,
           -0.06405584862444322,
           0.12024085946653845,
           -0.008979022748309744,
           0.005052335389700267,
           0.09692026389141525,
           1,
           0.2973443285121256,
           0.00022873559154403653,
           0.05564389245716958,
           0.0768481666575462,
           0.10567836104473849,
           0.01796853629448977
          ],
          [
           0.003707468587486635,
           -0.014043961951115251,
           -0.010279426917689252,
           -0.022526326928543824,
           -0.023364899567834062,
           0.016766669007554674,
           0.10859655894284179,
           0.014120287593100701,
           0.051145824703201344,
           0.10259148443408193,
           0.16466041201582352,
           -0.012252798115083074,
           -0.13335130750542928,
           0.035474130412005755,
           -0.00736708525446614,
           0.055523590805598225,
           0.08645935085909738,
           -0.09865964320605947,
           -0.0038281452211709212,
           0.13049774178354226,
           0.07176375823047354,
           0.018143972886044767,
           -0.010973756142024421,
           -0.05337873098003372,
           0.0707584391273079,
           0.07707574322975197,
           0.07075843912730781,
           0.0714562408252939,
           -0.021631123560086913,
           -0.03331670525013923,
           0.2973443285121256,
           1,
           -0.015202553007652391,
           0.08884077689830945,
           0.1775347236150763,
           0.1507017174259441,
           -0.001624140260322376
          ],
          [
           -0.0484292661138624,
           0.09755707763149273,
           0.0706274312338499,
           0.032221198896629215,
           -0.010127339556626301,
           0.05644625167301074,
           -0.01169530394631187,
           0.021398611280850643,
           0.05232301491448339,
           0.05214511492985717,
           0.027417972529098097,
           -0.12593943482929287,
           0.08835173413627748,
           -0.057046303485303415,
           -0.021947243328227884,
           0.09935664042332396,
           0.007702904266005078,
           -0.10822499188523566,
           0.064997945923309,
           0.10474588489333889,
           -0.007663769385745542,
           -0.06459637077569719,
           0.08539269763898247,
           -0.009693603094849474,
           -0.05648964823016545,
           -0.020066389180034335,
           0.14718287753757725,
           0.011673924701701343,
           -0.019810945268990698,
           0.04185544287762733,
           0.00022873559154403653,
           -0.015202553007652391,
           1,
           -0.0023545423055804974,
           0.08213988726260692,
           0.057529955836446676,
           0.04474623631083899
          ],
          [
           -0.09549893800570844,
           0.023843792515956044,
           0.012343786759460974,
           -0.024959612518583852,
           0.06046961097401979,
           0.06285843632263674,
           0.057465069848235066,
           0.10083737996129148,
           0.11080057803699091,
           0.10757969534428123,
           0.10028021577229153,
           -0.09346493626021266,
           -0.010768568485816797,
           0.05523311505550357,
           0.1206188429624738,
           -0.10306056492200621,
           0.06672425822005425,
           -0.09000426632017264,
           0.0377562231370923,
           0.09937109396323227,
           0.05108824173617044,
           -0.08620944798427285,
           0.001900046499083068,
           0.042334902706102726,
           0.019590684472025575,
           0.0025100779745522313,
           0.04934968012291802,
           0.11367085282309321,
           -0.17535402389327773,
           0.0382132841729267,
           0.05564389245716958,
           0.08884077689830945,
           -0.0023545423055804974,
           1,
           0.010575591442200858,
           0.010220097705343609,
           0.0476496582994344
          ],
          [
           -0.04417894621655024,
           0.07816854108972482,
           0.13452542592765754,
           -0.0960594999771307,
           -0.02830080633308784,
           -0.0020168358560160053,
           0.0548925521022163,
           0.124048322544427,
           0.1698511571529933,
           0.15222936878603568,
           0.12687014296523336,
           -0.03097188181126293,
           -0.15661600513946844,
           0.027117933130865662,
           -0.02120239857289881,
           -0.07454135111937313,
           0.07009911944547659,
           0.010662841348698974,
           0.015955748167496828,
           0.058018369190719385,
           0.04986149584487541,
           0.023100408464699632,
           -0.05728991314171383,
           0.01564183086662696,
           0.07738838148198744,
           -0.10016837419575665,
           0.07738838148198736,
           0.010603278005037778,
           -0.029059566297734808,
           0.04907079810942928,
           0.0768481666575462,
           0.1775347236150763,
           0.08213988726260692,
           0.010575591442200858,
           1,
           0.028309998976442367,
           -0.08802923974283239
          ],
          [
           -0.0062098336798660095,
           -0.0641904967320341,
           -0.039148236549022185,
           0.038750766375046895,
           -0.010551190282428765,
           0.05461710243286541,
           -0.00985131693164754,
           0.05323259741618041,
           0.06597317031083502,
           0.06280838297949638,
           0.060345187186037826,
           -0.12760881861679912,
           0.05385626772428518,
           0.21634555599550898,
           0.0023863568773995047,
           0.07835647690375508,
           0.095460931271736,
           -0.05071704132591877,
           0.07547350925394743,
           0.13238259032981672,
           -0.02830999897644233,
           -0.06441005811517499,
           0.0952821179017297,
           -0.029897363287621458,
           0.038113151033958036,
           -0.02174887213729057,
           0.038113151033957994,
           -0.02327194636833831,
           -0.05103490147991723,
           -0.009684431237262373,
           0.10567836104473849,
           0.1507017174259441,
           0.057529955836446676,
           0.010220097705343609,
           0.028309998976442367,
           1,
           0.07324758834989055
          ],
          [
           0.12875562070617963,
           -0.06886484878393342,
           -0.027530684220693505,
           0.09041229252296454,
           0.08338368489535124,
           0.04312207409594622,
           0.09812125301700976,
           -0.013513498398403994,
           -0.05547858966877312,
           -0.06056357387003861,
           -0.0044531708848577845,
           0.07704175648774995,
           -0.09015138640938788,
           0.003108820963081021,
           0.02713856298358238,
           -0.018287593996980628,
           0.04436024123421623,
           0.038566733533971546,
           -0.05733313076168037,
           -0.04365204256993424,
           0.008021849185198184,
           -0.07041703727171213,
           0.01361766079180576,
           0.04628874888783076,
           0.030087847221757783,
           0.07676667053480163,
           -0.047135363367719854,
           -0.032322000869553835,
           0.10280807964091136,
           -0.05941672495027458,
           0.01796853629448977,
           -0.001624140260322376,
           0.04474623631083899,
           0.0476496582994344,
           -0.08802923974283239,
           0.07324758834989055,
           1
          ]
         ]
        }
       ],
       "layout": {
        "coloraxis": {
         "colorscale": [
          [
           0,
           "#0d0887"
          ],
          [
           0.1111111111111111,
           "#46039f"
          ],
          [
           0.2222222222222222,
           "#7201a8"
          ],
          [
           0.3333333333333333,
           "#9c179e"
          ],
          [
           0.4444444444444444,
           "#bd3786"
          ],
          [
           0.5555555555555556,
           "#d8576b"
          ],
          [
           0.6666666666666666,
           "#ed7953"
          ],
          [
           0.7777777777777778,
           "#fb9f3a"
          ],
          [
           0.8888888888888888,
           "#fdca26"
          ],
          [
           1,
           "#f0f921"
          ]
         ]
        },
        "template": {
         "data": {
          "bar": [
           {
            "error_x": {
             "color": "#2a3f5f"
            },
            "error_y": {
             "color": "#2a3f5f"
            },
            "marker": {
             "line": {
              "color": "#E5ECF6",
              "width": 0.5
             },
             "pattern": {
              "fillmode": "overlay",
              "size": 10,
              "solidity": 0.2
             }
            },
            "type": "bar"
           }
          ],
          "barpolar": [
           {
            "marker": {
             "line": {
              "color": "#E5ECF6",
              "width": 0.5
             },
             "pattern": {
              "fillmode": "overlay",
              "size": 10,
              "solidity": 0.2
             }
            },
            "type": "barpolar"
           }
          ],
          "carpet": [
           {
            "aaxis": {
             "endlinecolor": "#2a3f5f",
             "gridcolor": "white",
             "linecolor": "white",
             "minorgridcolor": "white",
             "startlinecolor": "#2a3f5f"
            },
            "baxis": {
             "endlinecolor": "#2a3f5f",
             "gridcolor": "white",
             "linecolor": "white",
             "minorgridcolor": "white",
             "startlinecolor": "#2a3f5f"
            },
            "type": "carpet"
           }
          ],
          "choropleth": [
           {
            "colorbar": {
             "outlinewidth": 0,
             "ticks": ""
            },
            "type": "choropleth"
           }
          ],
          "contour": [
           {
            "colorbar": {
             "outlinewidth": 0,
             "ticks": ""
            },
            "colorscale": [
             [
              0,
              "#0d0887"
             ],
             [
              0.1111111111111111,
              "#46039f"
             ],
             [
              0.2222222222222222,
              "#7201a8"
             ],
             [
              0.3333333333333333,
              "#9c179e"
             ],
             [
              0.4444444444444444,
              "#bd3786"
             ],
             [
              0.5555555555555556,
              "#d8576b"
             ],
             [
              0.6666666666666666,
              "#ed7953"
             ],
             [
              0.7777777777777778,
              "#fb9f3a"
             ],
             [
              0.8888888888888888,
              "#fdca26"
             ],
             [
              1,
              "#f0f921"
             ]
            ],
            "type": "contour"
           }
          ],
          "contourcarpet": [
           {
            "colorbar": {
             "outlinewidth": 0,
             "ticks": ""
            },
            "type": "contourcarpet"
           }
          ],
          "heatmap": [
           {
            "colorbar": {
             "outlinewidth": 0,
             "ticks": ""
            },
            "colorscale": [
             [
              0,
              "#0d0887"
             ],
             [
              0.1111111111111111,
              "#46039f"
             ],
             [
              0.2222222222222222,
              "#7201a8"
             ],
             [
              0.3333333333333333,
              "#9c179e"
             ],
             [
              0.4444444444444444,
              "#bd3786"
             ],
             [
              0.5555555555555556,
              "#d8576b"
             ],
             [
              0.6666666666666666,
              "#ed7953"
             ],
             [
              0.7777777777777778,
              "#fb9f3a"
             ],
             [
              0.8888888888888888,
              "#fdca26"
             ],
             [
              1,
              "#f0f921"
             ]
            ],
            "type": "heatmap"
           }
          ],
          "heatmapgl": [
           {
            "colorbar": {
             "outlinewidth": 0,
             "ticks": ""
            },
            "colorscale": [
             [
              0,
              "#0d0887"
             ],
             [
              0.1111111111111111,
              "#46039f"
             ],
             [
              0.2222222222222222,
              "#7201a8"
             ],
             [
              0.3333333333333333,
              "#9c179e"
             ],
             [
              0.4444444444444444,
              "#bd3786"
             ],
             [
              0.5555555555555556,
              "#d8576b"
             ],
             [
              0.6666666666666666,
              "#ed7953"
             ],
             [
              0.7777777777777778,
              "#fb9f3a"
             ],
             [
              0.8888888888888888,
              "#fdca26"
             ],
             [
              1,
              "#f0f921"
             ]
            ],
            "type": "heatmapgl"
           }
          ],
          "histogram": [
           {
            "marker": {
             "pattern": {
              "fillmode": "overlay",
              "size": 10,
              "solidity": 0.2
             }
            },
            "type": "histogram"
           }
          ],
          "histogram2d": [
           {
            "colorbar": {
             "outlinewidth": 0,
             "ticks": ""
            },
            "colorscale": [
             [
              0,
              "#0d0887"
             ],
             [
              0.1111111111111111,
              "#46039f"
             ],
             [
              0.2222222222222222,
              "#7201a8"
             ],
             [
              0.3333333333333333,
              "#9c179e"
             ],
             [
              0.4444444444444444,
              "#bd3786"
             ],
             [
              0.5555555555555556,
              "#d8576b"
             ],
             [
              0.6666666666666666,
              "#ed7953"
             ],
             [
              0.7777777777777778,
              "#fb9f3a"
             ],
             [
              0.8888888888888888,
              "#fdca26"
             ],
             [
              1,
              "#f0f921"
             ]
            ],
            "type": "histogram2d"
           }
          ],
          "histogram2dcontour": [
           {
            "colorbar": {
             "outlinewidth": 0,
             "ticks": ""
            },
            "colorscale": [
             [
              0,
              "#0d0887"
             ],
             [
              0.1111111111111111,
              "#46039f"
             ],
             [
              0.2222222222222222,
              "#7201a8"
             ],
             [
              0.3333333333333333,
              "#9c179e"
             ],
             [
              0.4444444444444444,
              "#bd3786"
             ],
             [
              0.5555555555555556,
              "#d8576b"
             ],
             [
              0.6666666666666666,
              "#ed7953"
             ],
             [
              0.7777777777777778,
              "#fb9f3a"
             ],
             [
              0.8888888888888888,
              "#fdca26"
             ],
             [
              1,
              "#f0f921"
             ]
            ],
            "type": "histogram2dcontour"
           }
          ],
          "mesh3d": [
           {
            "colorbar": {
             "outlinewidth": 0,
             "ticks": ""
            },
            "type": "mesh3d"
           }
          ],
          "parcoords": [
           {
            "line": {
             "colorbar": {
              "outlinewidth": 0,
              "ticks": ""
             }
            },
            "type": "parcoords"
           }
          ],
          "pie": [
           {
            "automargin": true,
            "type": "pie"
           }
          ],
          "scatter": [
           {
            "fillpattern": {
             "fillmode": "overlay",
             "size": 10,
             "solidity": 0.2
            },
            "type": "scatter"
           }
          ],
          "scatter3d": [
           {
            "line": {
             "colorbar": {
              "outlinewidth": 0,
              "ticks": ""
             }
            },
            "marker": {
             "colorbar": {
              "outlinewidth": 0,
              "ticks": ""
             }
            },
            "type": "scatter3d"
           }
          ],
          "scattercarpet": [
           {
            "marker": {
             "colorbar": {
              "outlinewidth": 0,
              "ticks": ""
             }
            },
            "type": "scattercarpet"
           }
          ],
          "scattergeo": [
           {
            "marker": {
             "colorbar": {
              "outlinewidth": 0,
              "ticks": ""
             }
            },
            "type": "scattergeo"
           }
          ],
          "scattergl": [
           {
            "marker": {
             "colorbar": {
              "outlinewidth": 0,
              "ticks": ""
             }
            },
            "type": "scattergl"
           }
          ],
          "scattermapbox": [
           {
            "marker": {
             "colorbar": {
              "outlinewidth": 0,
              "ticks": ""
             }
            },
            "type": "scattermapbox"
           }
          ],
          "scatterpolar": [
           {
            "marker": {
             "colorbar": {
              "outlinewidth": 0,
              "ticks": ""
             }
            },
            "type": "scatterpolar"
           }
          ],
          "scatterpolargl": [
           {
            "marker": {
             "colorbar": {
              "outlinewidth": 0,
              "ticks": ""
             }
            },
            "type": "scatterpolargl"
           }
          ],
          "scatterternary": [
           {
            "marker": {
             "colorbar": {
              "outlinewidth": 0,
              "ticks": ""
             }
            },
            "type": "scatterternary"
           }
          ],
          "surface": [
           {
            "colorbar": {
             "outlinewidth": 0,
             "ticks": ""
            },
            "colorscale": [
             [
              0,
              "#0d0887"
             ],
             [
              0.1111111111111111,
              "#46039f"
             ],
             [
              0.2222222222222222,
              "#7201a8"
             ],
             [
              0.3333333333333333,
              "#9c179e"
             ],
             [
              0.4444444444444444,
              "#bd3786"
             ],
             [
              0.5555555555555556,
              "#d8576b"
             ],
             [
              0.6666666666666666,
              "#ed7953"
             ],
             [
              0.7777777777777778,
              "#fb9f3a"
             ],
             [
              0.8888888888888888,
              "#fdca26"
             ],
             [
              1,
              "#f0f921"
             ]
            ],
            "type": "surface"
           }
          ],
          "table": [
           {
            "cells": {
             "fill": {
              "color": "#EBF0F8"
             },
             "line": {
              "color": "white"
             }
            },
            "header": {
             "fill": {
              "color": "#C8D4E3"
             },
             "line": {
              "color": "white"
             }
            },
            "type": "table"
           }
          ]
         },
         "layout": {
          "annotationdefaults": {
           "arrowcolor": "#2a3f5f",
           "arrowhead": 0,
           "arrowwidth": 1
          },
          "autotypenumbers": "strict",
          "coloraxis": {
           "colorbar": {
            "outlinewidth": 0,
            "ticks": ""
           }
          },
          "colorscale": {
           "diverging": [
            [
             0,
             "#8e0152"
            ],
            [
             0.1,
             "#c51b7d"
            ],
            [
             0.2,
             "#de77ae"
            ],
            [
             0.3,
             "#f1b6da"
            ],
            [
             0.4,
             "#fde0ef"
            ],
            [
             0.5,
             "#f7f7f7"
            ],
            [
             0.6,
             "#e6f5d0"
            ],
            [
             0.7,
             "#b8e186"
            ],
            [
             0.8,
             "#7fbc41"
            ],
            [
             0.9,
             "#4d9221"
            ],
            [
             1,
             "#276419"
            ]
           ],
           "sequential": [
            [
             0,
             "#0d0887"
            ],
            [
             0.1111111111111111,
             "#46039f"
            ],
            [
             0.2222222222222222,
             "#7201a8"
            ],
            [
             0.3333333333333333,
             "#9c179e"
            ],
            [
             0.4444444444444444,
             "#bd3786"
            ],
            [
             0.5555555555555556,
             "#d8576b"
            ],
            [
             0.6666666666666666,
             "#ed7953"
            ],
            [
             0.7777777777777778,
             "#fb9f3a"
            ],
            [
             0.8888888888888888,
             "#fdca26"
            ],
            [
             1,
             "#f0f921"
            ]
           ],
           "sequentialminus": [
            [
             0,
             "#0d0887"
            ],
            [
             0.1111111111111111,
             "#46039f"
            ],
            [
             0.2222222222222222,
             "#7201a8"
            ],
            [
             0.3333333333333333,
             "#9c179e"
            ],
            [
             0.4444444444444444,
             "#bd3786"
            ],
            [
             0.5555555555555556,
             "#d8576b"
            ],
            [
             0.6666666666666666,
             "#ed7953"
            ],
            [
             0.7777777777777778,
             "#fb9f3a"
            ],
            [
             0.8888888888888888,
             "#fdca26"
            ],
            [
             1,
             "#f0f921"
            ]
           ]
          },
          "colorway": [
           "#636efa",
           "#EF553B",
           "#00cc96",
           "#ab63fa",
           "#FFA15A",
           "#19d3f3",
           "#FF6692",
           "#B6E880",
           "#FF97FF",
           "#FECB52"
          ],
          "font": {
           "color": "#2a3f5f"
          },
          "geo": {
           "bgcolor": "white",
           "lakecolor": "white",
           "landcolor": "#E5ECF6",
           "showlakes": true,
           "showland": true,
           "subunitcolor": "white"
          },
          "hoverlabel": {
           "align": "left"
          },
          "hovermode": "closest",
          "mapbox": {
           "style": "light"
          },
          "paper_bgcolor": "white",
          "plot_bgcolor": "#E5ECF6",
          "polar": {
           "angularaxis": {
            "gridcolor": "white",
            "linecolor": "white",
            "ticks": ""
           },
           "bgcolor": "#E5ECF6",
           "radialaxis": {
            "gridcolor": "white",
            "linecolor": "white",
            "ticks": ""
           }
          },
          "scene": {
           "xaxis": {
            "backgroundcolor": "#E5ECF6",
            "gridcolor": "white",
            "gridwidth": 2,
            "linecolor": "white",
            "showbackground": true,
            "ticks": "",
            "zerolinecolor": "white"
           },
           "yaxis": {
            "backgroundcolor": "#E5ECF6",
            "gridcolor": "white",
            "gridwidth": 2,
            "linecolor": "white",
            "showbackground": true,
            "ticks": "",
            "zerolinecolor": "white"
           },
           "zaxis": {
            "backgroundcolor": "#E5ECF6",
            "gridcolor": "white",
            "gridwidth": 2,
            "linecolor": "white",
            "showbackground": true,
            "ticks": "",
            "zerolinecolor": "white"
           }
          },
          "shapedefaults": {
           "line": {
            "color": "#2a3f5f"
           }
          },
          "ternary": {
           "aaxis": {
            "gridcolor": "white",
            "linecolor": "white",
            "ticks": ""
           },
           "baxis": {
            "gridcolor": "white",
            "linecolor": "white",
            "ticks": ""
           },
           "bgcolor": "#E5ECF6",
           "caxis": {
            "gridcolor": "white",
            "linecolor": "white",
            "ticks": ""
           }
          },
          "title": {
           "x": 0.05
          },
          "xaxis": {
           "automargin": true,
           "gridcolor": "white",
           "linecolor": "white",
           "ticks": "",
           "title": {
            "standoff": 15
           },
           "zerolinecolor": "white",
           "zerolinewidth": 2
          },
          "yaxis": {
           "automargin": true,
           "gridcolor": "white",
           "linecolor": "white",
           "ticks": "",
           "title": {
            "standoff": 15
           },
           "zerolinecolor": "white",
           "zerolinewidth": 2
          }
         }
        },
        "title": {
         "text": "Корреляционная матрица"
        },
        "xaxis": {
         "anchor": "y",
         "constrain": "domain",
         "domain": [
          0,
          1
         ],
         "scaleanchor": "y"
        },
        "yaxis": {
         "anchor": "x",
         "autorange": "reversed",
         "constrain": "domain",
         "domain": [
          0,
          1
         ]
        }
       }
      }
     },
     "metadata": {},
     "output_type": "display_data"
    }
   ],
   "source": [
    "# Корреляционная матрица (отредактированный датасет)\n",
    "# Удалить столбцы с текстовыми данными\n",
    "dfCor = df_cleaned.select_dtypes(exclude=['object'])\n",
    "\n",
    "correlation_matrix = dfCor.corr()\n",
    "fig = px.imshow(correlation_matrix, x=correlation_matrix.columns, y=correlation_matrix.index, title=\"Корреляционная матрица\")\n",
    "fig.show()"
   ]
  },
  {
   "cell_type": "markdown",
   "metadata": {},
   "source": [
    "1. Матрица кореляций +\n",
    "2. Не бинарная, а мультиклассовая получилась (-) +\n",
    "3. Создать столбец: если больше 5, то 1, а если меньше то 0, то тогда бинарная +\n",
    "4. Сделать сравнение между чисткой и без (Про  идентификацию) +\n",
    "5. Выгрузить на гитхаб и скинуть на почту"
   ]
  }
 ],
 "metadata": {
  "kernelspec": {
   "display_name": "venv",
   "language": "python",
   "name": "python3"
  },
  "language_info": {
   "codemirror_mode": {
    "name": "ipython",
    "version": 3
   },
   "file_extension": ".py",
   "mimetype": "text/x-python",
   "name": "python",
   "nbconvert_exporter": "python",
   "pygments_lexer": "ipython3",
   "version": "3.10.2"
  },
  "orig_nbformat": 4
 },
 "nbformat": 4,
 "nbformat_minor": 2
}
