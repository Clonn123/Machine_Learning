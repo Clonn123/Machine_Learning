{
 "cells": [
  {
   "cell_type": "code",
   "execution_count": 18,
   "metadata": {},
   "outputs": [],
   "source": [
    "import pandas as pd\n",
    "import numpy as np\n",
    "import seaborn as sb\n",
    "import matplotlib.pyplot as plt\n",
    "import plotly.express as px\n",
    "import plotly.graph_objects as go\n",
    "from scipy.interpolate import lagrange\n",
    "from numpy.polynomial import Polynomial\n",
    "from scipy.interpolate import CubicSpline\n",
    "# , newton"
   ]
  },
  {
   "cell_type": "code",
   "execution_count": 19,
   "metadata": {},
   "outputs": [
    {
     "data": {
      "text/html": [
       "<div>\n",
       "<style scoped>\n",
       "    .dataframe tbody tr th:only-of-type {\n",
       "        vertical-align: middle;\n",
       "    }\n",
       "\n",
       "    .dataframe tbody tr th {\n",
       "        vertical-align: top;\n",
       "    }\n",
       "\n",
       "    .dataframe thead th {\n",
       "        text-align: right;\n",
       "    }\n",
       "</style>\n",
       "<table border=\"1\" class=\"dataframe\">\n",
       "  <thead>\n",
       "    <tr style=\"text-align: right;\">\n",
       "      <th></th>\n",
       "      <th>school</th>\n",
       "      <th>sex</th>\n",
       "      <th>age</th>\n",
       "      <th>address</th>\n",
       "      <th>famsize</th>\n",
       "      <th>Pstatus</th>\n",
       "      <th>Medu</th>\n",
       "      <th>Fedu</th>\n",
       "      <th>Mjob</th>\n",
       "      <th>Fjob</th>\n",
       "      <th>...</th>\n",
       "      <th>famrel</th>\n",
       "      <th>freetime</th>\n",
       "      <th>goout</th>\n",
       "      <th>Dalc</th>\n",
       "      <th>Walc</th>\n",
       "      <th>health</th>\n",
       "      <th>absences</th>\n",
       "      <th>G1</th>\n",
       "      <th>G2</th>\n",
       "      <th>G3</th>\n",
       "    </tr>\n",
       "  </thead>\n",
       "  <tbody>\n",
       "    <tr>\n",
       "      <th>0</th>\n",
       "      <td>GP</td>\n",
       "      <td>F</td>\n",
       "      <td>18</td>\n",
       "      <td>U</td>\n",
       "      <td>GT3</td>\n",
       "      <td>A</td>\n",
       "      <td>4</td>\n",
       "      <td>4</td>\n",
       "      <td>at_home</td>\n",
       "      <td>teacher</td>\n",
       "      <td>...</td>\n",
       "      <td>4</td>\n",
       "      <td>3</td>\n",
       "      <td>4</td>\n",
       "      <td>1</td>\n",
       "      <td>1</td>\n",
       "      <td>3</td>\n",
       "      <td>6</td>\n",
       "      <td>5</td>\n",
       "      <td>6</td>\n",
       "      <td>6</td>\n",
       "    </tr>\n",
       "    <tr>\n",
       "      <th>1</th>\n",
       "      <td>GP</td>\n",
       "      <td>F</td>\n",
       "      <td>17</td>\n",
       "      <td>U</td>\n",
       "      <td>GT3</td>\n",
       "      <td>T</td>\n",
       "      <td>1</td>\n",
       "      <td>1</td>\n",
       "      <td>at_home</td>\n",
       "      <td>other</td>\n",
       "      <td>...</td>\n",
       "      <td>5</td>\n",
       "      <td>3</td>\n",
       "      <td>3</td>\n",
       "      <td>1</td>\n",
       "      <td>1</td>\n",
       "      <td>3</td>\n",
       "      <td>4</td>\n",
       "      <td>5</td>\n",
       "      <td>5</td>\n",
       "      <td>6</td>\n",
       "    </tr>\n",
       "    <tr>\n",
       "      <th>2</th>\n",
       "      <td>GP</td>\n",
       "      <td>F</td>\n",
       "      <td>15</td>\n",
       "      <td>U</td>\n",
       "      <td>LE3</td>\n",
       "      <td>T</td>\n",
       "      <td>1</td>\n",
       "      <td>1</td>\n",
       "      <td>at_home</td>\n",
       "      <td>other</td>\n",
       "      <td>...</td>\n",
       "      <td>4</td>\n",
       "      <td>3</td>\n",
       "      <td>2</td>\n",
       "      <td>2</td>\n",
       "      <td>3</td>\n",
       "      <td>3</td>\n",
       "      <td>10</td>\n",
       "      <td>7</td>\n",
       "      <td>8</td>\n",
       "      <td>10</td>\n",
       "    </tr>\n",
       "    <tr>\n",
       "      <th>3</th>\n",
       "      <td>GP</td>\n",
       "      <td>F</td>\n",
       "      <td>15</td>\n",
       "      <td>U</td>\n",
       "      <td>GT3</td>\n",
       "      <td>T</td>\n",
       "      <td>4</td>\n",
       "      <td>2</td>\n",
       "      <td>health</td>\n",
       "      <td>services</td>\n",
       "      <td>...</td>\n",
       "      <td>3</td>\n",
       "      <td>2</td>\n",
       "      <td>2</td>\n",
       "      <td>1</td>\n",
       "      <td>1</td>\n",
       "      <td>5</td>\n",
       "      <td>2</td>\n",
       "      <td>15</td>\n",
       "      <td>14</td>\n",
       "      <td>15</td>\n",
       "    </tr>\n",
       "    <tr>\n",
       "      <th>4</th>\n",
       "      <td>GP</td>\n",
       "      <td>F</td>\n",
       "      <td>16</td>\n",
       "      <td>U</td>\n",
       "      <td>GT3</td>\n",
       "      <td>T</td>\n",
       "      <td>3</td>\n",
       "      <td>3</td>\n",
       "      <td>other</td>\n",
       "      <td>other</td>\n",
       "      <td>...</td>\n",
       "      <td>4</td>\n",
       "      <td>3</td>\n",
       "      <td>2</td>\n",
       "      <td>1</td>\n",
       "      <td>2</td>\n",
       "      <td>5</td>\n",
       "      <td>4</td>\n",
       "      <td>6</td>\n",
       "      <td>10</td>\n",
       "      <td>10</td>\n",
       "    </tr>\n",
       "  </tbody>\n",
       "</table>\n",
       "<p>5 rows × 33 columns</p>\n",
       "</div>"
      ],
      "text/plain": [
       "  school sex  age address famsize Pstatus  Medu  Fedu     Mjob      Fjob  ...  \\\n",
       "0     GP   F   18       U     GT3       A     4     4  at_home   teacher  ...   \n",
       "1     GP   F   17       U     GT3       T     1     1  at_home     other  ...   \n",
       "2     GP   F   15       U     LE3       T     1     1  at_home     other  ...   \n",
       "3     GP   F   15       U     GT3       T     4     2   health  services  ...   \n",
       "4     GP   F   16       U     GT3       T     3     3    other     other  ...   \n",
       "\n",
       "  famrel freetime  goout  Dalc  Walc health absences  G1  G2  G3  \n",
       "0      4        3      4     1     1      3        6   5   6   6  \n",
       "1      5        3      3     1     1      3        4   5   5   6  \n",
       "2      4        3      2     2     3      3       10   7   8  10  \n",
       "3      3        2      2     1     1      5        2  15  14  15  \n",
       "4      4        3      2     1     2      5        4   6  10  10  \n",
       "\n",
       "[5 rows x 33 columns]"
      ]
     },
     "execution_count": 19,
     "metadata": {},
     "output_type": "execute_result"
    }
   ],
   "source": [
    "# Импортирование CSV\n",
    "df = pd.read_csv('student-mat.csv', sep = ',') # DataFrame\n",
    "df.head()"
   ]
  },
  {
   "cell_type": "markdown",
   "metadata": {},
   "source": [
    "О наборе данных\n",
    "=========\n",
    "# Контекст:\n",
    "Данные были получены в ходе опроса учащихся курсов математики и португальского языка в средней школе. Он содержит много интересной социальной, гендерной и учебной информации о студентах.\n",
    "\n",
    "# Содержание:\n",
    "Атрибуты для наборов данных Student-mat.csv (курс математики) и Student-por.csv (курс португальского языка):\n",
    "```\n",
    "school - школа ученика (двоичный код: 'GP' - Габриэль Перейра или 'MS' - Мусиньо да Силвейра)\n",
    "sex — пол студента (двоичный код: «Ж» — женский или «М» — мужской)\n",
    "age - возраст ученика (числовой: от 15 до 22)\n",
    "address - тип домашнего адреса студента (двоичный: 'U' - городской или 'R' - сельский)\n",
    "famsize — размер семейства (двоичный: «LE3» — меньше или равно 3 или «GT3» — больше 3)\n",
    "Pstatus — статус совместного проживания родителей (двоичный код: «Т» — проживание вместе или «А» — раздельно)\n",
    "Medu — образование матери (числовое: 0 — нет, 1 — начальное образование (4 класс), 2 — с 5 по 9 классы, 3 — среднее образование или 4 — высшее образование)\n",
    "Fedu — образование отца (числовое: 0 — нет, 1 — начальное образование (4 класс), 2 — с 5 по 9 классы, 3 — среднее образование или 4 — высшее образование)\n",
    "Mjob - работа матери (номинал: «учитель», «связанный со здравоохранением», гражданские «службы» (например, административные или полицейские), «на дому» или «другое»)\n",
    "Fjob - работа отца (номинал: «учитель», «связанный со здравоохранением», гражданские «службы» (например, административные или полицейские), «на дому» или «другое»)\n",
    "reason - причина выбрать эту школу (номинал: близок к «дому», «репутация» школы, предпочтение «курса» или «другое»)\n",
    "guardian - опекун ученика (номинальное: «мать», «отец» или «другой»)\n",
    "traveltime — время в пути домой в школу (числовое: 1 – <15 минут, 2 – 15 – 30 минут, 3 – 30 минут до 1 часа или 4 – >1 часа)\n",
    "Studytime — еженедельное время обучения (числовое: 1 — <2 часов, 2 — 2–5 часов, 3 — 5–10 часов или 4 — >10 часов)\n",
    "failures - количество прошлых сбоев класса (числовое: n, если 1<=n<3, иначе 4)\n",
    "schoolup - дополнительная образовательная поддержка (двоичный код: да или нет)\n",
    "famsup — образовательная поддержка семьи (двоичный код: да или нет)\n",
    "paid — дополнительные платные занятия по предмету курса (математика или португальский язык) (двоичный код: да или нет)\n",
    "activities – внеклассные мероприятия (бинарный вариант: да или нет)\n",
    "nursery - посещал детский сад (двоичный вариант: да или нет)\n",
    "higher – хочет получить высшее образование (двоичный вариант: да или нет)\n",
    "Internet — доступ в Интернет дома (двоичный код: да или нет)\n",
    "romantic – с романтическими отношениями (бинарный: да или нет)\n",
    "famrel - качество семейных отношений (числовое: от 1 - очень плохо до 5 - отлично)\n",
    "freetime – свободное время после школы (числовое: от 1 – очень низкое до 5 – очень высокое)\n",
    "goout – встреча с друзьями (числовое: от 1 – очень низкий до 5 – очень высокий)\n",
    "Dalc - потребление алкоголя в течение рабочего дня (числовое: от 1 - очень низкое до 5 - очень высокое)\n",
    "Walc – потребление алкоголя в выходные дни (числовое: от 1 – очень низкое до 5 – очень высокое)\n",
    "health – текущее состояние здоровья (числовое: от 1 – очень плохое до 5 – очень хорошее)\n",
    "absences - количество пропусков в школе (числовое: от 0 до 93)\n",
    "```\n",
    "\n",
    "Эти оценки связаны с предметом курса (математика или португальский язык):\n",
    "```\n",
    "G1 – оценка первого периода (числовая: от 0 до 20)\n",
    "G2 – оценка за второй период (числовая: от 0 до 20)\n",
    "G3 — итоговая оценка (числовая: от 0 до 20, выходная цель)\n",
    "Дополнительное примечание: есть несколько (382) студентов, принадлежащих к обоим наборам данных.\n",
    "Этих учащихся можно идентифицировать путем поиска идентичных атрибутов, характеризующих каждого учащегося, как показано в прилагаемом файле R.\n",
    "```\n"
   ]
  },
  {
   "cell_type": "markdown",
   "metadata": {},
   "source": [
    "Для чего датасет\n",
    "====\n",
    "Датасет \"Student Alcohol Consumption\" содержит информацию о студентах и в частности о потреблении ими алкоголя. Этот датасет может быть полезен для различных анализов и исследований в области образования и здоровья студентов. Вот несколько причин, почему этот датасет может быть полезным:\n",
    "\n",
    "    Изучение факторов, влияющих на успеваемость студентов: Вы можете использовать этот датасет, чтобы выяснить, как различные факторы, такие как уровень образования родителей, время, проведенное за учебой, и потребление алкоголя, влияют на успеваемость студентов.\n",
    "\n",
    "    Анализ влияния здоровья и потребления алкоголя: Датасет включает информацию о здоровье студентов и их потреблении алкоголя. Это может быть полезно для изучения связи между здоровьем и образом жизни студентов.\n",
    "\n",
    "    Разработка стратегий для улучшения образования: Исследование этого датасета может помочь школам и учебным заведениям разработать стратегии для улучшения успеваемости студентов и их общего благосостояния.\n",
    "\n",
    "    Предсказание успеваемости студентов: На основе данных о студентах можно попытаться разработать модель для предсказания их будущей успеваемости.\n",
    "\n",
    "    Анализ социальных и гендерных аспектов образования: Датасет также включает информацию о социальных и гендерных характеристиках студентов, что позволяет изучать социальные тенденции в образовании.\n",
    "\n",
    "В датасете содержатся различные числовые и категориальные признаки, которые могут быть использованы для проведения анализа и построения моделей машинного обучения. Исследование этого датасета может принести пользу как образовательным учреждениям, так и исследователям в области образования и здоровья."
   ]
  },
  {
   "cell_type": "markdown",
   "metadata": {},
   "source": [
    "Задание\n",
    "----\n",
    "![Alt text](image-1.png)"
   ]
  },
  {
   "cell_type": "code",
   "execution_count": 20,
   "metadata": {},
   "outputs": [
    {
     "data": {
      "application/vnd.plotly.v1+json": {
       "config": {
        "plotlyServerURL": "https://plot.ly"
       },
       "data": [
        {
         "marker": {
          "color": "blue",
          "symbol": "circle"
         },
         "mode": "markers",
         "name": "Исходные данные",
         "type": "scatter",
         "x": [
          11,
          11.333333333333334,
          11.666666666666666,
          12,
          12.333333333333334,
          12.666666666666666,
          13,
          13.333333333333334,
          13.666666666666666,
          14,
          14.333333333333334
         ],
         "y": [
          4.076923076923077,
          4.153846153846154,
          3,
          4.444444444444445,
          3.875,
          4.846153846153846,
          3.6363636363636362,
          3.8,
          3.1666666666666665,
          2.5714285714285716,
          3.7777777777777777
         ]
        },
        {
         "line": {
          "color": "green"
         },
         "mode": "lines",
         "name": "Интерполяция Лагранжа",
         "type": "scatter",
         "x": [
          11,
          11.175438596491228,
          11.350877192982455,
          11.526315789473685,
          11.701754385964913,
          11.87719298245614,
          12.052631578947368,
          12.228070175438596,
          12.403508771929825,
          12.578947368421053,
          12.75438596491228,
          12.929824561403509,
          13.105263157894736,
          13.280701754385966,
          13.456140350877194,
          13.631578947368421,
          13.807017543859649,
          13.982456140350877,
          14.157894736842106,
          14.333333333333334
         ],
         "y": [
          4.104736328125,
          14.304443359375,
          3.4451904296875,
          1.251220703125,
          3.493408203125,
          4.7093505859375,
          4.2679443359375,
          3.8111572265625,
          4.14453125,
          4.793212890625,
          4.7735595703125,
          4.0218505859375,
          3.387939453125,
          3.6549072265625,
          4.2862548828125,
          3.6041259765625,
          1.5177001953125,
          2.19091796875,
          10.224853515625,
          3.9049072265625
         ]
        }
       ],
       "layout": {
        "legend": {
         "x": 0,
         "y": 1
        },
        "template": {
         "data": {
          "bar": [
           {
            "error_x": {
             "color": "#2a3f5f"
            },
            "error_y": {
             "color": "#2a3f5f"
            },
            "marker": {
             "line": {
              "color": "#E5ECF6",
              "width": 0.5
             },
             "pattern": {
              "fillmode": "overlay",
              "size": 10,
              "solidity": 0.2
             }
            },
            "type": "bar"
           }
          ],
          "barpolar": [
           {
            "marker": {
             "line": {
              "color": "#E5ECF6",
              "width": 0.5
             },
             "pattern": {
              "fillmode": "overlay",
              "size": 10,
              "solidity": 0.2
             }
            },
            "type": "barpolar"
           }
          ],
          "carpet": [
           {
            "aaxis": {
             "endlinecolor": "#2a3f5f",
             "gridcolor": "white",
             "linecolor": "white",
             "minorgridcolor": "white",
             "startlinecolor": "#2a3f5f"
            },
            "baxis": {
             "endlinecolor": "#2a3f5f",
             "gridcolor": "white",
             "linecolor": "white",
             "minorgridcolor": "white",
             "startlinecolor": "#2a3f5f"
            },
            "type": "carpet"
           }
          ],
          "choropleth": [
           {
            "colorbar": {
             "outlinewidth": 0,
             "ticks": ""
            },
            "type": "choropleth"
           }
          ],
          "contour": [
           {
            "colorbar": {
             "outlinewidth": 0,
             "ticks": ""
            },
            "colorscale": [
             [
              0,
              "#0d0887"
             ],
             [
              0.1111111111111111,
              "#46039f"
             ],
             [
              0.2222222222222222,
              "#7201a8"
             ],
             [
              0.3333333333333333,
              "#9c179e"
             ],
             [
              0.4444444444444444,
              "#bd3786"
             ],
             [
              0.5555555555555556,
              "#d8576b"
             ],
             [
              0.6666666666666666,
              "#ed7953"
             ],
             [
              0.7777777777777778,
              "#fb9f3a"
             ],
             [
              0.8888888888888888,
              "#fdca26"
             ],
             [
              1,
              "#f0f921"
             ]
            ],
            "type": "contour"
           }
          ],
          "contourcarpet": [
           {
            "colorbar": {
             "outlinewidth": 0,
             "ticks": ""
            },
            "type": "contourcarpet"
           }
          ],
          "heatmap": [
           {
            "colorbar": {
             "outlinewidth": 0,
             "ticks": ""
            },
            "colorscale": [
             [
              0,
              "#0d0887"
             ],
             [
              0.1111111111111111,
              "#46039f"
             ],
             [
              0.2222222222222222,
              "#7201a8"
             ],
             [
              0.3333333333333333,
              "#9c179e"
             ],
             [
              0.4444444444444444,
              "#bd3786"
             ],
             [
              0.5555555555555556,
              "#d8576b"
             ],
             [
              0.6666666666666666,
              "#ed7953"
             ],
             [
              0.7777777777777778,
              "#fb9f3a"
             ],
             [
              0.8888888888888888,
              "#fdca26"
             ],
             [
              1,
              "#f0f921"
             ]
            ],
            "type": "heatmap"
           }
          ],
          "heatmapgl": [
           {
            "colorbar": {
             "outlinewidth": 0,
             "ticks": ""
            },
            "colorscale": [
             [
              0,
              "#0d0887"
             ],
             [
              0.1111111111111111,
              "#46039f"
             ],
             [
              0.2222222222222222,
              "#7201a8"
             ],
             [
              0.3333333333333333,
              "#9c179e"
             ],
             [
              0.4444444444444444,
              "#bd3786"
             ],
             [
              0.5555555555555556,
              "#d8576b"
             ],
             [
              0.6666666666666666,
              "#ed7953"
             ],
             [
              0.7777777777777778,
              "#fb9f3a"
             ],
             [
              0.8888888888888888,
              "#fdca26"
             ],
             [
              1,
              "#f0f921"
             ]
            ],
            "type": "heatmapgl"
           }
          ],
          "histogram": [
           {
            "marker": {
             "pattern": {
              "fillmode": "overlay",
              "size": 10,
              "solidity": 0.2
             }
            },
            "type": "histogram"
           }
          ],
          "histogram2d": [
           {
            "colorbar": {
             "outlinewidth": 0,
             "ticks": ""
            },
            "colorscale": [
             [
              0,
              "#0d0887"
             ],
             [
              0.1111111111111111,
              "#46039f"
             ],
             [
              0.2222222222222222,
              "#7201a8"
             ],
             [
              0.3333333333333333,
              "#9c179e"
             ],
             [
              0.4444444444444444,
              "#bd3786"
             ],
             [
              0.5555555555555556,
              "#d8576b"
             ],
             [
              0.6666666666666666,
              "#ed7953"
             ],
             [
              0.7777777777777778,
              "#fb9f3a"
             ],
             [
              0.8888888888888888,
              "#fdca26"
             ],
             [
              1,
              "#f0f921"
             ]
            ],
            "type": "histogram2d"
           }
          ],
          "histogram2dcontour": [
           {
            "colorbar": {
             "outlinewidth": 0,
             "ticks": ""
            },
            "colorscale": [
             [
              0,
              "#0d0887"
             ],
             [
              0.1111111111111111,
              "#46039f"
             ],
             [
              0.2222222222222222,
              "#7201a8"
             ],
             [
              0.3333333333333333,
              "#9c179e"
             ],
             [
              0.4444444444444444,
              "#bd3786"
             ],
             [
              0.5555555555555556,
              "#d8576b"
             ],
             [
              0.6666666666666666,
              "#ed7953"
             ],
             [
              0.7777777777777778,
              "#fb9f3a"
             ],
             [
              0.8888888888888888,
              "#fdca26"
             ],
             [
              1,
              "#f0f921"
             ]
            ],
            "type": "histogram2dcontour"
           }
          ],
          "mesh3d": [
           {
            "colorbar": {
             "outlinewidth": 0,
             "ticks": ""
            },
            "type": "mesh3d"
           }
          ],
          "parcoords": [
           {
            "line": {
             "colorbar": {
              "outlinewidth": 0,
              "ticks": ""
             }
            },
            "type": "parcoords"
           }
          ],
          "pie": [
           {
            "automargin": true,
            "type": "pie"
           }
          ],
          "scatter": [
           {
            "fillpattern": {
             "fillmode": "overlay",
             "size": 10,
             "solidity": 0.2
            },
            "type": "scatter"
           }
          ],
          "scatter3d": [
           {
            "line": {
             "colorbar": {
              "outlinewidth": 0,
              "ticks": ""
             }
            },
            "marker": {
             "colorbar": {
              "outlinewidth": 0,
              "ticks": ""
             }
            },
            "type": "scatter3d"
           }
          ],
          "scattercarpet": [
           {
            "marker": {
             "colorbar": {
              "outlinewidth": 0,
              "ticks": ""
             }
            },
            "type": "scattercarpet"
           }
          ],
          "scattergeo": [
           {
            "marker": {
             "colorbar": {
              "outlinewidth": 0,
              "ticks": ""
             }
            },
            "type": "scattergeo"
           }
          ],
          "scattergl": [
           {
            "marker": {
             "colorbar": {
              "outlinewidth": 0,
              "ticks": ""
             }
            },
            "type": "scattergl"
           }
          ],
          "scattermapbox": [
           {
            "marker": {
             "colorbar": {
              "outlinewidth": 0,
              "ticks": ""
             }
            },
            "type": "scattermapbox"
           }
          ],
          "scatterpolar": [
           {
            "marker": {
             "colorbar": {
              "outlinewidth": 0,
              "ticks": ""
             }
            },
            "type": "scatterpolar"
           }
          ],
          "scatterpolargl": [
           {
            "marker": {
             "colorbar": {
              "outlinewidth": 0,
              "ticks": ""
             }
            },
            "type": "scatterpolargl"
           }
          ],
          "scatterternary": [
           {
            "marker": {
             "colorbar": {
              "outlinewidth": 0,
              "ticks": ""
             }
            },
            "type": "scatterternary"
           }
          ],
          "surface": [
           {
            "colorbar": {
             "outlinewidth": 0,
             "ticks": ""
            },
            "colorscale": [
             [
              0,
              "#0d0887"
             ],
             [
              0.1111111111111111,
              "#46039f"
             ],
             [
              0.2222222222222222,
              "#7201a8"
             ],
             [
              0.3333333333333333,
              "#9c179e"
             ],
             [
              0.4444444444444444,
              "#bd3786"
             ],
             [
              0.5555555555555556,
              "#d8576b"
             ],
             [
              0.6666666666666666,
              "#ed7953"
             ],
             [
              0.7777777777777778,
              "#fb9f3a"
             ],
             [
              0.8888888888888888,
              "#fdca26"
             ],
             [
              1,
              "#f0f921"
             ]
            ],
            "type": "surface"
           }
          ],
          "table": [
           {
            "cells": {
             "fill": {
              "color": "#EBF0F8"
             },
             "line": {
              "color": "white"
             }
            },
            "header": {
             "fill": {
              "color": "#C8D4E3"
             },
             "line": {
              "color": "white"
             }
            },
            "type": "table"
           }
          ]
         },
         "layout": {
          "annotationdefaults": {
           "arrowcolor": "#2a3f5f",
           "arrowhead": 0,
           "arrowwidth": 1
          },
          "autotypenumbers": "strict",
          "coloraxis": {
           "colorbar": {
            "outlinewidth": 0,
            "ticks": ""
           }
          },
          "colorscale": {
           "diverging": [
            [
             0,
             "#8e0152"
            ],
            [
             0.1,
             "#c51b7d"
            ],
            [
             0.2,
             "#de77ae"
            ],
            [
             0.3,
             "#f1b6da"
            ],
            [
             0.4,
             "#fde0ef"
            ],
            [
             0.5,
             "#f7f7f7"
            ],
            [
             0.6,
             "#e6f5d0"
            ],
            [
             0.7,
             "#b8e186"
            ],
            [
             0.8,
             "#7fbc41"
            ],
            [
             0.9,
             "#4d9221"
            ],
            [
             1,
             "#276419"
            ]
           ],
           "sequential": [
            [
             0,
             "#0d0887"
            ],
            [
             0.1111111111111111,
             "#46039f"
            ],
            [
             0.2222222222222222,
             "#7201a8"
            ],
            [
             0.3333333333333333,
             "#9c179e"
            ],
            [
             0.4444444444444444,
             "#bd3786"
            ],
            [
             0.5555555555555556,
             "#d8576b"
            ],
            [
             0.6666666666666666,
             "#ed7953"
            ],
            [
             0.7777777777777778,
             "#fb9f3a"
            ],
            [
             0.8888888888888888,
             "#fdca26"
            ],
            [
             1,
             "#f0f921"
            ]
           ],
           "sequentialminus": [
            [
             0,
             "#0d0887"
            ],
            [
             0.1111111111111111,
             "#46039f"
            ],
            [
             0.2222222222222222,
             "#7201a8"
            ],
            [
             0.3333333333333333,
             "#9c179e"
            ],
            [
             0.4444444444444444,
             "#bd3786"
            ],
            [
             0.5555555555555556,
             "#d8576b"
            ],
            [
             0.6666666666666666,
             "#ed7953"
            ],
            [
             0.7777777777777778,
             "#fb9f3a"
            ],
            [
             0.8888888888888888,
             "#fdca26"
            ],
            [
             1,
             "#f0f921"
            ]
           ]
          },
          "colorway": [
           "#636efa",
           "#EF553B",
           "#00cc96",
           "#ab63fa",
           "#FFA15A",
           "#19d3f3",
           "#FF6692",
           "#B6E880",
           "#FF97FF",
           "#FECB52"
          ],
          "font": {
           "color": "#2a3f5f"
          },
          "geo": {
           "bgcolor": "white",
           "lakecolor": "white",
           "landcolor": "#E5ECF6",
           "showlakes": true,
           "showland": true,
           "subunitcolor": "white"
          },
          "hoverlabel": {
           "align": "left"
          },
          "hovermode": "closest",
          "mapbox": {
           "style": "light"
          },
          "paper_bgcolor": "white",
          "plot_bgcolor": "#E5ECF6",
          "polar": {
           "angularaxis": {
            "gridcolor": "white",
            "linecolor": "white",
            "ticks": ""
           },
           "bgcolor": "#E5ECF6",
           "radialaxis": {
            "gridcolor": "white",
            "linecolor": "white",
            "ticks": ""
           }
          },
          "scene": {
           "xaxis": {
            "backgroundcolor": "#E5ECF6",
            "gridcolor": "white",
            "gridwidth": 2,
            "linecolor": "white",
            "showbackground": true,
            "ticks": "",
            "zerolinecolor": "white"
           },
           "yaxis": {
            "backgroundcolor": "#E5ECF6",
            "gridcolor": "white",
            "gridwidth": 2,
            "linecolor": "white",
            "showbackground": true,
            "ticks": "",
            "zerolinecolor": "white"
           },
           "zaxis": {
            "backgroundcolor": "#E5ECF6",
            "gridcolor": "white",
            "gridwidth": 2,
            "linecolor": "white",
            "showbackground": true,
            "ticks": "",
            "zerolinecolor": "white"
           }
          },
          "shapedefaults": {
           "line": {
            "color": "#2a3f5f"
           }
          },
          "ternary": {
           "aaxis": {
            "gridcolor": "white",
            "linecolor": "white",
            "ticks": ""
           },
           "baxis": {
            "gridcolor": "white",
            "linecolor": "white",
            "ticks": ""
           },
           "bgcolor": "#E5ECF6",
           "caxis": {
            "gridcolor": "white",
            "linecolor": "white",
            "ticks": ""
           }
          },
          "title": {
           "x": 0.05
          },
          "xaxis": {
           "automargin": true,
           "gridcolor": "white",
           "linecolor": "white",
           "ticks": "",
           "title": {
            "standoff": 15
           },
           "zerolinecolor": "white",
           "zerolinewidth": 2
          },
          "yaxis": {
           "automargin": true,
           "gridcolor": "white",
           "linecolor": "white",
           "ticks": "",
           "title": {
            "standoff": 15
           },
           "zerolinecolor": "white",
           "zerolinewidth": 2
          }
         }
        },
        "title": {
         "text": "Интерполяционные кривые для средней оценки и потребления алкоголя"
        },
        "xaxis": {
         "title": {
          "text": "Средняя оценка (G1, G2, G3)"
         }
        },
        "yaxis": {
         "title": {
          "text": "Суммарное потребление алкоголя"
         }
        }
       }
      }
     },
     "metadata": {},
     "output_type": "display_data"
    }
   ],
   "source": [
    "# Вычисляем среднюю оценку\n",
    "df['average_grade'] = (df['G1'] + df['G2'] + df['G3']) / 3\n",
    "\n",
    "# Вычисляем суммарное потребление алкоголя\n",
    "df['total_alcohol_consumption'] = df['Dalc'] + df['Walc']\n",
    "\n",
    "# Усредняем соответствующие y-значения для одинаковых x\n",
    "df_grouped = df.groupby('average_grade')['total_alcohol_consumption'].mean().reset_index()\n",
    "\n",
    "# Выбираем данные для интерполяции\n",
    "x = df_grouped['average_grade'][29:40].to_numpy()\n",
    "y = df_grouped['total_alcohol_consumption'][29:40].to_numpy()\n",
    "\n",
    "# x = np.array([0, 1, 1.5, 2, 3])\n",
    "# y = np.array([2, 8, 12, 10, 20])\n",
    "\n",
    "# Создаем точки для интерполяции\n",
    "x_interp = np.linspace(min(x), max(x), 20)\n",
    "\n",
    "# Интерполяция Лагранжа\n",
    "lagrange_poly = lagrange(x, y)\n",
    "y_interp_lagrange = lagrange_poly(x_interp)\n",
    "\n",
    "# Создаем графики Plotly\n",
    "trace_original = go.Scatter(\n",
    "    x=x,\n",
    "    y=y,\n",
    "    mode='markers',\n",
    "    name='Исходные данные',\n",
    "    marker=dict(color='blue', symbol='circle'),\n",
    ")\n",
    "\n",
    "trace_interpolated = go.Scatter(\n",
    "    x=x_interp,\n",
    "    y=y_interp_lagrange,\n",
    "    mode='lines',\n",
    "    name='Интерполяция Лагранжа',\n",
    "    line=dict(color='green'),\n",
    ")\n",
    "\n",
    "layout = go.Layout(\n",
    "    title='Интерполяционные кривые для средней оценки и потребления алкоголя',\n",
    "    xaxis=dict(title='Средняя оценка (G1, G2, G3)'),\n",
    "    yaxis=dict(title='Суммарное потребление алкоголя'),\n",
    "    legend=dict(x=0, y=1),\n",
    ")\n",
    "\n",
    "fig = go.Figure(data=[trace_original, trace_interpolated], layout=layout)\n",
    "fig.show()"
   ]
  },
  {
   "cell_type": "code",
   "execution_count": 26,
   "metadata": {},
   "outputs": [
    {
     "data": {
      "application/vnd.plotly.v1+json": {
       "config": {
        "plotlyServerURL": "https://plot.ly"
       },
       "data": [
        {
         "marker": {
          "color": "blue",
          "symbol": "circle"
         },
         "mode": "markers",
         "name": "Исходные данные",
         "type": "scatter",
         "x": [
          11,
          11.333333333333334,
          11.666666666666666,
          12,
          12.333333333333334,
          12.666666666666666,
          13,
          13.333333333333334,
          13.666666666666666,
          14,
          14.333333333333334
         ],
         "y": [
          4.076923076923077,
          4.153846153846154,
          3,
          4.444444444444445,
          3.875,
          4.846153846153846,
          3.6363636363636362,
          3.8,
          3.1666666666666665,
          2.5714285714285716,
          3.7777777777777777
         ]
        },
        {
         "line": {
          "color": "green",
          "shape": "spline",
          "width": 2
         },
         "mode": "lines",
         "name": "Интерполяция Лагранжа",
         "type": "scatter",
         "x": [
          11,
          11.175438596491228,
          11.350877192982455,
          11.526315789473685,
          11.701754385964913,
          11.87719298245614,
          12.052631578947368,
          12.228070175438596,
          12.403508771929825,
          12.578947368421053,
          12.75438596491228,
          12.929824561403509,
          13.105263157894736,
          13.280701754385966,
          13.456140350877194,
          13.631578947368421,
          13.807017543859649,
          13.982456140350877,
          14.157894736842106,
          14.333333333333334
         ],
         "y": [
          4.104736328125,
          14.304443359375,
          3.4451904296875,
          1.251220703125,
          3.493408203125,
          4.7093505859375,
          4.2679443359375,
          3.8111572265625,
          4.14453125,
          4.793212890625,
          4.7735595703125,
          4.0218505859375,
          3.387939453125,
          3.6549072265625,
          4.2862548828125,
          3.6041259765625,
          1.5177001953125,
          2.19091796875,
          10.224853515625,
          3.9049072265625
         ]
        }
       ],
       "layout": {
        "legend": {
         "x": 0,
         "y": 1
        },
        "template": {
         "data": {
          "bar": [
           {
            "error_x": {
             "color": "#2a3f5f"
            },
            "error_y": {
             "color": "#2a3f5f"
            },
            "marker": {
             "line": {
              "color": "#E5ECF6",
              "width": 0.5
             },
             "pattern": {
              "fillmode": "overlay",
              "size": 10,
              "solidity": 0.2
             }
            },
            "type": "bar"
           }
          ],
          "barpolar": [
           {
            "marker": {
             "line": {
              "color": "#E5ECF6",
              "width": 0.5
             },
             "pattern": {
              "fillmode": "overlay",
              "size": 10,
              "solidity": 0.2
             }
            },
            "type": "barpolar"
           }
          ],
          "carpet": [
           {
            "aaxis": {
             "endlinecolor": "#2a3f5f",
             "gridcolor": "white",
             "linecolor": "white",
             "minorgridcolor": "white",
             "startlinecolor": "#2a3f5f"
            },
            "baxis": {
             "endlinecolor": "#2a3f5f",
             "gridcolor": "white",
             "linecolor": "white",
             "minorgridcolor": "white",
             "startlinecolor": "#2a3f5f"
            },
            "type": "carpet"
           }
          ],
          "choropleth": [
           {
            "colorbar": {
             "outlinewidth": 0,
             "ticks": ""
            },
            "type": "choropleth"
           }
          ],
          "contour": [
           {
            "colorbar": {
             "outlinewidth": 0,
             "ticks": ""
            },
            "colorscale": [
             [
              0,
              "#0d0887"
             ],
             [
              0.1111111111111111,
              "#46039f"
             ],
             [
              0.2222222222222222,
              "#7201a8"
             ],
             [
              0.3333333333333333,
              "#9c179e"
             ],
             [
              0.4444444444444444,
              "#bd3786"
             ],
             [
              0.5555555555555556,
              "#d8576b"
             ],
             [
              0.6666666666666666,
              "#ed7953"
             ],
             [
              0.7777777777777778,
              "#fb9f3a"
             ],
             [
              0.8888888888888888,
              "#fdca26"
             ],
             [
              1,
              "#f0f921"
             ]
            ],
            "type": "contour"
           }
          ],
          "contourcarpet": [
           {
            "colorbar": {
             "outlinewidth": 0,
             "ticks": ""
            },
            "type": "contourcarpet"
           }
          ],
          "heatmap": [
           {
            "colorbar": {
             "outlinewidth": 0,
             "ticks": ""
            },
            "colorscale": [
             [
              0,
              "#0d0887"
             ],
             [
              0.1111111111111111,
              "#46039f"
             ],
             [
              0.2222222222222222,
              "#7201a8"
             ],
             [
              0.3333333333333333,
              "#9c179e"
             ],
             [
              0.4444444444444444,
              "#bd3786"
             ],
             [
              0.5555555555555556,
              "#d8576b"
             ],
             [
              0.6666666666666666,
              "#ed7953"
             ],
             [
              0.7777777777777778,
              "#fb9f3a"
             ],
             [
              0.8888888888888888,
              "#fdca26"
             ],
             [
              1,
              "#f0f921"
             ]
            ],
            "type": "heatmap"
           }
          ],
          "heatmapgl": [
           {
            "colorbar": {
             "outlinewidth": 0,
             "ticks": ""
            },
            "colorscale": [
             [
              0,
              "#0d0887"
             ],
             [
              0.1111111111111111,
              "#46039f"
             ],
             [
              0.2222222222222222,
              "#7201a8"
             ],
             [
              0.3333333333333333,
              "#9c179e"
             ],
             [
              0.4444444444444444,
              "#bd3786"
             ],
             [
              0.5555555555555556,
              "#d8576b"
             ],
             [
              0.6666666666666666,
              "#ed7953"
             ],
             [
              0.7777777777777778,
              "#fb9f3a"
             ],
             [
              0.8888888888888888,
              "#fdca26"
             ],
             [
              1,
              "#f0f921"
             ]
            ],
            "type": "heatmapgl"
           }
          ],
          "histogram": [
           {
            "marker": {
             "pattern": {
              "fillmode": "overlay",
              "size": 10,
              "solidity": 0.2
             }
            },
            "type": "histogram"
           }
          ],
          "histogram2d": [
           {
            "colorbar": {
             "outlinewidth": 0,
             "ticks": ""
            },
            "colorscale": [
             [
              0,
              "#0d0887"
             ],
             [
              0.1111111111111111,
              "#46039f"
             ],
             [
              0.2222222222222222,
              "#7201a8"
             ],
             [
              0.3333333333333333,
              "#9c179e"
             ],
             [
              0.4444444444444444,
              "#bd3786"
             ],
             [
              0.5555555555555556,
              "#d8576b"
             ],
             [
              0.6666666666666666,
              "#ed7953"
             ],
             [
              0.7777777777777778,
              "#fb9f3a"
             ],
             [
              0.8888888888888888,
              "#fdca26"
             ],
             [
              1,
              "#f0f921"
             ]
            ],
            "type": "histogram2d"
           }
          ],
          "histogram2dcontour": [
           {
            "colorbar": {
             "outlinewidth": 0,
             "ticks": ""
            },
            "colorscale": [
             [
              0,
              "#0d0887"
             ],
             [
              0.1111111111111111,
              "#46039f"
             ],
             [
              0.2222222222222222,
              "#7201a8"
             ],
             [
              0.3333333333333333,
              "#9c179e"
             ],
             [
              0.4444444444444444,
              "#bd3786"
             ],
             [
              0.5555555555555556,
              "#d8576b"
             ],
             [
              0.6666666666666666,
              "#ed7953"
             ],
             [
              0.7777777777777778,
              "#fb9f3a"
             ],
             [
              0.8888888888888888,
              "#fdca26"
             ],
             [
              1,
              "#f0f921"
             ]
            ],
            "type": "histogram2dcontour"
           }
          ],
          "mesh3d": [
           {
            "colorbar": {
             "outlinewidth": 0,
             "ticks": ""
            },
            "type": "mesh3d"
           }
          ],
          "parcoords": [
           {
            "line": {
             "colorbar": {
              "outlinewidth": 0,
              "ticks": ""
             }
            },
            "type": "parcoords"
           }
          ],
          "pie": [
           {
            "automargin": true,
            "type": "pie"
           }
          ],
          "scatter": [
           {
            "fillpattern": {
             "fillmode": "overlay",
             "size": 10,
             "solidity": 0.2
            },
            "type": "scatter"
           }
          ],
          "scatter3d": [
           {
            "line": {
             "colorbar": {
              "outlinewidth": 0,
              "ticks": ""
             }
            },
            "marker": {
             "colorbar": {
              "outlinewidth": 0,
              "ticks": ""
             }
            },
            "type": "scatter3d"
           }
          ],
          "scattercarpet": [
           {
            "marker": {
             "colorbar": {
              "outlinewidth": 0,
              "ticks": ""
             }
            },
            "type": "scattercarpet"
           }
          ],
          "scattergeo": [
           {
            "marker": {
             "colorbar": {
              "outlinewidth": 0,
              "ticks": ""
             }
            },
            "type": "scattergeo"
           }
          ],
          "scattergl": [
           {
            "marker": {
             "colorbar": {
              "outlinewidth": 0,
              "ticks": ""
             }
            },
            "type": "scattergl"
           }
          ],
          "scattermapbox": [
           {
            "marker": {
             "colorbar": {
              "outlinewidth": 0,
              "ticks": ""
             }
            },
            "type": "scattermapbox"
           }
          ],
          "scatterpolar": [
           {
            "marker": {
             "colorbar": {
              "outlinewidth": 0,
              "ticks": ""
             }
            },
            "type": "scatterpolar"
           }
          ],
          "scatterpolargl": [
           {
            "marker": {
             "colorbar": {
              "outlinewidth": 0,
              "ticks": ""
             }
            },
            "type": "scatterpolargl"
           }
          ],
          "scatterternary": [
           {
            "marker": {
             "colorbar": {
              "outlinewidth": 0,
              "ticks": ""
             }
            },
            "type": "scatterternary"
           }
          ],
          "surface": [
           {
            "colorbar": {
             "outlinewidth": 0,
             "ticks": ""
            },
            "colorscale": [
             [
              0,
              "#0d0887"
             ],
             [
              0.1111111111111111,
              "#46039f"
             ],
             [
              0.2222222222222222,
              "#7201a8"
             ],
             [
              0.3333333333333333,
              "#9c179e"
             ],
             [
              0.4444444444444444,
              "#bd3786"
             ],
             [
              0.5555555555555556,
              "#d8576b"
             ],
             [
              0.6666666666666666,
              "#ed7953"
             ],
             [
              0.7777777777777778,
              "#fb9f3a"
             ],
             [
              0.8888888888888888,
              "#fdca26"
             ],
             [
              1,
              "#f0f921"
             ]
            ],
            "type": "surface"
           }
          ],
          "table": [
           {
            "cells": {
             "fill": {
              "color": "#EBF0F8"
             },
             "line": {
              "color": "white"
             }
            },
            "header": {
             "fill": {
              "color": "#C8D4E3"
             },
             "line": {
              "color": "white"
             }
            },
            "type": "table"
           }
          ]
         },
         "layout": {
          "annotationdefaults": {
           "arrowcolor": "#2a3f5f",
           "arrowhead": 0,
           "arrowwidth": 1
          },
          "autotypenumbers": "strict",
          "coloraxis": {
           "colorbar": {
            "outlinewidth": 0,
            "ticks": ""
           }
          },
          "colorscale": {
           "diverging": [
            [
             0,
             "#8e0152"
            ],
            [
             0.1,
             "#c51b7d"
            ],
            [
             0.2,
             "#de77ae"
            ],
            [
             0.3,
             "#f1b6da"
            ],
            [
             0.4,
             "#fde0ef"
            ],
            [
             0.5,
             "#f7f7f7"
            ],
            [
             0.6,
             "#e6f5d0"
            ],
            [
             0.7,
             "#b8e186"
            ],
            [
             0.8,
             "#7fbc41"
            ],
            [
             0.9,
             "#4d9221"
            ],
            [
             1,
             "#276419"
            ]
           ],
           "sequential": [
            [
             0,
             "#0d0887"
            ],
            [
             0.1111111111111111,
             "#46039f"
            ],
            [
             0.2222222222222222,
             "#7201a8"
            ],
            [
             0.3333333333333333,
             "#9c179e"
            ],
            [
             0.4444444444444444,
             "#bd3786"
            ],
            [
             0.5555555555555556,
             "#d8576b"
            ],
            [
             0.6666666666666666,
             "#ed7953"
            ],
            [
             0.7777777777777778,
             "#fb9f3a"
            ],
            [
             0.8888888888888888,
             "#fdca26"
            ],
            [
             1,
             "#f0f921"
            ]
           ],
           "sequentialminus": [
            [
             0,
             "#0d0887"
            ],
            [
             0.1111111111111111,
             "#46039f"
            ],
            [
             0.2222222222222222,
             "#7201a8"
            ],
            [
             0.3333333333333333,
             "#9c179e"
            ],
            [
             0.4444444444444444,
             "#bd3786"
            ],
            [
             0.5555555555555556,
             "#d8576b"
            ],
            [
             0.6666666666666666,
             "#ed7953"
            ],
            [
             0.7777777777777778,
             "#fb9f3a"
            ],
            [
             0.8888888888888888,
             "#fdca26"
            ],
            [
             1,
             "#f0f921"
            ]
           ]
          },
          "colorway": [
           "#636efa",
           "#EF553B",
           "#00cc96",
           "#ab63fa",
           "#FFA15A",
           "#19d3f3",
           "#FF6692",
           "#B6E880",
           "#FF97FF",
           "#FECB52"
          ],
          "font": {
           "color": "#2a3f5f"
          },
          "geo": {
           "bgcolor": "white",
           "lakecolor": "white",
           "landcolor": "#E5ECF6",
           "showlakes": true,
           "showland": true,
           "subunitcolor": "white"
          },
          "hoverlabel": {
           "align": "left"
          },
          "hovermode": "closest",
          "mapbox": {
           "style": "light"
          },
          "paper_bgcolor": "white",
          "plot_bgcolor": "#E5ECF6",
          "polar": {
           "angularaxis": {
            "gridcolor": "white",
            "linecolor": "white",
            "ticks": ""
           },
           "bgcolor": "#E5ECF6",
           "radialaxis": {
            "gridcolor": "white",
            "linecolor": "white",
            "ticks": ""
           }
          },
          "scene": {
           "xaxis": {
            "backgroundcolor": "#E5ECF6",
            "gridcolor": "white",
            "gridwidth": 2,
            "linecolor": "white",
            "showbackground": true,
            "ticks": "",
            "zerolinecolor": "white"
           },
           "yaxis": {
            "backgroundcolor": "#E5ECF6",
            "gridcolor": "white",
            "gridwidth": 2,
            "linecolor": "white",
            "showbackground": true,
            "ticks": "",
            "zerolinecolor": "white"
           },
           "zaxis": {
            "backgroundcolor": "#E5ECF6",
            "gridcolor": "white",
            "gridwidth": 2,
            "linecolor": "white",
            "showbackground": true,
            "ticks": "",
            "zerolinecolor": "white"
           }
          },
          "shapedefaults": {
           "line": {
            "color": "#2a3f5f"
           }
          },
          "ternary": {
           "aaxis": {
            "gridcolor": "white",
            "linecolor": "white",
            "ticks": ""
           },
           "baxis": {
            "gridcolor": "white",
            "linecolor": "white",
            "ticks": ""
           },
           "bgcolor": "#E5ECF6",
           "caxis": {
            "gridcolor": "white",
            "linecolor": "white",
            "ticks": ""
           }
          },
          "title": {
           "x": 0.05
          },
          "xaxis": {
           "automargin": true,
           "gridcolor": "white",
           "linecolor": "white",
           "ticks": "",
           "title": {
            "standoff": 15
           },
           "zerolinecolor": "white",
           "zerolinewidth": 2
          },
          "yaxis": {
           "automargin": true,
           "gridcolor": "white",
           "linecolor": "white",
           "ticks": "",
           "title": {
            "standoff": 15
           },
           "zerolinecolor": "white",
           "zerolinewidth": 2
          }
         }
        },
        "title": {
         "text": "Интерполяционные кривые для средней оценки и потребления алкоголя (Лагранж)"
        },
        "xaxis": {
         "title": {
          "text": "Средняя оценка (G1, G2, G3)"
         }
        },
        "yaxis": {
         "title": {
          "text": "Суммарное потребление алкоголя"
         }
        }
       }
      }
     },
     "metadata": {},
     "output_type": "display_data"
    }
   ],
   "source": [
    "# Вычисляем среднюю оценку\n",
    "df['average_grade'] = (df['G1'] + df['G2'] + df['G3']) / 3\n",
    "\n",
    "# Вычисляем суммарное потребление алкоголя\n",
    "df['total_alcohol_consumption'] = df['Dalc'] + df['Walc']\n",
    "\n",
    "# Усредняем соответствующие y-значения для одинаковых x\n",
    "df_grouped = df.groupby('average_grade')['total_alcohol_consumption'].mean().reset_index()\n",
    "\n",
    "# Выбираем данные для интерполяции\n",
    "x = df_grouped['average_grade'][29:40].to_numpy()\n",
    "y = df_grouped['total_alcohol_consumption'][29:40].to_numpy()\n",
    "\n",
    "# x = np.array([0, 1, 1.5, 2, 3])\n",
    "# y = np.array([2, 8, 12, 10, 20])\n",
    "\n",
    "# Создаем точки для интерполяции\n",
    "x_interp = np.linspace(min(x), max(x), 20)\n",
    "\n",
    "# Интерполяция Лагранжа\n",
    "lagrange_poly = lagrange(x, y)\n",
    "y_interp_lagrange = lagrange_poly(x_interp)\n",
    "\n",
    "# Создаем графики Plotly\n",
    "trace_original = go.Scatter(\n",
    "    x=x,\n",
    "    y=y,\n",
    "    mode='markers',\n",
    "    name='Исходные данные',\n",
    "    marker=dict(color='blue', symbol='circle'),\n",
    ")\n",
    "\n",
    "trace_interpolated = go.Scatter(\n",
    "    x=x_interp,\n",
    "    y=y_interp_lagrange,\n",
    "    mode='lines', #+markers\n",
    "    name='Интерполяция Лагранжа',\n",
    "    line=dict(color='green', shape='spline', width=2),  # Сглаживаем и увеличиваем толщину\n",
    ")\n",
    "\n",
    "layout = go.Layout(\n",
    "    title='Интерполяционные кривые для средней оценки и потребления алкоголя (Лагранж)',\n",
    "    xaxis=dict(title='Средняя оценка (G1, G2, G3)'),\n",
    "    yaxis=dict(title='Суммарное потребление алкоголя'),\n",
    "    legend=dict(x=0, y=1),\n",
    ")\n",
    "\n",
    "fig = go.Figure(data=[trace_original, trace_interpolated], layout=layout)\n",
    "fig.show()"
   ]
  },
  {
   "cell_type": "code",
   "execution_count": 28,
   "metadata": {},
   "outputs": [
    {
     "data": {
      "application/vnd.plotly.v1+json": {
       "config": {
        "plotlyServerURL": "https://plot.ly"
       },
       "data": [
        {
         "marker": {
          "color": "blue",
          "symbol": "circle"
         },
         "mode": "markers",
         "name": "Исходные данные",
         "type": "scatter",
         "x": [
          11,
          11.333333333333334,
          11.666666666666666,
          12,
          12.333333333333334,
          12.666666666666666,
          13,
          13.333333333333334,
          13.666666666666666,
          14,
          14.333333333333334
         ],
         "y": [
          4.076923076923077,
          4.153846153846154,
          3,
          4.444444444444445,
          3.875,
          4.846153846153846,
          3.6363636363636362,
          3.8,
          3.1666666666666665,
          2.5714285714285716,
          3.7777777777777777
         ]
        },
        {
         "line": {
          "color": "red",
          "shape": "spline",
          "width": 2
         },
         "mode": "lines",
         "name": "Интерполяция Ньютона",
         "type": "scatter",
         "x": [
          11,
          11.175438596491228,
          11.350877192982455,
          11.526315789473685,
          11.701754385964913,
          11.87719298245614,
          12.052631578947368,
          12.228070175438596,
          12.403508771929825,
          12.578947368421053,
          12.75438596491228,
          12.929824561403509,
          13.105263157894736,
          13.280701754385966,
          13.456140350877194,
          13.631578947368421,
          13.807017543859649,
          13.982456140350877,
          14.157894736842106,
          14.333333333333334
         ],
         "y": [
          4.076923076923077,
          14.285766472708898,
          3.4108800096990306,
          1.2175197649315093,
          3.467716145142451,
          4.673962306961423,
          4.230129993876105,
          3.7506740146291024,
          4.1056264966925,
          4.738868478074825,
          4.7236951107883325,
          3.965757499676592,
          3.3320647508100185,
          3.588859914136512,
          4.193838935359346,
          3.5323582419461133,
          1.4359699375788897,
          2.097829528082598,
          10.126235409741795,
          3.7777777777766346
         ]
        }
       ],
       "layout": {
        "legend": {
         "x": 0,
         "y": 1
        },
        "template": {
         "data": {
          "bar": [
           {
            "error_x": {
             "color": "#2a3f5f"
            },
            "error_y": {
             "color": "#2a3f5f"
            },
            "marker": {
             "line": {
              "color": "#E5ECF6",
              "width": 0.5
             },
             "pattern": {
              "fillmode": "overlay",
              "size": 10,
              "solidity": 0.2
             }
            },
            "type": "bar"
           }
          ],
          "barpolar": [
           {
            "marker": {
             "line": {
              "color": "#E5ECF6",
              "width": 0.5
             },
             "pattern": {
              "fillmode": "overlay",
              "size": 10,
              "solidity": 0.2
             }
            },
            "type": "barpolar"
           }
          ],
          "carpet": [
           {
            "aaxis": {
             "endlinecolor": "#2a3f5f",
             "gridcolor": "white",
             "linecolor": "white",
             "minorgridcolor": "white",
             "startlinecolor": "#2a3f5f"
            },
            "baxis": {
             "endlinecolor": "#2a3f5f",
             "gridcolor": "white",
             "linecolor": "white",
             "minorgridcolor": "white",
             "startlinecolor": "#2a3f5f"
            },
            "type": "carpet"
           }
          ],
          "choropleth": [
           {
            "colorbar": {
             "outlinewidth": 0,
             "ticks": ""
            },
            "type": "choropleth"
           }
          ],
          "contour": [
           {
            "colorbar": {
             "outlinewidth": 0,
             "ticks": ""
            },
            "colorscale": [
             [
              0,
              "#0d0887"
             ],
             [
              0.1111111111111111,
              "#46039f"
             ],
             [
              0.2222222222222222,
              "#7201a8"
             ],
             [
              0.3333333333333333,
              "#9c179e"
             ],
             [
              0.4444444444444444,
              "#bd3786"
             ],
             [
              0.5555555555555556,
              "#d8576b"
             ],
             [
              0.6666666666666666,
              "#ed7953"
             ],
             [
              0.7777777777777778,
              "#fb9f3a"
             ],
             [
              0.8888888888888888,
              "#fdca26"
             ],
             [
              1,
              "#f0f921"
             ]
            ],
            "type": "contour"
           }
          ],
          "contourcarpet": [
           {
            "colorbar": {
             "outlinewidth": 0,
             "ticks": ""
            },
            "type": "contourcarpet"
           }
          ],
          "heatmap": [
           {
            "colorbar": {
             "outlinewidth": 0,
             "ticks": ""
            },
            "colorscale": [
             [
              0,
              "#0d0887"
             ],
             [
              0.1111111111111111,
              "#46039f"
             ],
             [
              0.2222222222222222,
              "#7201a8"
             ],
             [
              0.3333333333333333,
              "#9c179e"
             ],
             [
              0.4444444444444444,
              "#bd3786"
             ],
             [
              0.5555555555555556,
              "#d8576b"
             ],
             [
              0.6666666666666666,
              "#ed7953"
             ],
             [
              0.7777777777777778,
              "#fb9f3a"
             ],
             [
              0.8888888888888888,
              "#fdca26"
             ],
             [
              1,
              "#f0f921"
             ]
            ],
            "type": "heatmap"
           }
          ],
          "heatmapgl": [
           {
            "colorbar": {
             "outlinewidth": 0,
             "ticks": ""
            },
            "colorscale": [
             [
              0,
              "#0d0887"
             ],
             [
              0.1111111111111111,
              "#46039f"
             ],
             [
              0.2222222222222222,
              "#7201a8"
             ],
             [
              0.3333333333333333,
              "#9c179e"
             ],
             [
              0.4444444444444444,
              "#bd3786"
             ],
             [
              0.5555555555555556,
              "#d8576b"
             ],
             [
              0.6666666666666666,
              "#ed7953"
             ],
             [
              0.7777777777777778,
              "#fb9f3a"
             ],
             [
              0.8888888888888888,
              "#fdca26"
             ],
             [
              1,
              "#f0f921"
             ]
            ],
            "type": "heatmapgl"
           }
          ],
          "histogram": [
           {
            "marker": {
             "pattern": {
              "fillmode": "overlay",
              "size": 10,
              "solidity": 0.2
             }
            },
            "type": "histogram"
           }
          ],
          "histogram2d": [
           {
            "colorbar": {
             "outlinewidth": 0,
             "ticks": ""
            },
            "colorscale": [
             [
              0,
              "#0d0887"
             ],
             [
              0.1111111111111111,
              "#46039f"
             ],
             [
              0.2222222222222222,
              "#7201a8"
             ],
             [
              0.3333333333333333,
              "#9c179e"
             ],
             [
              0.4444444444444444,
              "#bd3786"
             ],
             [
              0.5555555555555556,
              "#d8576b"
             ],
             [
              0.6666666666666666,
              "#ed7953"
             ],
             [
              0.7777777777777778,
              "#fb9f3a"
             ],
             [
              0.8888888888888888,
              "#fdca26"
             ],
             [
              1,
              "#f0f921"
             ]
            ],
            "type": "histogram2d"
           }
          ],
          "histogram2dcontour": [
           {
            "colorbar": {
             "outlinewidth": 0,
             "ticks": ""
            },
            "colorscale": [
             [
              0,
              "#0d0887"
             ],
             [
              0.1111111111111111,
              "#46039f"
             ],
             [
              0.2222222222222222,
              "#7201a8"
             ],
             [
              0.3333333333333333,
              "#9c179e"
             ],
             [
              0.4444444444444444,
              "#bd3786"
             ],
             [
              0.5555555555555556,
              "#d8576b"
             ],
             [
              0.6666666666666666,
              "#ed7953"
             ],
             [
              0.7777777777777778,
              "#fb9f3a"
             ],
             [
              0.8888888888888888,
              "#fdca26"
             ],
             [
              1,
              "#f0f921"
             ]
            ],
            "type": "histogram2dcontour"
           }
          ],
          "mesh3d": [
           {
            "colorbar": {
             "outlinewidth": 0,
             "ticks": ""
            },
            "type": "mesh3d"
           }
          ],
          "parcoords": [
           {
            "line": {
             "colorbar": {
              "outlinewidth": 0,
              "ticks": ""
             }
            },
            "type": "parcoords"
           }
          ],
          "pie": [
           {
            "automargin": true,
            "type": "pie"
           }
          ],
          "scatter": [
           {
            "fillpattern": {
             "fillmode": "overlay",
             "size": 10,
             "solidity": 0.2
            },
            "type": "scatter"
           }
          ],
          "scatter3d": [
           {
            "line": {
             "colorbar": {
              "outlinewidth": 0,
              "ticks": ""
             }
            },
            "marker": {
             "colorbar": {
              "outlinewidth": 0,
              "ticks": ""
             }
            },
            "type": "scatter3d"
           }
          ],
          "scattercarpet": [
           {
            "marker": {
             "colorbar": {
              "outlinewidth": 0,
              "ticks": ""
             }
            },
            "type": "scattercarpet"
           }
          ],
          "scattergeo": [
           {
            "marker": {
             "colorbar": {
              "outlinewidth": 0,
              "ticks": ""
             }
            },
            "type": "scattergeo"
           }
          ],
          "scattergl": [
           {
            "marker": {
             "colorbar": {
              "outlinewidth": 0,
              "ticks": ""
             }
            },
            "type": "scattergl"
           }
          ],
          "scattermapbox": [
           {
            "marker": {
             "colorbar": {
              "outlinewidth": 0,
              "ticks": ""
             }
            },
            "type": "scattermapbox"
           }
          ],
          "scatterpolar": [
           {
            "marker": {
             "colorbar": {
              "outlinewidth": 0,
              "ticks": ""
             }
            },
            "type": "scatterpolar"
           }
          ],
          "scatterpolargl": [
           {
            "marker": {
             "colorbar": {
              "outlinewidth": 0,
              "ticks": ""
             }
            },
            "type": "scatterpolargl"
           }
          ],
          "scatterternary": [
           {
            "marker": {
             "colorbar": {
              "outlinewidth": 0,
              "ticks": ""
             }
            },
            "type": "scatterternary"
           }
          ],
          "surface": [
           {
            "colorbar": {
             "outlinewidth": 0,
             "ticks": ""
            },
            "colorscale": [
             [
              0,
              "#0d0887"
             ],
             [
              0.1111111111111111,
              "#46039f"
             ],
             [
              0.2222222222222222,
              "#7201a8"
             ],
             [
              0.3333333333333333,
              "#9c179e"
             ],
             [
              0.4444444444444444,
              "#bd3786"
             ],
             [
              0.5555555555555556,
              "#d8576b"
             ],
             [
              0.6666666666666666,
              "#ed7953"
             ],
             [
              0.7777777777777778,
              "#fb9f3a"
             ],
             [
              0.8888888888888888,
              "#fdca26"
             ],
             [
              1,
              "#f0f921"
             ]
            ],
            "type": "surface"
           }
          ],
          "table": [
           {
            "cells": {
             "fill": {
              "color": "#EBF0F8"
             },
             "line": {
              "color": "white"
             }
            },
            "header": {
             "fill": {
              "color": "#C8D4E3"
             },
             "line": {
              "color": "white"
             }
            },
            "type": "table"
           }
          ]
         },
         "layout": {
          "annotationdefaults": {
           "arrowcolor": "#2a3f5f",
           "arrowhead": 0,
           "arrowwidth": 1
          },
          "autotypenumbers": "strict",
          "coloraxis": {
           "colorbar": {
            "outlinewidth": 0,
            "ticks": ""
           }
          },
          "colorscale": {
           "diverging": [
            [
             0,
             "#8e0152"
            ],
            [
             0.1,
             "#c51b7d"
            ],
            [
             0.2,
             "#de77ae"
            ],
            [
             0.3,
             "#f1b6da"
            ],
            [
             0.4,
             "#fde0ef"
            ],
            [
             0.5,
             "#f7f7f7"
            ],
            [
             0.6,
             "#e6f5d0"
            ],
            [
             0.7,
             "#b8e186"
            ],
            [
             0.8,
             "#7fbc41"
            ],
            [
             0.9,
             "#4d9221"
            ],
            [
             1,
             "#276419"
            ]
           ],
           "sequential": [
            [
             0,
             "#0d0887"
            ],
            [
             0.1111111111111111,
             "#46039f"
            ],
            [
             0.2222222222222222,
             "#7201a8"
            ],
            [
             0.3333333333333333,
             "#9c179e"
            ],
            [
             0.4444444444444444,
             "#bd3786"
            ],
            [
             0.5555555555555556,
             "#d8576b"
            ],
            [
             0.6666666666666666,
             "#ed7953"
            ],
            [
             0.7777777777777778,
             "#fb9f3a"
            ],
            [
             0.8888888888888888,
             "#fdca26"
            ],
            [
             1,
             "#f0f921"
            ]
           ],
           "sequentialminus": [
            [
             0,
             "#0d0887"
            ],
            [
             0.1111111111111111,
             "#46039f"
            ],
            [
             0.2222222222222222,
             "#7201a8"
            ],
            [
             0.3333333333333333,
             "#9c179e"
            ],
            [
             0.4444444444444444,
             "#bd3786"
            ],
            [
             0.5555555555555556,
             "#d8576b"
            ],
            [
             0.6666666666666666,
             "#ed7953"
            ],
            [
             0.7777777777777778,
             "#fb9f3a"
            ],
            [
             0.8888888888888888,
             "#fdca26"
            ],
            [
             1,
             "#f0f921"
            ]
           ]
          },
          "colorway": [
           "#636efa",
           "#EF553B",
           "#00cc96",
           "#ab63fa",
           "#FFA15A",
           "#19d3f3",
           "#FF6692",
           "#B6E880",
           "#FF97FF",
           "#FECB52"
          ],
          "font": {
           "color": "#2a3f5f"
          },
          "geo": {
           "bgcolor": "white",
           "lakecolor": "white",
           "landcolor": "#E5ECF6",
           "showlakes": true,
           "showland": true,
           "subunitcolor": "white"
          },
          "hoverlabel": {
           "align": "left"
          },
          "hovermode": "closest",
          "mapbox": {
           "style": "light"
          },
          "paper_bgcolor": "white",
          "plot_bgcolor": "#E5ECF6",
          "polar": {
           "angularaxis": {
            "gridcolor": "white",
            "linecolor": "white",
            "ticks": ""
           },
           "bgcolor": "#E5ECF6",
           "radialaxis": {
            "gridcolor": "white",
            "linecolor": "white",
            "ticks": ""
           }
          },
          "scene": {
           "xaxis": {
            "backgroundcolor": "#E5ECF6",
            "gridcolor": "white",
            "gridwidth": 2,
            "linecolor": "white",
            "showbackground": true,
            "ticks": "",
            "zerolinecolor": "white"
           },
           "yaxis": {
            "backgroundcolor": "#E5ECF6",
            "gridcolor": "white",
            "gridwidth": 2,
            "linecolor": "white",
            "showbackground": true,
            "ticks": "",
            "zerolinecolor": "white"
           },
           "zaxis": {
            "backgroundcolor": "#E5ECF6",
            "gridcolor": "white",
            "gridwidth": 2,
            "linecolor": "white",
            "showbackground": true,
            "ticks": "",
            "zerolinecolor": "white"
           }
          },
          "shapedefaults": {
           "line": {
            "color": "#2a3f5f"
           }
          },
          "ternary": {
           "aaxis": {
            "gridcolor": "white",
            "linecolor": "white",
            "ticks": ""
           },
           "baxis": {
            "gridcolor": "white",
            "linecolor": "white",
            "ticks": ""
           },
           "bgcolor": "#E5ECF6",
           "caxis": {
            "gridcolor": "white",
            "linecolor": "white",
            "ticks": ""
           }
          },
          "title": {
           "x": 0.05
          },
          "xaxis": {
           "automargin": true,
           "gridcolor": "white",
           "linecolor": "white",
           "ticks": "",
           "title": {
            "standoff": 15
           },
           "zerolinecolor": "white",
           "zerolinewidth": 2
          },
          "yaxis": {
           "automargin": true,
           "gridcolor": "white",
           "linecolor": "white",
           "ticks": "",
           "title": {
            "standoff": 15
           },
           "zerolinecolor": "white",
           "zerolinewidth": 2
          }
         }
        },
        "title": {
         "text": "Интерполяционные кривые для средней оценки и потребления алкоголя (Ньютон)"
        },
        "xaxis": {
         "title": {
          "text": "Средняя оценка (G1, G2, G3)"
         }
        },
        "yaxis": {
         "title": {
          "text": "Суммарное потребление алкоголя"
         }
        }
       }
      }
     },
     "metadata": {},
     "output_type": "display_data"
    }
   ],
   "source": [
    "# Создаем интерполяционную функцию Ньютона\n",
    "def newton_interpolation(x, x_data, y_data):\n",
    "    n = len(x_data)\n",
    "    p = y_data[0]\n",
    "    f = 1.0\n",
    "\n",
    "    for i in range(1, n):\n",
    "        f *= (x - x_data[i - 1])\n",
    "        p += f * divided_diff[0][i]\n",
    "\n",
    "    return p\n",
    "\n",
    "# Функция для вычисления разделенных разностей\n",
    "def divided_differences(x, y):\n",
    "    n = len(x)\n",
    "    f = np.zeros((n, n))\n",
    "    f[:, 0] = y\n",
    "\n",
    "    for j in range(1, n):\n",
    "        for i in range(n - j):\n",
    "            f[i][j] = (f[i + 1][j - 1] - f[i][j - 1]) / (x[i + j] - x[i])\n",
    "\n",
    "    # a = newton_interpolation(x, y)\n",
    "    # n = len(x) - 1  # Degree of polynomial\n",
    "    # p = a[n]\n",
    "\n",
    "    # for k in range(1, n + 1):\n",
    "    #     p = a[n - k] + (x - x_data[n - k])*p\n",
    "\n",
    "    return f\n",
    "\n",
    "# Выбираем данные для интерполяции\n",
    "x = df_grouped['average_grade'][29:40].to_numpy()\n",
    "y = df_grouped['total_alcohol_consumption'][29:40].to_numpy()\n",
    "\n",
    "# Создаем точки для интерполяции\n",
    "x_interp = np.linspace(min(x), max(x), 20)\n",
    "\n",
    "# Вычисляем разделенные разности\n",
    "divided_diff = divided_differences(x, y)\n",
    "\n",
    "# Вычисляем значения интерполяционной функции в точках\n",
    "y_interp_newton = [newton_interpolation(x_i, x, y) for x_i in x_interp]\n",
    "\n",
    "# Создаем графики Plotly\n",
    "trace_original = go.Scatter(\n",
    "    x=x,\n",
    "    y=y,\n",
    "    mode='markers',\n",
    "    name='Исходные данные',\n",
    "    marker=dict(color='blue', symbol='circle'),\n",
    ")\n",
    "\n",
    "trace_interpolated_newton = go.Scatter(\n",
    "    x=x_interp,\n",
    "    y=y_interp_newton,\n",
    "    mode='lines',\n",
    "    name='Интерполяция Ньютона',\n",
    "    line=dict(color='red', shape='spline', width=2),\n",
    ")\n",
    "\n",
    "layout = go.Layout(\n",
    "    title='Интерполяционные кривые для средней оценки и потребления алкоголя (Ньютон)',\n",
    "    xaxis=dict(title='Средняя оценка (G1, G2, G3)'),\n",
    "    yaxis=dict(title='Суммарное потребление алкоголя'),\n",
    "    legend=dict(x=0, y=1),\n",
    ")\n",
    "\n",
    "fig = go.Figure(data=[trace_original, trace_interpolated_newton], layout=layout)\n",
    "fig.show()\n"
   ]
  },
  {
   "cell_type": "code",
   "execution_count": 30,
   "metadata": {},
   "outputs": [
    {
     "data": {
      "application/vnd.plotly.v1+json": {
       "config": {
        "plotlyServerURL": "https://plot.ly"
       },
       "data": [
        {
         "marker": {
          "color": "blue",
          "symbol": "circle"
         },
         "mode": "markers",
         "name": "Исходные данные",
         "type": "scatter",
         "x": [
          11,
          11.333333333333334,
          11.666666666666666,
          12,
          12.333333333333334,
          12.666666666666666,
          13,
          13.333333333333334,
          13.666666666666666,
          14,
          14.333333333333334
         ],
         "y": [
          4.076923076923077,
          4.153846153846154,
          3,
          4.444444444444445,
          3.875,
          4.846153846153846,
          3.6363636363636362,
          3.8,
          3.1666666666666665,
          2.5714285714285716,
          3.7777777777777777
         ]
        },
        {
         "line": {
          "color": "purple",
          "shape": "spline",
          "width": 2
         },
         "mode": "lines",
         "name": "Интерполяция сплайном",
         "type": "scatter",
         "x": [
          11,
          11.033670033670033,
          11.067340067340067,
          11.1010101010101,
          11.134680134680135,
          11.168350168350168,
          11.202020202020202,
          11.235690235690235,
          11.26936026936027,
          11.303030303030303,
          11.336700336700337,
          11.37037037037037,
          11.404040404040405,
          11.437710437710438,
          11.47138047138047,
          11.505050505050505,
          11.538720538720538,
          11.572390572390573,
          11.606060606060606,
          11.63973063973064,
          11.673400673400673,
          11.707070707070708,
          11.74074074074074,
          11.774410774410775,
          11.808080808080808,
          11.841750841750843,
          11.875420875420875,
          11.90909090909091,
          11.942760942760943,
          11.976430976430976,
          12.01010101010101,
          12.043771043771043,
          12.077441077441078,
          12.11111111111111,
          12.144781144781145,
          12.178451178451178,
          12.212121212121213,
          12.245791245791246,
          12.27946127946128,
          12.313131313131313,
          12.346801346801348,
          12.38047138047138,
          12.414141414141415,
          12.447811447811448,
          12.481481481481481,
          12.515151515151516,
          12.548821548821548,
          12.582491582491583,
          12.616161616161616,
          12.64983164983165,
          12.683501683501683,
          12.717171717171718,
          12.75084175084175,
          12.784511784511785,
          12.818181818181818,
          12.851851851851853,
          12.885521885521886,
          12.91919191919192,
          12.952861952861953,
          12.986531986531986,
          13.02020202020202,
          13.053872053872054,
          13.087542087542088,
          13.121212121212121,
          13.154882154882156,
          13.188552188552189,
          13.222222222222223,
          13.255892255892256,
          13.28956228956229,
          13.323232323232324,
          13.356902356902356,
          13.390572390572391,
          13.424242424242426,
          13.457912457912458,
          13.491582491582491,
          13.525252525252526,
          13.558922558922559,
          13.592592592592593,
          13.626262626262626,
          13.659932659932661,
          13.693602693602694,
          13.727272727272728,
          13.760942760942761,
          13.794612794612796,
          13.828282828282829,
          13.861952861952862,
          13.895622895622896,
          13.92929292929293,
          13.962962962962964,
          13.996632996632997,
          14.030303030303031,
          14.063973063973064,
          14.097643097643099,
          14.131313131313131,
          14.164983164983166,
          14.198653198653199,
          14.232323232323232,
          14.265993265993266,
          14.299663299663301,
          14.333333333333334
         ],
         "y": [
          4.076923076923077,
          4.337836969332215,
          4.523237119180459,
          4.640197251663941,
          4.695791091978823,
          4.697092365321249,
          4.651174796887373,
          4.565112111873348,
          4.445978035475317,
          4.300846292889442,
          4.136790609311859,
          3.9608847099387363,
          3.780202319966206,
          3.601817164590437,
          3.4328029690075708,
          3.280233458413749,
          3.15118235800514,
          3.052723392977879,
          2.9919302885281285,
          2.9758767698520314,
          3.011611542487637,
          3.100879144454578,
          3.233589815488476,
          3.398052537206207,
          3.5825762912246164,
          3.775470059160585,
          3.965042822630956,
          4.139603563252612,
          4.287461262642397,
          4.396924902417185,
          4.456406339650999,
          4.462276943640261,
          4.424400009377691,
          4.353945731182137,
          4.26208430337244,
          4.159985920267457,
          4.058820776186022,
          3.9697590654469948,
          3.903970982369211,
          3.8726267212715264,
          3.886659887568522,
          3.9478066930216853,
          4.0458556097273854,
          4.169796622230101,
          4.308619715074324,
          4.451314872804552,
          4.586872079965257,
          4.70428132110094,
          4.792532580756079,
          4.8406158434751685,
          4.837955825615509,
          4.783976075229179,
          4.6880989720630355,
          4.560181627676739,
          4.410081153629969,
          4.247654661482381,
          4.08275926279366,
          3.9252520691234576,
          3.7849901920314597,
          3.671830743077325,
          3.5950441591146682,
          3.5551224850991865,
          3.545800142520584,
          3.560637723326036,
          3.5931958194627183,
          3.637035022877803,
          3.6857159255184686,
          3.7327991193318844,
          3.771845196265231,
          3.7964147482656774,
          3.8005782330143765,
          3.783669765813466,
          3.7481287375285572,
          3.696434674228816,
          3.6310671019834007,
          3.554505546861468,
          3.4692295349321878,
          3.3777185922647113,
          3.2824522449282103,
          3.1859100189918346,
          3.090503646272435,
          2.9981438166907757,
          2.910516651706826,
          2.829307213495345,
          2.7562005642311065,
          2.6928817660888735,
          2.641035881243411,
          2.60234797186949,
          2.5785031001418774,
          2.5711863282353375,
          2.58208271832464,
          2.61287733258455,
          2.6652552331898374,
          2.7409014823152638,
          2.8415011421356042,
          2.968739274825615,
          3.1243009425600685,
          3.309871207513741,
          3.527135131861393,
          3.7777777777777777
         ]
        }
       ],
       "layout": {
        "legend": {
         "x": 0,
         "y": 1
        },
        "template": {
         "data": {
          "bar": [
           {
            "error_x": {
             "color": "#2a3f5f"
            },
            "error_y": {
             "color": "#2a3f5f"
            },
            "marker": {
             "line": {
              "color": "#E5ECF6",
              "width": 0.5
             },
             "pattern": {
              "fillmode": "overlay",
              "size": 10,
              "solidity": 0.2
             }
            },
            "type": "bar"
           }
          ],
          "barpolar": [
           {
            "marker": {
             "line": {
              "color": "#E5ECF6",
              "width": 0.5
             },
             "pattern": {
              "fillmode": "overlay",
              "size": 10,
              "solidity": 0.2
             }
            },
            "type": "barpolar"
           }
          ],
          "carpet": [
           {
            "aaxis": {
             "endlinecolor": "#2a3f5f",
             "gridcolor": "white",
             "linecolor": "white",
             "minorgridcolor": "white",
             "startlinecolor": "#2a3f5f"
            },
            "baxis": {
             "endlinecolor": "#2a3f5f",
             "gridcolor": "white",
             "linecolor": "white",
             "minorgridcolor": "white",
             "startlinecolor": "#2a3f5f"
            },
            "type": "carpet"
           }
          ],
          "choropleth": [
           {
            "colorbar": {
             "outlinewidth": 0,
             "ticks": ""
            },
            "type": "choropleth"
           }
          ],
          "contour": [
           {
            "colorbar": {
             "outlinewidth": 0,
             "ticks": ""
            },
            "colorscale": [
             [
              0,
              "#0d0887"
             ],
             [
              0.1111111111111111,
              "#46039f"
             ],
             [
              0.2222222222222222,
              "#7201a8"
             ],
             [
              0.3333333333333333,
              "#9c179e"
             ],
             [
              0.4444444444444444,
              "#bd3786"
             ],
             [
              0.5555555555555556,
              "#d8576b"
             ],
             [
              0.6666666666666666,
              "#ed7953"
             ],
             [
              0.7777777777777778,
              "#fb9f3a"
             ],
             [
              0.8888888888888888,
              "#fdca26"
             ],
             [
              1,
              "#f0f921"
             ]
            ],
            "type": "contour"
           }
          ],
          "contourcarpet": [
           {
            "colorbar": {
             "outlinewidth": 0,
             "ticks": ""
            },
            "type": "contourcarpet"
           }
          ],
          "heatmap": [
           {
            "colorbar": {
             "outlinewidth": 0,
             "ticks": ""
            },
            "colorscale": [
             [
              0,
              "#0d0887"
             ],
             [
              0.1111111111111111,
              "#46039f"
             ],
             [
              0.2222222222222222,
              "#7201a8"
             ],
             [
              0.3333333333333333,
              "#9c179e"
             ],
             [
              0.4444444444444444,
              "#bd3786"
             ],
             [
              0.5555555555555556,
              "#d8576b"
             ],
             [
              0.6666666666666666,
              "#ed7953"
             ],
             [
              0.7777777777777778,
              "#fb9f3a"
             ],
             [
              0.8888888888888888,
              "#fdca26"
             ],
             [
              1,
              "#f0f921"
             ]
            ],
            "type": "heatmap"
           }
          ],
          "heatmapgl": [
           {
            "colorbar": {
             "outlinewidth": 0,
             "ticks": ""
            },
            "colorscale": [
             [
              0,
              "#0d0887"
             ],
             [
              0.1111111111111111,
              "#46039f"
             ],
             [
              0.2222222222222222,
              "#7201a8"
             ],
             [
              0.3333333333333333,
              "#9c179e"
             ],
             [
              0.4444444444444444,
              "#bd3786"
             ],
             [
              0.5555555555555556,
              "#d8576b"
             ],
             [
              0.6666666666666666,
              "#ed7953"
             ],
             [
              0.7777777777777778,
              "#fb9f3a"
             ],
             [
              0.8888888888888888,
              "#fdca26"
             ],
             [
              1,
              "#f0f921"
             ]
            ],
            "type": "heatmapgl"
           }
          ],
          "histogram": [
           {
            "marker": {
             "pattern": {
              "fillmode": "overlay",
              "size": 10,
              "solidity": 0.2
             }
            },
            "type": "histogram"
           }
          ],
          "histogram2d": [
           {
            "colorbar": {
             "outlinewidth": 0,
             "ticks": ""
            },
            "colorscale": [
             [
              0,
              "#0d0887"
             ],
             [
              0.1111111111111111,
              "#46039f"
             ],
             [
              0.2222222222222222,
              "#7201a8"
             ],
             [
              0.3333333333333333,
              "#9c179e"
             ],
             [
              0.4444444444444444,
              "#bd3786"
             ],
             [
              0.5555555555555556,
              "#d8576b"
             ],
             [
              0.6666666666666666,
              "#ed7953"
             ],
             [
              0.7777777777777778,
              "#fb9f3a"
             ],
             [
              0.8888888888888888,
              "#fdca26"
             ],
             [
              1,
              "#f0f921"
             ]
            ],
            "type": "histogram2d"
           }
          ],
          "histogram2dcontour": [
           {
            "colorbar": {
             "outlinewidth": 0,
             "ticks": ""
            },
            "colorscale": [
             [
              0,
              "#0d0887"
             ],
             [
              0.1111111111111111,
              "#46039f"
             ],
             [
              0.2222222222222222,
              "#7201a8"
             ],
             [
              0.3333333333333333,
              "#9c179e"
             ],
             [
              0.4444444444444444,
              "#bd3786"
             ],
             [
              0.5555555555555556,
              "#d8576b"
             ],
             [
              0.6666666666666666,
              "#ed7953"
             ],
             [
              0.7777777777777778,
              "#fb9f3a"
             ],
             [
              0.8888888888888888,
              "#fdca26"
             ],
             [
              1,
              "#f0f921"
             ]
            ],
            "type": "histogram2dcontour"
           }
          ],
          "mesh3d": [
           {
            "colorbar": {
             "outlinewidth": 0,
             "ticks": ""
            },
            "type": "mesh3d"
           }
          ],
          "parcoords": [
           {
            "line": {
             "colorbar": {
              "outlinewidth": 0,
              "ticks": ""
             }
            },
            "type": "parcoords"
           }
          ],
          "pie": [
           {
            "automargin": true,
            "type": "pie"
           }
          ],
          "scatter": [
           {
            "fillpattern": {
             "fillmode": "overlay",
             "size": 10,
             "solidity": 0.2
            },
            "type": "scatter"
           }
          ],
          "scatter3d": [
           {
            "line": {
             "colorbar": {
              "outlinewidth": 0,
              "ticks": ""
             }
            },
            "marker": {
             "colorbar": {
              "outlinewidth": 0,
              "ticks": ""
             }
            },
            "type": "scatter3d"
           }
          ],
          "scattercarpet": [
           {
            "marker": {
             "colorbar": {
              "outlinewidth": 0,
              "ticks": ""
             }
            },
            "type": "scattercarpet"
           }
          ],
          "scattergeo": [
           {
            "marker": {
             "colorbar": {
              "outlinewidth": 0,
              "ticks": ""
             }
            },
            "type": "scattergeo"
           }
          ],
          "scattergl": [
           {
            "marker": {
             "colorbar": {
              "outlinewidth": 0,
              "ticks": ""
             }
            },
            "type": "scattergl"
           }
          ],
          "scattermapbox": [
           {
            "marker": {
             "colorbar": {
              "outlinewidth": 0,
              "ticks": ""
             }
            },
            "type": "scattermapbox"
           }
          ],
          "scatterpolar": [
           {
            "marker": {
             "colorbar": {
              "outlinewidth": 0,
              "ticks": ""
             }
            },
            "type": "scatterpolar"
           }
          ],
          "scatterpolargl": [
           {
            "marker": {
             "colorbar": {
              "outlinewidth": 0,
              "ticks": ""
             }
            },
            "type": "scatterpolargl"
           }
          ],
          "scatterternary": [
           {
            "marker": {
             "colorbar": {
              "outlinewidth": 0,
              "ticks": ""
             }
            },
            "type": "scatterternary"
           }
          ],
          "surface": [
           {
            "colorbar": {
             "outlinewidth": 0,
             "ticks": ""
            },
            "colorscale": [
             [
              0,
              "#0d0887"
             ],
             [
              0.1111111111111111,
              "#46039f"
             ],
             [
              0.2222222222222222,
              "#7201a8"
             ],
             [
              0.3333333333333333,
              "#9c179e"
             ],
             [
              0.4444444444444444,
              "#bd3786"
             ],
             [
              0.5555555555555556,
              "#d8576b"
             ],
             [
              0.6666666666666666,
              "#ed7953"
             ],
             [
              0.7777777777777778,
              "#fb9f3a"
             ],
             [
              0.8888888888888888,
              "#fdca26"
             ],
             [
              1,
              "#f0f921"
             ]
            ],
            "type": "surface"
           }
          ],
          "table": [
           {
            "cells": {
             "fill": {
              "color": "#EBF0F8"
             },
             "line": {
              "color": "white"
             }
            },
            "header": {
             "fill": {
              "color": "#C8D4E3"
             },
             "line": {
              "color": "white"
             }
            },
            "type": "table"
           }
          ]
         },
         "layout": {
          "annotationdefaults": {
           "arrowcolor": "#2a3f5f",
           "arrowhead": 0,
           "arrowwidth": 1
          },
          "autotypenumbers": "strict",
          "coloraxis": {
           "colorbar": {
            "outlinewidth": 0,
            "ticks": ""
           }
          },
          "colorscale": {
           "diverging": [
            [
             0,
             "#8e0152"
            ],
            [
             0.1,
             "#c51b7d"
            ],
            [
             0.2,
             "#de77ae"
            ],
            [
             0.3,
             "#f1b6da"
            ],
            [
             0.4,
             "#fde0ef"
            ],
            [
             0.5,
             "#f7f7f7"
            ],
            [
             0.6,
             "#e6f5d0"
            ],
            [
             0.7,
             "#b8e186"
            ],
            [
             0.8,
             "#7fbc41"
            ],
            [
             0.9,
             "#4d9221"
            ],
            [
             1,
             "#276419"
            ]
           ],
           "sequential": [
            [
             0,
             "#0d0887"
            ],
            [
             0.1111111111111111,
             "#46039f"
            ],
            [
             0.2222222222222222,
             "#7201a8"
            ],
            [
             0.3333333333333333,
             "#9c179e"
            ],
            [
             0.4444444444444444,
             "#bd3786"
            ],
            [
             0.5555555555555556,
             "#d8576b"
            ],
            [
             0.6666666666666666,
             "#ed7953"
            ],
            [
             0.7777777777777778,
             "#fb9f3a"
            ],
            [
             0.8888888888888888,
             "#fdca26"
            ],
            [
             1,
             "#f0f921"
            ]
           ],
           "sequentialminus": [
            [
             0,
             "#0d0887"
            ],
            [
             0.1111111111111111,
             "#46039f"
            ],
            [
             0.2222222222222222,
             "#7201a8"
            ],
            [
             0.3333333333333333,
             "#9c179e"
            ],
            [
             0.4444444444444444,
             "#bd3786"
            ],
            [
             0.5555555555555556,
             "#d8576b"
            ],
            [
             0.6666666666666666,
             "#ed7953"
            ],
            [
             0.7777777777777778,
             "#fb9f3a"
            ],
            [
             0.8888888888888888,
             "#fdca26"
            ],
            [
             1,
             "#f0f921"
            ]
           ]
          },
          "colorway": [
           "#636efa",
           "#EF553B",
           "#00cc96",
           "#ab63fa",
           "#FFA15A",
           "#19d3f3",
           "#FF6692",
           "#B6E880",
           "#FF97FF",
           "#FECB52"
          ],
          "font": {
           "color": "#2a3f5f"
          },
          "geo": {
           "bgcolor": "white",
           "lakecolor": "white",
           "landcolor": "#E5ECF6",
           "showlakes": true,
           "showland": true,
           "subunitcolor": "white"
          },
          "hoverlabel": {
           "align": "left"
          },
          "hovermode": "closest",
          "mapbox": {
           "style": "light"
          },
          "paper_bgcolor": "white",
          "plot_bgcolor": "#E5ECF6",
          "polar": {
           "angularaxis": {
            "gridcolor": "white",
            "linecolor": "white",
            "ticks": ""
           },
           "bgcolor": "#E5ECF6",
           "radialaxis": {
            "gridcolor": "white",
            "linecolor": "white",
            "ticks": ""
           }
          },
          "scene": {
           "xaxis": {
            "backgroundcolor": "#E5ECF6",
            "gridcolor": "white",
            "gridwidth": 2,
            "linecolor": "white",
            "showbackground": true,
            "ticks": "",
            "zerolinecolor": "white"
           },
           "yaxis": {
            "backgroundcolor": "#E5ECF6",
            "gridcolor": "white",
            "gridwidth": 2,
            "linecolor": "white",
            "showbackground": true,
            "ticks": "",
            "zerolinecolor": "white"
           },
           "zaxis": {
            "backgroundcolor": "#E5ECF6",
            "gridcolor": "white",
            "gridwidth": 2,
            "linecolor": "white",
            "showbackground": true,
            "ticks": "",
            "zerolinecolor": "white"
           }
          },
          "shapedefaults": {
           "line": {
            "color": "#2a3f5f"
           }
          },
          "ternary": {
           "aaxis": {
            "gridcolor": "white",
            "linecolor": "white",
            "ticks": ""
           },
           "baxis": {
            "gridcolor": "white",
            "linecolor": "white",
            "ticks": ""
           },
           "bgcolor": "#E5ECF6",
           "caxis": {
            "gridcolor": "white",
            "linecolor": "white",
            "ticks": ""
           }
          },
          "title": {
           "x": 0.05
          },
          "xaxis": {
           "automargin": true,
           "gridcolor": "white",
           "linecolor": "white",
           "ticks": "",
           "title": {
            "standoff": 15
           },
           "zerolinecolor": "white",
           "zerolinewidth": 2
          },
          "yaxis": {
           "automargin": true,
           "gridcolor": "white",
           "linecolor": "white",
           "ticks": "",
           "title": {
            "standoff": 15
           },
           "zerolinecolor": "white",
           "zerolinewidth": 2
          }
         }
        },
        "title": {
         "text": "Интерполяционные кривые для средней оценки и потребления алкоголя (сплайн)"
        },
        "xaxis": {
         "title": {
          "text": "Средняя оценка (G1, G2, G3)"
         }
        },
        "yaxis": {
         "title": {
          "text": "Суммарное потребление алкоголя"
         }
        }
       }
      }
     },
     "metadata": {},
     "output_type": "display_data"
    }
   ],
   "source": [
    "# Выбираем данные для интерполяции\n",
    "x = df_grouped['average_grade'][29:40].to_numpy()\n",
    "y = df_grouped['total_alcohol_consumption'][29:40].to_numpy()\n",
    "\n",
    "# Создаем точки для интерполяции\n",
    "x_interp = np.linspace(min(x), max(x), 100)\n",
    "\n",
    "# Интерполяция кубическим сплайном\n",
    "spline = CubicSpline(x, y)\n",
    "y_interp_spline = spline(x_interp)\n",
    "\n",
    "# Создаем графики Plotly\n",
    "trace_original = go.Scatter(\n",
    "    x=x,\n",
    "    y=y,\n",
    "    mode='markers',\n",
    "    name='Исходные данные',\n",
    "    marker=dict(color='blue', symbol='circle'),\n",
    ")\n",
    "\n",
    "trace_interpolated_spline = go.Scatter(\n",
    "    x=x_interp,\n",
    "    y=y_interp_spline,\n",
    "    mode='lines',\n",
    "    name='Интерполяция сплайном',\n",
    "    line=dict(color='purple', shape='spline', width=2),\n",
    ")\n",
    "\n",
    "layout = go.Layout(\n",
    "    title='Интерполяционные кривые для средней оценки и потребления алкоголя (сплайн)',\n",
    "    xaxis=dict(title='Средняя оценка (G1, G2, G3)'),\n",
    "    yaxis=dict(title='Суммарное потребление алкоголя'),\n",
    "    legend=dict(x=0, y=1),\n",
    ")\n",
    "\n",
    "fig = go.Figure(data=[trace_original, trace_interpolated_spline], layout=layout)\n",
    "fig.show()"
   ]
  },
  {
   "cell_type": "markdown",
   "metadata": {},
   "source": [
    "Прочее\n",
    "---"
   ]
  },
  {
   "cell_type": "code",
   "execution_count": 32,
   "metadata": {},
   "outputs": [
    {
     "data": {
      "image/png": "[encoded data removed]",
      "text/plain": [
       "<Figure size 1000x600 with 1 Axes>"
      ]
     },
     "metadata": {},
     "output_type": "display_data"
    }
   ],
   "source": [
    "# Выбираем данные для интерполяции\n",
    "x = df_grouped['average_grade'][29:40].to_numpy()\n",
    "y = df_grouped['total_alcohol_consumption'][29:40].to_numpy()\n",
    "\n",
    "# Интерполяция Лагранжа\n",
    "lagrange_poly = lagrange(x, y)\n",
    "lagrange_coeff = lagrange_poly.coef[::-1]  # Инвертируем коэффициенты, чтобы они соответствовали степеням возрастания\n",
    "lagrange_polynomial = Polynomial(lagrange_coeff)\n",
    "\n",
    "# Интерполяция Ньютона\n",
    "newton_coeff = np.polynomial.polynomial.polyfit(x, y, deg=len(x)-1)\n",
    "newton_polynomial = Polynomial(newton_coeff)\n",
    "\n",
    "# Создаем точки для интерполяции\n",
    "x_interp = np.linspace(min(x), max(x), 100)\n",
    "\n",
    "# Вычисляем значения интерполяционных полиномов\n",
    "y_interp_lagrange = lagrange_polynomial(x_interp)\n",
    "y_interp_newton = newton_polynomial(x_interp)\n",
    "\n",
    "# Построение графиков\n",
    "plt.figure(figsize=(10, 6))\n",
    "plt.scatter(x, y, label='Исходные данные', color='b', marker='o')\n",
    "plt.plot(x_interp, y_interp_lagrange, label='Интерполяция Лагранжа', color='g')\n",
    "plt.plot(x_interp, y_interp_newton, label='Интерполяция Ньютона', color='r')\n",
    "plt.xlabel('Средняя оценка (G1, G2, G3)')\n",
    "plt.ylabel('Суммарное потребление алкоголя')\n",
    "plt.legend()\n",
    "plt.title('Интерполяционные кривые')\n",
    "plt.grid(True)\n",
    "plt.show()"
   ]
  },
  {
   "cell_type": "code",
   "execution_count": 22,
   "metadata": {},
   "outputs": [
    {
     "data": {
      "application/vnd.plotly.v1+json": {
       "config": {
        "plotlyServerURL": "https://plot.ly"
       },
       "data": [
        {
         "mode": "markers",
         "name": "Исходные данные",
         "type": "scatter",
         "x": [
          -0.9999999999999997,
          -0.8666666666666661,
          -0.733333333333333,
          -0.5999999999999998,
          -0.4666666666666663,
          -0.3333333333333331,
          -0.19999999999999993,
          -0.0666666666666664,
          0.06666666666666676,
          0.19999999999999993,
          0.3333333333333334,
          0.4666666666666666,
          0.6000000000000001,
          0.733333333333333,
          0.8666666666666665,
          1
         ],
         "y": [
          -0.3019514952309792,
          1,
          -0.21515472888224724,
          -0.04156119618478337,
          -0.24987343542174,
          -0.17175634570788129,
          -0.06760022608940298,
          0.11467298324293404,
          -0.04156119618478337,
          0.17543071968704643,
          0.12118274071908904,
          -0.17175634570788129,
          -0.04156119618478337,
          -0.12835796253351536,
          0.049009342613893385,
          -0.029161658134964567
         ]
        },
        {
         "mode": "lines",
         "name": "Интерполяция Лагранжа",
         "type": "scatter",
         "x": [
          -0.9999999999999997,
          -0.9949999999999997,
          -0.9899999999999997,
          -0.9849999999999997,
          -0.9799999999999996,
          -0.9749999999999996,
          -0.9699999999999996,
          -0.9649999999999996,
          -0.9599999999999996,
          -0.9549999999999996,
          -0.9499999999999996,
          -0.9449999999999996,
          -0.9399999999999996,
          -0.9349999999999996,
          -0.9299999999999996,
          -0.9249999999999996,
          -0.9199999999999996,
          -0.9149999999999996,
          -0.9099999999999996,
          -0.9049999999999996,
          -0.8999999999999996,
          -0.8949999999999996,
          -0.8899999999999996,
          -0.8849999999999996,
          -0.8799999999999996,
          -0.8749999999999996,
          -0.8699999999999996,
          -0.8649999999999995,
          -0.8599999999999995,
          -0.8549999999999995,
          -0.8499999999999995,
          -0.8449999999999995,
          -0.8399999999999995,
          -0.8349999999999995,
          -0.8299999999999995,
          -0.8249999999999995,
          -0.8199999999999995,
          -0.8149999999999995,
          -0.8099999999999995,
          -0.8049999999999995,
          -0.7999999999999995,
          -0.7949999999999995,
          -0.7899999999999995,
          -0.7849999999999995,
          -0.7799999999999995,
          -0.7749999999999995,
          -0.7699999999999995,
          -0.7649999999999995,
          -0.7599999999999995,
          -0.7549999999999994,
          -0.7499999999999994,
          -0.7449999999999994,
          -0.7399999999999994,
          -0.7349999999999994,
          -0.7299999999999994,
          -0.7249999999999994,
          -0.7199999999999994,
          -0.7149999999999994,
          -0.7099999999999994,
          -0.7049999999999994,
          -0.6999999999999994,
          -0.6949999999999994,
          -0.6899999999999994,
          -0.6849999999999994,
          -0.6799999999999994,
          -0.6749999999999994,
          -0.6699999999999994,
          -0.6649999999999994,
          -0.6599999999999994,
          -0.6549999999999994,
          -0.6499999999999994,
          -0.6449999999999994,
          -0.6399999999999993,
          -0.6349999999999993,
          -0.6299999999999993,
          -0.6249999999999993,
          -0.6199999999999993,
          -0.6149999999999993,
          -0.6099999999999993,
          -0.6049999999999993,
          -0.5999999999999993,
          -0.5949999999999993,
          -0.5899999999999993,
          -0.5849999999999993,
          -0.5799999999999993,
          -0.5749999999999993,
          -0.5699999999999993,
          -0.5649999999999993,
          -0.5599999999999993,
          -0.5549999999999993,
          -0.5499999999999993,
          -0.5449999999999993,
          -0.5399999999999993,
          -0.5349999999999993,
          -0.5299999999999992,
          -0.5249999999999992,
          -0.5199999999999992,
          -0.5149999999999992,
          -0.5099999999999992,
          -0.5049999999999992,
          -0.4999999999999992,
          -0.4949999999999992,
          -0.4899999999999992,
          -0.4849999999999992,
          -0.4799999999999992,
          -0.4749999999999992,
          -0.4699999999999992,
          -0.4649999999999992,
          -0.4599999999999992,
          -0.4549999999999992,
          -0.4499999999999992,
          -0.4449999999999992,
          -0.43999999999999917,
          -0.43499999999999917,
          -0.42999999999999916,
          -0.42499999999999916,
          -0.41999999999999915,
          -0.41499999999999915,
          -0.40999999999999914,
          -0.40499999999999914,
          -0.39999999999999913,
          -0.39499999999999913,
          -0.3899999999999991,
          -0.3849999999999991,
          -0.3799999999999991,
          -0.3749999999999991,
          -0.3699999999999991,
          -0.3649999999999991,
          -0.3599999999999991,
          -0.3549999999999991,
          -0.3499999999999991,
          -0.3449999999999991,
          -0.3399999999999991,
          -0.3349999999999991,
          -0.32999999999999907,
          -0.32499999999999907,
          -0.31999999999999906,
          -0.31499999999999906,
          -0.30999999999999905,
          -0.30499999999999905,
          -0.29999999999999905,
          -0.29499999999999904,
          -0.28999999999999904,
          -0.28499999999999903,
          -0.279999999999999,
          -0.274999999999999,
          -0.269999999999999,
          -0.264999999999999,
          -0.259999999999999,
          -0.254999999999999,
          -0.249999999999999,
          -0.244999999999999,
          -0.239999999999999,
          -0.234999999999999,
          -0.22999999999999898,
          -0.22499999999999898,
          -0.21999999999999897,
          -0.21499999999999897,
          -0.20999999999999897,
          -0.20499999999999896,
          -0.19999999999999896,
          -0.19499999999999895,
          -0.18999999999999895,
          -0.18499999999999894,
          -0.17999999999999894,
          -0.17499999999999893,
          -0.16999999999999893,
          -0.16499999999999893,
          -0.15999999999999892,
          -0.15499999999999892,
          -0.1499999999999989,
          -0.1449999999999989,
          -0.1399999999999989,
          -0.1349999999999989,
          -0.1299999999999989,
          -0.12499999999999889,
          -0.11999999999999889,
          -0.11499999999999888,
          -0.10999999999999888,
          -0.10499999999999887,
          -0.09999999999999887,
          -0.09499999999999886,
          -0.08999999999999886,
          -0.08499999999999885,
          -0.07999999999999885,
          -0.07499999999999885,
          -0.06999999999999884,
          -0.06499999999999884,
          -0.05999999999999883,
          -0.05499999999999883,
          -0.04999999999999882,
          -0.04499999999999882,
          -0.039999999999998814,
          -0.03499999999999881,
          -0.029999999999998805,
          -0.0249999999999988,
          -0.019999999999998797,
          -0.014999999999998792,
          -0.009999999999998788,
          -0.004999999999998783,
          1.2212453270876722e-15,
          0.005000000000001115,
          0.01000000000000123,
          0.015000000000001346,
          0.02000000000000124,
          0.025000000000001132,
          0.030000000000001248,
          0.03500000000000136,
          0.04000000000000126,
          0.04500000000000115,
          0.050000000000001266,
          0.05500000000000138,
          0.060000000000001275,
          0.06500000000000117,
          0.07000000000000128,
          0.0750000000000014,
          0.08000000000000129,
          0.08500000000000119,
          0.0900000000000013,
          0.09500000000000142,
          0.10000000000000131,
          0.1050000000000012,
          0.11000000000000132,
          0.11500000000000143,
          0.12000000000000133,
          0.12500000000000122,
          0.13000000000000134,
          0.13500000000000145,
          0.14000000000000135,
          0.14500000000000124,
          0.15000000000000135,
          0.15500000000000147,
          0.16000000000000136,
          0.16500000000000126,
          0.17000000000000137,
          0.1750000000000015,
          0.18000000000000138,
          0.18500000000000127,
          0.1900000000000014,
          0.1950000000000015,
          0.2000000000000014,
          0.2050000000000013,
          0.2100000000000014,
          0.21500000000000152,
          0.22000000000000142,
          0.2250000000000013,
          0.23000000000000143,
          0.23500000000000154,
          0.24000000000000143,
          0.24500000000000133,
          0.25000000000000144,
          0.25500000000000156,
          0.26000000000000145,
          0.26500000000000135,
          0.27000000000000146,
          0.2750000000000016,
          0.28000000000000147,
          0.28500000000000136,
          0.2900000000000015,
          0.2950000000000016,
          0.3000000000000015,
          0.3050000000000014,
          0.3100000000000015,
          0.3150000000000016,
          0.3200000000000015,
          0.3250000000000014,
          0.3300000000000015,
          0.33500000000000163,
          0.3400000000000015,
          0.3450000000000014,
          0.35000000000000153,
          0.35500000000000165,
          0.36000000000000154,
          0.36500000000000143,
          0.37000000000000155,
          0.37500000000000167,
          0.38000000000000156,
          0.38500000000000145,
          0.39000000000000157,
          0.3950000000000017,
          0.4000000000000016,
          0.40500000000000147,
          0.4100000000000016,
          0.4150000000000017,
          0.4200000000000016,
          0.4250000000000015,
          0.4300000000000016,
          0.4350000000000017,
          0.4400000000000016,
          0.4450000000000015,
          0.4500000000000016,
          0.45500000000000174,
          0.46000000000000163,
          0.4650000000000015,
          0.47000000000000164,
          0.47500000000000175,
          0.48000000000000165,
          0.48500000000000154,
          0.49000000000000166,
          0.49500000000000177,
          0.5000000000000017,
          0.5050000000000016,
          0.5100000000000017,
          0.5150000000000018,
          0.5200000000000017,
          0.5250000000000016,
          0.5300000000000017,
          0.5350000000000018,
          0.5400000000000017,
          0.5450000000000016,
          0.5500000000000017,
          0.5550000000000018,
          0.5600000000000017,
          0.5650000000000016,
          0.5700000000000017,
          0.5750000000000018,
          0.5800000000000017,
          0.5850000000000016,
          0.5900000000000017,
          0.5950000000000019,
          0.6000000000000018,
          0.6050000000000016,
          0.6100000000000018,
          0.6150000000000019,
          0.6200000000000018,
          0.6250000000000017,
          0.6300000000000018,
          0.6350000000000019,
          0.6400000000000018,
          0.6450000000000017,
          0.6500000000000018,
          0.6550000000000019,
          0.6600000000000018,
          0.6650000000000017,
          0.6700000000000018,
          0.6750000000000019,
          0.6800000000000018,
          0.6850000000000017,
          0.6900000000000018,
          0.695000000000002,
          0.7000000000000018,
          0.7050000000000017,
          0.7100000000000019,
          0.715000000000002,
          0.7200000000000019,
          0.7250000000000018,
          0.7300000000000019,
          0.735000000000002,
          0.7400000000000019,
          0.7450000000000018,
          0.7500000000000019,
          0.755000000000002,
          0.7600000000000019,
          0.7650000000000018,
          0.7700000000000019,
          0.775000000000002,
          0.7800000000000019,
          0.7850000000000018,
          0.7900000000000019,
          0.795000000000002,
          0.8000000000000019,
          0.8050000000000018,
          0.8100000000000019,
          0.8150000000000021,
          0.820000000000002,
          0.8250000000000018,
          0.830000000000002,
          0.8350000000000021,
          0.840000000000002,
          0.8450000000000019,
          0.850000000000002,
          0.8550000000000021,
          0.860000000000002,
          0.8650000000000019,
          0.870000000000002,
          0.8750000000000021,
          0.880000000000002,
          0.8850000000000019,
          0.890000000000002,
          0.8950000000000021,
          0.900000000000002,
          0.9050000000000019,
          0.910000000000002,
          0.9150000000000021,
          0.920000000000002,
          0.9250000000000019,
          0.930000000000002,
          0.9350000000000022,
          0.9400000000000021,
          0.945000000000002,
          0.9500000000000021,
          0.9550000000000022,
          0.9600000000000021,
          0.965000000000002,
          0.9700000000000021,
          0.9750000000000022,
          0.9800000000000021,
          0.985000000000002,
          0.9900000000000021,
          0.9950000000000022,
          1.0000000000000022
         ],
         "y": [
          0.3019514952411555,
          9.644542481561075,
          19.832485862634712,
          30.889797714015003,
          42.84021892747114,
          55.707197122497746,
          69.51386880998143,
          84.2830418165031,
          100.03717797676109,
          116.79837610212053,
          134.58835523259768,
          153.4284381796224,
          173.33953536672198,
          194.34212897498765,
          216.45625740013202,
          239.7015000274514,
          264.0969623312976,
          289.6612613048328,
          316.4125112263009,
          344.3683097672747,
          373.5457244484478,
          403.9612794483601,
          435.630942769958,
          468.57011377006165,
          502.793611056195,
          538.3156607554811,
          575.1498851595952,
          613.3092917500289,
          652.8062626074061,
          693.6525442084112,
          735.8592376139095,
          779.4367890512622,
          824.3949808940342,
          870.7429230416801,
          918.4890447019534,
          967.6410865783037,
          1018.2060934644633,
          1070.1904072481648,
          1123.59966032577,
          1178.43876942928,
          1234.7119298671296,
          1292.4226101799086,
          1351.5735472118486,
          1412.1667415989086,
          1474.203453673941,
          1537.6841997892461,
          1602.6087490566697,
          1668.9761205052127,
          1736.7845806557743,
          1806.0316415127327,
          1876.7140589715527,
          1948.8278316417163,
          2022.3682000838053,
          2097.3296464597024,
          2173.7058945942736,
          2251.4899104471788,
          2330.6739029928485,
          2411.2493255067875,
          2493.2068772560524,
          2576.536505591561,
          2661.227408439783,
          2747.268037191172,
          2834.646099982474,
          2923.34856536995,
          3013.361666390354,
          3104.670905006362,
          3197.2610569329026,
          3291.116176840853,
          3386.2196039342307,
          3482.553967896947,
          3580.1011952050612,
          3678.84251580023,
          3778.758470119992,
          3879.8289164803864,
          3982.033038806132,
          4085.3493547036687,
          4189.755723872018,
          4295.229356846441,
          4401.746824069669,
          4509.284065285352,
          4617.81639924829,
          4727.318533745853,
          4837.764575924917,
          4949.128042918446,
          5061.381872765876,
          5174.498435621197,
          5288.449545242651,
          5403.206470757752,
          5518.739948697343,
          5635.020195292211,
          5752.0169190257475,
          5869.699333436041,
          5988.036170160685,
          6106.9956922175115,
          6226.545707514371,
          6346.653582581039,
          6467.28625651619,
          6588.410255142375,
          6709.991705361806,
          6831.996349705774,
          6954.3895610703275,
          7077.13635763098,
          7200.201417928926,
          7323.549096121405,
          7447.14343738864,
          7570.948193489874,
          7694.926838460851,
          7819.0425844451465,
          7943.258397651683,
          8067.537014430726,
          8191.840957460643,
          8316.132552037649,
          8440.37394246083,
          8564.527108504548,
          8688.553881970534,
          8812.415963311756,
          8936.07493832026,
          9059.492294871186,
          9182.62943971504,
          9305.44771531043,
          9427.908416689446,
          9549.972808347768,
          9671.602141151772,
          9792.757669254768,
          9913.400667014574,
          10033.492445904667,
          10152.994371411143,
          10271.867879907772,
          10390.074495501387,
          10507.575846840016,
          10624.333683876037,
          10740.309894576814,
          10855.4665215752,
          10969.765778752411,
          11083.170067745801,
          11195.641994374071,
          11307.144384972573,
          11417.640302631358,
          11527.093063328719,
          11635.466251952996,
          11742.72373820552,
          11848.829692377587,
          11953.748600994484,
          12057.445282319559,
          12159.884901711543,
          12261.032986828248,
          12360.855442669976,
          12459.318566455968,
          12556.389062327346,
          12652.034055870066,
          12746.221108451526,
          12838.918231364474,
          12930.093899772088,
          13019.717066448053,
          13107.757175305658,
          13194.18417470999,
          13278.968530567408,
          13362.0812391866,
          13443.493839905597,
          13523.178427479274,
          13601.107664221921,
          13677.25479189964,
          13751.593643367363,
          13824.098653945492,
          13894.74487253118,
          13963.507972439484,
          14030.364261969666,
          14095.290694692085,
          14158.26487945124,
          14219.26509008063,
          14278.270274825234,
          14335.260065467577,
          14390.214786153409,
          14443.115461913208,
          14493.94382687585,
          14542.68233217088,
          14589.31415351602,
          14633.823198486605,
          14676.194113463873,
          14716.412290259068,
          14754.46387241055,
          14790.335761151187,
          14824.015621043467,
          14855.49188527991,
          14884.753760646508,
          14911.791232147058,
          14936.5950672864,
          14959.156820010723,
          14979.468834303247,
          14997.52424743373,
          15013.316992860418,
          15026.841802783183,
          15038.094210346728,
          15047.070551492965,
          15053.76796646171,
          15058.184400939086,
          15060.318606853121,
          15060.170142816194,
          15057.739374214148,
          15053.027472942013,
          15046.036416786448,
          15036.768988455182,
          15025.228774253825,
          15011.420162410655,
          14995.348341050072,
          14977.01929581557,
          14956.439807143273,
          14933.617447187193,
          14908.560576397485,
          14881.278339753235,
          14851.780662651321,
          14820.078246453177,
          14786.182563691318,
          14750.105852937702,
          14711.861113336154,
          14671.46209880117,
          14628.923311885628,
          14584.259997320003,
          14537.48813522593,
          14488.624434006999,
          14437.686322919848,
          14384.691944328793,
          14329.660145647316,
          14272.610470969918,
          14213.563152397945,
          14152.539101063147,
          14089.55989785288,
          14024.64778384097,
          13957.825650428404,
          13889.11702919809,
          13818.546081488217,
          13746.137587688636,
          13671.916936265015,
          13595.910112515528,
          13518.143687065018,
          13438.644804101674,
          13357.44116936135,
          13274.561037864829,
          13190.03320141344,
          13103.88697584849,
          13016.152188080167,
          12926.85916289159,
          12836.038709523906,
          12743.72210804834,
          12649.941095531209,
          12554.727851998075,
          12458.114986203302,
          12360.135521211318,
          12260.822879796004,
          12160.210869664765,
          12058.33366851389,
          11955.22580892191,
          11850.92216308769,
          11745.457927420171,
          11638.868606986705,
          11531.189999826998,
          11422.458181139731,
          11312.70948734906,
          11201.980500058231,
          11090.308029897618,
          10977.729100274519,
          10864.280931032148,
          10750.000922025349,
          10634.926636620543,
          10519.095785127462,
          10402.546208170363,
          10285.315860006413,
          10167.442791798938,
          10048.965134853324,
          9929.921083823356,
          9810.348879895882,
          9690.286793961657,
          9569.773109780208,
          9448.846107146706,
          9327.544045068795,
          9205.905144961303,
          9083.967573866825,
          8961.769427710133,
          8839.348714594511,
          8716.74333814791,
          8593.991080926957,
          8471.129587886833,
          8348.196349925016,
          8225.228687506891,
          8102.263734381125,
          7979.338421392855,
          7856.489460402606,
          7733.753328318852,
          7611.166251252073,
          7488.764188798232,
          7366.582818459488,
          7244.657520209935,
          7123.023361214089,
          7001.715080705883,
          6880.767075035819,
          6760.213382893902,
          6640.08767071588,
          6520.423218280324,
          6401.252904503994,
          6282.6091934428805,
          6164.524120506181,
          6047.029278890488,
          5930.155806241368,
          5813.934371549391,
          5698.395162287623,
          5583.567871797464,
          5469.4816869297465,
          5356.165275947747,
          5243.646776698795,
          5131.953785060976,
          5021.113343671432,
          4911.15193094254,
          4802.095450372213,
          4693.969220154373,
          4586.797963095691,
          4480.6057968443765,
          4375.416224436793,
          4271.252125167488,
          4168.13574578818,
          4066.088692041045,
          3965.1319205314194,
          3865.285730945139,
          3766.5697586153583,
          3669.00296744365,
          3572.603643180031,
          3477.3893870663396,
          3383.37710984739,
          3290.5830261539686,
          3199.0226492617203,
          3108.710786229718,
          3019.661533422437,
          2931.8882724185696,
          2845.4036663100414,
          2760.2196563942944,
          2676.3474592628772,
          2593.7975642890688,
          2512.5797315171258,
          2432.7029899555146,
          2354.17563627639,
          2277.005233923326,
          2201.1986126290194,
          2126.7618683446544,
          2053.7003635823476,
          1982.018728171768,
          1911.720860432075,
          1842.8099287597815,
          1775.2883736332442,
          1709.1579100341223,
          1644.419530285817,
          1581.0735073089509,
          1519.1193982935238,
          1458.5560487872026,
          1399.3815971989752,
          1341.5934797172376,
          1285.1884356410847,
          1230.1625131233013,
          1176.5110753234603,
          1124.2288069691458,
          1073.3097213231958,
          1023.7471675545748,
          975.5338385101986,
          928.6617788849071,
          883.1223937864288,
          838.9064576920719,
          796.004123793351,
          754.4049337249544,
          714.0978276737769,
          675.071154863741,
          637.312684411876,
          600.8096165506922,
          565.5485942119212,
          531.5157149661572,
          498.6965433129244,
          467.07612331520613,
          436.63899157248306,
          407.3691905258802,
          379.2502820888185,
          352.2653615963536,
          326.3970720661073,
          301.6276187634794,
          277.9387840634681,
          255.31194260131633,
          233.72807670394832,
          213.1677920936345,
          193.6113338556006,
          175.03860266049742,
          157.4291712327613,
          140.7623010554853,
          125.0169593022747,
          110.17183598625707,
          96.20536131613335,
          83.09572324902365,
          70.82088522962295,
          59.35860410472924,
          48.68644820231384,
          38.78181556380696,
          29.6219523180971,
          21.183971185653718,
          13.444870100685876,
          6.3815509394225955,
          -0.029161658141674707
         ]
        }
       ],
       "layout": {
        "template": {
         "data": {
          "bar": [
           {
            "error_x": {
             "color": "#2a3f5f"
            },
            "error_y": {
             "color": "#2a3f5f"
            },
            "marker": {
             "line": {
              "color": "#E5ECF6",
              "width": 0.5
             },
             "pattern": {
              "fillmode": "overlay",
              "size": 10,
              "solidity": 0.2
             }
            },
            "type": "bar"
           }
          ],
          "barpolar": [
           {
            "marker": {
             "line": {
              "color": "#E5ECF6",
              "width": 0.5
             },
             "pattern": {
              "fillmode": "overlay",
              "size": 10,
              "solidity": 0.2
             }
            },
            "type": "barpolar"
           }
          ],
          "carpet": [
           {
            "aaxis": {
             "endlinecolor": "#2a3f5f",
             "gridcolor": "white",
             "linecolor": "white",
             "minorgridcolor": "white",
             "startlinecolor": "#2a3f5f"
            },
            "baxis": {
             "endlinecolor": "#2a3f5f",
             "gridcolor": "white",
             "linecolor": "white",
             "minorgridcolor": "white",
             "startlinecolor": "#2a3f5f"
            },
            "type": "carpet"
           }
          ],
          "choropleth": [
           {
            "colorbar": {
             "outlinewidth": 0,
             "ticks": ""
            },
            "type": "choropleth"
           }
          ],
          "contour": [
           {
            "colorbar": {
             "outlinewidth": 0,
             "ticks": ""
            },
            "colorscale": [
             [
              0,
              "#0d0887"
             ],
             [
              0.1111111111111111,
              "#46039f"
             ],
             [
              0.2222222222222222,
              "#7201a8"
             ],
             [
              0.3333333333333333,
              "#9c179e"
             ],
             [
              0.4444444444444444,
              "#bd3786"
             ],
             [
              0.5555555555555556,
              "#d8576b"
             ],
             [
              0.6666666666666666,
              "#ed7953"
             ],
             [
              0.7777777777777778,
              "#fb9f3a"
             ],
             [
              0.8888888888888888,
              "#fdca26"
             ],
             [
              1,
              "#f0f921"
             ]
            ],
            "type": "contour"
           }
          ],
          "contourcarpet": [
           {
            "colorbar": {
             "outlinewidth": 0,
             "ticks": ""
            },
            "type": "contourcarpet"
           }
          ],
          "heatmap": [
           {
            "colorbar": {
             "outlinewidth": 0,
             "ticks": ""
            },
            "colorscale": [
             [
              0,
              "#0d0887"
             ],
             [
              0.1111111111111111,
              "#46039f"
             ],
             [
              0.2222222222222222,
              "#7201a8"
             ],
             [
              0.3333333333333333,
              "#9c179e"
             ],
             [
              0.4444444444444444,
              "#bd3786"
             ],
             [
              0.5555555555555556,
              "#d8576b"
             ],
             [
              0.6666666666666666,
              "#ed7953"
             ],
             [
              0.7777777777777778,
              "#fb9f3a"
             ],
             [
              0.8888888888888888,
              "#fdca26"
             ],
             [
              1,
              "#f0f921"
             ]
            ],
            "type": "heatmap"
           }
          ],
          "heatmapgl": [
           {
            "colorbar": {
             "outlinewidth": 0,
             "ticks": ""
            },
            "colorscale": [
             [
              0,
              "#0d0887"
             ],
             [
              0.1111111111111111,
              "#46039f"
             ],
             [
              0.2222222222222222,
              "#7201a8"
             ],
             [
              0.3333333333333333,
              "#9c179e"
             ],
             [
              0.4444444444444444,
              "#bd3786"
             ],
             [
              0.5555555555555556,
              "#d8576b"
             ],
             [
              0.6666666666666666,
              "#ed7953"
             ],
             [
              0.7777777777777778,
              "#fb9f3a"
             ],
             [
              0.8888888888888888,
              "#fdca26"
             ],
             [
              1,
              "#f0f921"
             ]
            ],
            "type": "heatmapgl"
           }
          ],
          "histogram": [
           {
            "marker": {
             "pattern": {
              "fillmode": "overlay",
              "size": 10,
              "solidity": 0.2
             }
            },
            "type": "histogram"
           }
          ],
          "histogram2d": [
           {
            "colorbar": {
             "outlinewidth": 0,
             "ticks": ""
            },
            "colorscale": [
             [
              0,
              "#0d0887"
             ],
             [
              0.1111111111111111,
              "#46039f"
             ],
             [
              0.2222222222222222,
              "#7201a8"
             ],
             [
              0.3333333333333333,
              "#9c179e"
             ],
             [
              0.4444444444444444,
              "#bd3786"
             ],
             [
              0.5555555555555556,
              "#d8576b"
             ],
             [
              0.6666666666666666,
              "#ed7953"
             ],
             [
              0.7777777777777778,
              "#fb9f3a"
             ],
             [
              0.8888888888888888,
              "#fdca26"
             ],
             [
              1,
              "#f0f921"
             ]
            ],
            "type": "histogram2d"
           }
          ],
          "histogram2dcontour": [
           {
            "colorbar": {
             "outlinewidth": 0,
             "ticks": ""
            },
            "colorscale": [
             [
              0,
              "#0d0887"
             ],
             [
              0.1111111111111111,
              "#46039f"
             ],
             [
              0.2222222222222222,
              "#7201a8"
             ],
             [
              0.3333333333333333,
              "#9c179e"
             ],
             [
              0.4444444444444444,
              "#bd3786"
             ],
             [
              0.5555555555555556,
              "#d8576b"
             ],
             [
              0.6666666666666666,
              "#ed7953"
             ],
             [
              0.7777777777777778,
              "#fb9f3a"
             ],
             [
              0.8888888888888888,
              "#fdca26"
             ],
             [
              1,
              "#f0f921"
             ]
            ],
            "type": "histogram2dcontour"
           }
          ],
          "mesh3d": [
           {
            "colorbar": {
             "outlinewidth": 0,
             "ticks": ""
            },
            "type": "mesh3d"
           }
          ],
          "parcoords": [
           {
            "line": {
             "colorbar": {
              "outlinewidth": 0,
              "ticks": ""
             }
            },
            "type": "parcoords"
           }
          ],
          "pie": [
           {
            "automargin": true,
            "type": "pie"
           }
          ],
          "scatter": [
           {
            "fillpattern": {
             "fillmode": "overlay",
             "size": 10,
             "solidity": 0.2
            },
            "type": "scatter"
           }
          ],
          "scatter3d": [
           {
            "line": {
             "colorbar": {
              "outlinewidth": 0,
              "ticks": ""
             }
            },
            "marker": {
             "colorbar": {
              "outlinewidth": 0,
              "ticks": ""
             }
            },
            "type": "scatter3d"
           }
          ],
          "scattercarpet": [
           {
            "marker": {
             "colorbar": {
              "outlinewidth": 0,
              "ticks": ""
             }
            },
            "type": "scattercarpet"
           }
          ],
          "scattergeo": [
           {
            "marker": {
             "colorbar": {
              "outlinewidth": 0,
              "ticks": ""
             }
            },
            "type": "scattergeo"
           }
          ],
          "scattergl": [
           {
            "marker": {
             "colorbar": {
              "outlinewidth": 0,
              "ticks": ""
             }
            },
            "type": "scattergl"
           }
          ],
          "scattermapbox": [
           {
            "marker": {
             "colorbar": {
              "outlinewidth": 0,
              "ticks": ""
             }
            },
            "type": "scattermapbox"
           }
          ],
          "scatterpolar": [
           {
            "marker": {
             "colorbar": {
              "outlinewidth": 0,
              "ticks": ""
             }
            },
            "type": "scatterpolar"
           }
          ],
          "scatterpolargl": [
           {
            "marker": {
             "colorbar": {
              "outlinewidth": 0,
              "ticks": ""
             }
            },
            "type": "scatterpolargl"
           }
          ],
          "scatterternary": [
           {
            "marker": {
             "colorbar": {
              "outlinewidth": 0,
              "ticks": ""
             }
            },
            "type": "scatterternary"
           }
          ],
          "surface": [
           {
            "colorbar": {
             "outlinewidth": 0,
             "ticks": ""
            },
            "colorscale": [
             [
              0,
              "#0d0887"
             ],
             [
              0.1111111111111111,
              "#46039f"
             ],
             [
              0.2222222222222222,
              "#7201a8"
             ],
             [
              0.3333333333333333,
              "#9c179e"
             ],
             [
              0.4444444444444444,
              "#bd3786"
             ],
             [
              0.5555555555555556,
              "#d8576b"
             ],
             [
              0.6666666666666666,
              "#ed7953"
             ],
             [
              0.7777777777777778,
              "#fb9f3a"
             ],
             [
              0.8888888888888888,
              "#fdca26"
             ],
             [
              1,
              "#f0f921"
             ]
            ],
            "type": "surface"
           }
          ],
          "table": [
           {
            "cells": {
             "fill": {
              "color": "#EBF0F8"
             },
             "line": {
              "color": "white"
             }
            },
            "header": {
             "fill": {
              "color": "#C8D4E3"
             },
             "line": {
              "color": "white"
             }
            },
            "type": "table"
           }
          ]
         },
         "layout": {
          "annotationdefaults": {
           "arrowcolor": "#2a3f5f",
           "arrowhead": 0,
           "arrowwidth": 1
          },
          "autotypenumbers": "strict",
          "coloraxis": {
           "colorbar": {
            "outlinewidth": 0,
            "ticks": ""
           }
          },
          "colorscale": {
           "diverging": [
            [
             0,
             "#8e0152"
            ],
            [
             0.1,
             "#c51b7d"
            ],
            [
             0.2,
             "#de77ae"
            ],
            [
             0.3,
             "#f1b6da"
            ],
            [
             0.4,
             "#fde0ef"
            ],
            [
             0.5,
             "#f7f7f7"
            ],
            [
             0.6,
             "#e6f5d0"
            ],
            [
             0.7,
             "#b8e186"
            ],
            [
             0.8,
             "#7fbc41"
            ],
            [
             0.9,
             "#4d9221"
            ],
            [
             1,
             "#276419"
            ]
           ],
           "sequential": [
            [
             0,
             "#0d0887"
            ],
            [
             0.1111111111111111,
             "#46039f"
            ],
            [
             0.2222222222222222,
             "#7201a8"
            ],
            [
             0.3333333333333333,
             "#9c179e"
            ],
            [
             0.4444444444444444,
             "#bd3786"
            ],
            [
             0.5555555555555556,
             "#d8576b"
            ],
            [
             0.6666666666666666,
             "#ed7953"
            ],
            [
             0.7777777777777778,
             "#fb9f3a"
            ],
            [
             0.8888888888888888,
             "#fdca26"
            ],
            [
             1,
             "#f0f921"
            ]
           ],
           "sequentialminus": [
            [
             0,
             "#0d0887"
            ],
            [
             0.1111111111111111,
             "#46039f"
            ],
            [
             0.2222222222222222,
             "#7201a8"
            ],
            [
             0.3333333333333333,
             "#9c179e"
            ],
            [
             0.4444444444444444,
             "#bd3786"
            ],
            [
             0.5555555555555556,
             "#d8576b"
            ],
            [
             0.6666666666666666,
             "#ed7953"
            ],
            [
             0.7777777777777778,
             "#fb9f3a"
            ],
            [
             0.8888888888888888,
             "#fdca26"
            ],
            [
             1,
             "#f0f921"
            ]
           ]
          },
          "colorway": [
           "#636efa",
           "#EF553B",
           "#00cc96",
           "#ab63fa",
           "#FFA15A",
           "#19d3f3",
           "#FF6692",
           "#B6E880",
           "#FF97FF",
           "#FECB52"
          ],
          "font": {
           "color": "#2a3f5f"
          },
          "geo": {
           "bgcolor": "white",
           "lakecolor": "white",
           "landcolor": "#E5ECF6",
           "showlakes": true,
           "showland": true,
           "subunitcolor": "white"
          },
          "hoverlabel": {
           "align": "left"
          },
          "hovermode": "closest",
          "mapbox": {
           "style": "light"
          },
          "paper_bgcolor": "white",
          "plot_bgcolor": "#E5ECF6",
          "polar": {
           "angularaxis": {
            "gridcolor": "white",
            "linecolor": "white",
            "ticks": ""
           },
           "bgcolor": "#E5ECF6",
           "radialaxis": {
            "gridcolor": "white",
            "linecolor": "white",
            "ticks": ""
           }
          },
          "scene": {
           "xaxis": {
            "backgroundcolor": "#E5ECF6",
            "gridcolor": "white",
            "gridwidth": 2,
            "linecolor": "white",
            "showbackground": true,
            "ticks": "",
            "zerolinecolor": "white"
           },
           "yaxis": {
            "backgroundcolor": "#E5ECF6",
            "gridcolor": "white",
            "gridwidth": 2,
            "linecolor": "white",
            "showbackground": true,
            "ticks": "",
            "zerolinecolor": "white"
           },
           "zaxis": {
            "backgroundcolor": "#E5ECF6",
            "gridcolor": "white",
            "gridwidth": 2,
            "linecolor": "white",
            "showbackground": true,
            "ticks": "",
            "zerolinecolor": "white"
           }
          },
          "shapedefaults": {
           "line": {
            "color": "#2a3f5f"
           }
          },
          "ternary": {
           "aaxis": {
            "gridcolor": "white",
            "linecolor": "white",
            "ticks": ""
           },
           "baxis": {
            "gridcolor": "white",
            "linecolor": "white",
            "ticks": ""
           },
           "bgcolor": "#E5ECF6",
           "caxis": {
            "gridcolor": "white",
            "linecolor": "white",
            "ticks": ""
           }
          },
          "title": {
           "x": 0.05
          },
          "xaxis": {
           "automargin": true,
           "gridcolor": "white",
           "linecolor": "white",
           "ticks": "",
           "title": {
            "standoff": 15
           },
           "zerolinecolor": "white",
           "zerolinewidth": 2
          },
          "yaxis": {
           "automargin": true,
           "gridcolor": "white",
           "linecolor": "white",
           "ticks": "",
           "title": {
            "standoff": 15
           },
           "zerolinecolor": "white",
           "zerolinewidth": 2
          }
         }
        }
       }
      }
     },
     "metadata": {},
     "output_type": "display_data"
    }
   ],
   "source": [
    "# Вычисляем среднюю оценку\n",
    "df['average_grade'] = (df['G1'] + df['G2'] + df['G3']) / 3\n",
    "\n",
    "# Вычисляем суммарное потребление алкоголя\n",
    "df['total_alcohol_consumption'] = df['Dalc'] + df['Walc']\n",
    "\n",
    "# Усредняем соответствующие y-значения для одинаковых x\n",
    "df_grouped = df.groupby('average_grade')['total_alcohol_consumption'].mean().reset_index()\n",
    "\n",
    "# Выбираем x точек данных для интерполяции\n",
    "x = df_grouped['average_grade'][9:25].to_numpy()\n",
    "y = df_grouped['total_alcohol_consumption'][9:25].to_numpy()\n",
    "\n",
    "x = x - np.mean(x)\n",
    "x = x/np.max(x)\n",
    "\n",
    "y = y - np.mean(y)\n",
    "y = y/np.max(y)\n",
    "\n",
    "x1 = np.arange(x[0], x[15]+0.005, 0.005)\n",
    "\n",
    "poly = lagrange(x, y)\n",
    "y1 = Polynomial(poly.coef[::1])(x1)\n",
    "\n",
    "fig = go.Figure()\n",
    "\n",
    "# Добавляем исходные данные\n",
    "fig.add_trace(go.Scatter(\n",
    "    x=x,\n",
    "    y=y,\n",
    "    mode='markers',\n",
    "    name='Исходные данные'\n",
    "))\n",
    "\n",
    "# Добавляем интерполяционные данные\n",
    "fig.add_trace(go.Scatter(\n",
    "    x=x1,\n",
    "    y=y1,\n",
    "    mode='lines',\n",
    "    name='Интерполяция Лагранжа'\n",
    "))"
   ]
  }
 ],
 "metadata": {
  "kernelspec": {
   "display_name": "venv",
   "language": "python",
   "name": "python3"
  },
  "language_info": {
   "codemirror_mode": {
    "name": "ipython",
    "version": 3
   },
   "file_extension": ".py",
   "mimetype": "text/x-python",
   "name": "python",
   "nbconvert_exporter": "python",
   "pygments_lexer": "ipython3",
   "version": "3.10.2"
  },
  "orig_nbformat": 4
 },
 "nbformat": 4,
 "nbformat_minor": 2
}
